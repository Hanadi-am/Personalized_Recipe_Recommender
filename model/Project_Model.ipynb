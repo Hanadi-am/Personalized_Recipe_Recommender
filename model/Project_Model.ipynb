{
 "cells": [
  {
   "cell_type": "code",
   "execution_count": 1,
   "metadata": {},
   "outputs": [],
   "source": [
    "#libraries\n",
    "import pandas as pd\n",
    "import numpy as np\n",
    "from sklearn.feature_extraction.text import TfidfVectorizer\n",
    "from scipy.spatial.distance import cosine, euclidean, hamming\n",
    "from sklearn.metrics.pairwise import linear_kernel\n"
   ]
  },
  {
   "cell_type": "code",
   "execution_count": 2,
   "metadata": {},
   "outputs": [
    {
     "data": {
      "text/html": [
       "<div>\n",
       "<style scoped>\n",
       "    .dataframe tbody tr th:only-of-type {\n",
       "        vertical-align: middle;\n",
       "    }\n",
       "\n",
       "    .dataframe tbody tr th {\n",
       "        vertical-align: top;\n",
       "    }\n",
       "\n",
       "    .dataframe thead th {\n",
       "        text-align: right;\n",
       "    }\n",
       "</style>\n",
       "<table border=\"1\" class=\"dataframe\">\n",
       "  <thead>\n",
       "    <tr style=\"text-align: right;\">\n",
       "      <th></th>\n",
       "      <th>name</th>\n",
       "      <th>url</th>\n",
       "      <th>category</th>\n",
       "      <th>rating</th>\n",
       "      <th>rating_count</th>\n",
       "      <th>ingredients</th>\n",
       "      <th>total</th>\n",
       "      <th>servings</th>\n",
       "      <th>yield</th>\n",
       "      <th>calories</th>\n",
       "      <th>carbohydrates_g</th>\n",
       "      <th>fat_g</th>\n",
       "      <th>protein_g</th>\n",
       "      <th>ingredients_parsed</th>\n",
       "    </tr>\n",
       "  </thead>\n",
       "  <tbody>\n",
       "    <tr>\n",
       "      <th>7358</th>\n",
       "      <td>Maple Dill Carrots</td>\n",
       "      <td>https://www.allrecipes.com/recipe/87694/maple-...</td>\n",
       "      <td>side-dish</td>\n",
       "      <td>4.57</td>\n",
       "      <td>729</td>\n",
       "      <td>['3 cups peeled and sliced carrots ', ' 2 tabl...</td>\n",
       "      <td>20</td>\n",
       "      <td>4</td>\n",
       "      <td>4 servings</td>\n",
       "      <td>117.3</td>\n",
       "      <td>16.1</td>\n",
       "      <td>6.0</td>\n",
       "      <td>1.0</td>\n",
       "      <td>['carrot', 'butter', 'sugar']</td>\n",
       "    </tr>\n",
       "    <tr>\n",
       "      <th>2656</th>\n",
       "      <td>Dill Pickle Soup</td>\n",
       "      <td>https://www.allrecipes.com/recipe/54804/dill-p...</td>\n",
       "      <td>soups-stews-and-chili</td>\n",
       "      <td>4.31</td>\n",
       "      <td>205</td>\n",
       "      <td>['2 tablespoons butter ', ' ½ cup all-purpose ...</td>\n",
       "      <td>30</td>\n",
       "      <td>8</td>\n",
       "      <td>8 servings</td>\n",
       "      <td>104.3</td>\n",
       "      <td>13.7</td>\n",
       "      <td>4.2</td>\n",
       "      <td>3.1</td>\n",
       "      <td>['butter', 'flour', 'chicken broth', 'pickle',...</td>\n",
       "    </tr>\n",
       "    <tr>\n",
       "      <th>12521</th>\n",
       "      <td>White Bean Tabbouleh</td>\n",
       "      <td>https://www.allrecipes.com/recipe/205611/white...</td>\n",
       "      <td>salad</td>\n",
       "      <td>4.74</td>\n",
       "      <td>46</td>\n",
       "      <td>['1 cup bulgur wheat, uncooked ', ' 1\\u2009½ c...</td>\n",
       "      <td>110</td>\n",
       "      <td>6</td>\n",
       "      <td>6 servings</td>\n",
       "      <td>197.2</td>\n",
       "      <td>24.8</td>\n",
       "      <td>9.7</td>\n",
       "      <td>5.6</td>\n",
       "      <td>['bulgur', 'spinach', 'cannellini']</td>\n",
       "    </tr>\n",
       "  </tbody>\n",
       "</table>\n",
       "</div>"
      ],
      "text/plain": [
       "                       name  \\\n",
       "7358     Maple Dill Carrots   \n",
       "2656       Dill Pickle Soup   \n",
       "12521  White Bean Tabbouleh   \n",
       "\n",
       "                                                     url  \\\n",
       "7358   https://www.allrecipes.com/recipe/87694/maple-...   \n",
       "2656   https://www.allrecipes.com/recipe/54804/dill-p...   \n",
       "12521  https://www.allrecipes.com/recipe/205611/white...   \n",
       "\n",
       "                    category  rating  rating_count  \\\n",
       "7358               side-dish    4.57           729   \n",
       "2656   soups-stews-and-chili    4.31           205   \n",
       "12521                  salad    4.74            46   \n",
       "\n",
       "                                             ingredients  total  servings  \\\n",
       "7358   ['3 cups peeled and sliced carrots ', ' 2 tabl...     20         4   \n",
       "2656   ['2 tablespoons butter ', ' ½ cup all-purpose ...     30         8   \n",
       "12521  ['1 cup bulgur wheat, uncooked ', ' 1\\u2009½ c...    110         6   \n",
       "\n",
       "            yield  calories  carbohydrates_g  fat_g  protein_g  \\\n",
       "7358   4 servings     117.3             16.1    6.0        1.0   \n",
       "2656   8 servings     104.3             13.7    4.2        3.1   \n",
       "12521  6 servings     197.2             24.8    9.7        5.6   \n",
       "\n",
       "                                      ingredients_parsed  \n",
       "7358                       ['carrot', 'butter', 'sugar']  \n",
       "2656   ['butter', 'flour', 'chicken broth', 'pickle',...  \n",
       "12521                ['bulgur', 'spinach', 'cannellini']  "
      ]
     },
     "execution_count": 2,
     "metadata": {},
     "output_type": "execute_result"
    }
   ],
   "source": [
    "#read the data & have randome sample for reproducability\n",
    "recipes = pd.read_csv('../data/full_clean_data.csv')\n",
    "recipes.sample(3, random_state=123)"
   ]
  },
  {
   "cell_type": "code",
   "execution_count": 3,
   "metadata": {},
   "outputs": [
    {
     "data": {
      "text/html": [
       "<div>\n",
       "<style scoped>\n",
       "    .dataframe tbody tr th:only-of-type {\n",
       "        vertical-align: middle;\n",
       "    }\n",
       "\n",
       "    .dataframe tbody tr th {\n",
       "        vertical-align: top;\n",
       "    }\n",
       "\n",
       "    .dataframe thead th {\n",
       "        text-align: right;\n",
       "    }\n",
       "</style>\n",
       "<table border=\"1\" class=\"dataframe\">\n",
       "  <thead>\n",
       "    <tr style=\"text-align: right;\">\n",
       "      <th></th>\n",
       "      <th>name</th>\n",
       "      <th>url</th>\n",
       "      <th>category</th>\n",
       "      <th>rating</th>\n",
       "      <th>rating_count</th>\n",
       "      <th>ingredients</th>\n",
       "      <th>total</th>\n",
       "      <th>servings</th>\n",
       "      <th>yield</th>\n",
       "      <th>calories</th>\n",
       "      <th>carbohydrates_g</th>\n",
       "      <th>fat_g</th>\n",
       "      <th>protein_g</th>\n",
       "      <th>ingredients_parsed</th>\n",
       "    </tr>\n",
       "    <tr>\n",
       "      <th>recipes_id</th>\n",
       "      <th></th>\n",
       "      <th></th>\n",
       "      <th></th>\n",
       "      <th></th>\n",
       "      <th></th>\n",
       "      <th></th>\n",
       "      <th></th>\n",
       "      <th></th>\n",
       "      <th></th>\n",
       "      <th></th>\n",
       "      <th></th>\n",
       "      <th></th>\n",
       "      <th></th>\n",
       "      <th></th>\n",
       "    </tr>\n",
       "  </thead>\n",
       "  <tbody>\n",
       "    <tr>\n",
       "      <th>0</th>\n",
       "      <td>Dessert Crepes</td>\n",
       "      <td>https://www.allrecipes.com/recipe/19037/desser...</td>\n",
       "      <td>breakfast-and-brunch</td>\n",
       "      <td>4.80</td>\n",
       "      <td>1156</td>\n",
       "      <td>['4  eggs, lightly beaten ', ' 1\\u2009⅓ cups m...</td>\n",
       "      <td>20</td>\n",
       "      <td>8</td>\n",
       "      <td>8 crepes</td>\n",
       "      <td>163.8</td>\n",
       "      <td>17.2</td>\n",
       "      <td>7.7</td>\n",
       "      <td>6.4</td>\n",
       "      <td>['milk', 'flour', 'sugar']</td>\n",
       "    </tr>\n",
       "    <tr>\n",
       "      <th>1</th>\n",
       "      <td>Chicken Parmesan</td>\n",
       "      <td>https://www.allrecipes.com/recipe/223042/chick...</td>\n",
       "      <td>world-cuisine</td>\n",
       "      <td>4.83</td>\n",
       "      <td>4245</td>\n",
       "      <td>['4  skinless, boneless chicken breast halves ...</td>\n",
       "      <td>60</td>\n",
       "      <td>4</td>\n",
       "      <td>4 servings</td>\n",
       "      <td>470.8</td>\n",
       "      <td>24.8</td>\n",
       "      <td>24.9</td>\n",
       "      <td>42.1</td>\n",
       "      <td>['chicken breast', 'egg', 'panko bread', 'parm...</td>\n",
       "    </tr>\n",
       "  </tbody>\n",
       "</table>\n",
       "</div>"
      ],
      "text/plain": [
       "                        name  \\\n",
       "recipes_id                     \n",
       "0             Dessert Crepes   \n",
       "1           Chicken Parmesan   \n",
       "\n",
       "                                                          url  \\\n",
       "recipes_id                                                      \n",
       "0           https://www.allrecipes.com/recipe/19037/desser...   \n",
       "1           https://www.allrecipes.com/recipe/223042/chick...   \n",
       "\n",
       "                        category  rating  rating_count  \\\n",
       "recipes_id                                               \n",
       "0           breakfast-and-brunch    4.80          1156   \n",
       "1                  world-cuisine    4.83          4245   \n",
       "\n",
       "                                                  ingredients  total  \\\n",
       "recipes_id                                                             \n",
       "0           ['4  eggs, lightly beaten ', ' 1\\u2009⅓ cups m...     20   \n",
       "1           ['4  skinless, boneless chicken breast halves ...     60   \n",
       "\n",
       "            servings       yield  calories  carbohydrates_g  fat_g  protein_g  \\\n",
       "recipes_id                                                                      \n",
       "0                  8    8 crepes     163.8             17.2    7.7        6.4   \n",
       "1                  4  4 servings     470.8             24.8   24.9       42.1   \n",
       "\n",
       "                                           ingredients_parsed  \n",
       "recipes_id                                                     \n",
       "0                                  ['milk', 'flour', 'sugar']  \n",
       "1           ['chicken breast', 'egg', 'panko bread', 'parm...  "
      ]
     },
     "execution_count": 3,
     "metadata": {},
     "output_type": "execute_result"
    }
   ],
   "source": [
    "##rename the dataframe id\n",
    "recipes.index.names = ['recipes_id']\n",
    "recipes.head(2)"
   ]
  },
  {
   "cell_type": "code",
   "execution_count": 4,
   "metadata": {},
   "outputs": [
    {
     "name": "stderr",
     "output_type": "stream",
     "text": [
      "/tmp/ipykernel_13906/1542198556.py:2: FutureWarning: The default value of regex will change from True to False in a future version.\n",
      "  recipes['ingredients_parsed'] = recipes['ingredients_parsed'].str.replace('[^\\w\\s]','')\n"
     ]
    },
    {
     "data": {
      "text/html": [
       "<div>\n",
       "<style scoped>\n",
       "    .dataframe tbody tr th:only-of-type {\n",
       "        vertical-align: middle;\n",
       "    }\n",
       "\n",
       "    .dataframe tbody tr th {\n",
       "        vertical-align: top;\n",
       "    }\n",
       "\n",
       "    .dataframe thead th {\n",
       "        text-align: right;\n",
       "    }\n",
       "</style>\n",
       "<table border=\"1\" class=\"dataframe\">\n",
       "  <thead>\n",
       "    <tr style=\"text-align: right;\">\n",
       "      <th></th>\n",
       "      <th>name</th>\n",
       "      <th>url</th>\n",
       "      <th>category</th>\n",
       "      <th>rating</th>\n",
       "      <th>rating_count</th>\n",
       "      <th>ingredients</th>\n",
       "      <th>total</th>\n",
       "      <th>servings</th>\n",
       "      <th>yield</th>\n",
       "      <th>calories</th>\n",
       "      <th>carbohydrates_g</th>\n",
       "      <th>fat_g</th>\n",
       "      <th>protein_g</th>\n",
       "      <th>ingredients_parsed</th>\n",
       "    </tr>\n",
       "    <tr>\n",
       "      <th>recipes_id</th>\n",
       "      <th></th>\n",
       "      <th></th>\n",
       "      <th></th>\n",
       "      <th></th>\n",
       "      <th></th>\n",
       "      <th></th>\n",
       "      <th></th>\n",
       "      <th></th>\n",
       "      <th></th>\n",
       "      <th></th>\n",
       "      <th></th>\n",
       "      <th></th>\n",
       "      <th></th>\n",
       "      <th></th>\n",
       "    </tr>\n",
       "  </thead>\n",
       "  <tbody>\n",
       "    <tr>\n",
       "      <th>0</th>\n",
       "      <td>Dessert Crepes</td>\n",
       "      <td>https://www.allrecipes.com/recipe/19037/desser...</td>\n",
       "      <td>breakfast-and-brunch</td>\n",
       "      <td>4.80</td>\n",
       "      <td>1156</td>\n",
       "      <td>['4  eggs, lightly beaten ', ' 1\\u2009⅓ cups m...</td>\n",
       "      <td>20</td>\n",
       "      <td>8</td>\n",
       "      <td>8 crepes</td>\n",
       "      <td>163.8</td>\n",
       "      <td>17.2</td>\n",
       "      <td>7.7</td>\n",
       "      <td>6.4</td>\n",
       "      <td>milk flour sugar</td>\n",
       "    </tr>\n",
       "    <tr>\n",
       "      <th>1</th>\n",
       "      <td>Chicken Parmesan</td>\n",
       "      <td>https://www.allrecipes.com/recipe/223042/chick...</td>\n",
       "      <td>world-cuisine</td>\n",
       "      <td>4.83</td>\n",
       "      <td>4245</td>\n",
       "      <td>['4  skinless, boneless chicken breast halves ...</td>\n",
       "      <td>60</td>\n",
       "      <td>4</td>\n",
       "      <td>4 servings</td>\n",
       "      <td>470.8</td>\n",
       "      <td>24.8</td>\n",
       "      <td>24.9</td>\n",
       "      <td>42.1</td>\n",
       "      <td>chicken breast egg panko bread parmesan cheese...</td>\n",
       "    </tr>\n",
       "  </tbody>\n",
       "</table>\n",
       "</div>"
      ],
      "text/plain": [
       "                        name  \\\n",
       "recipes_id                     \n",
       "0             Dessert Crepes   \n",
       "1           Chicken Parmesan   \n",
       "\n",
       "                                                          url  \\\n",
       "recipes_id                                                      \n",
       "0           https://www.allrecipes.com/recipe/19037/desser...   \n",
       "1           https://www.allrecipes.com/recipe/223042/chick...   \n",
       "\n",
       "                        category  rating  rating_count  \\\n",
       "recipes_id                                               \n",
       "0           breakfast-and-brunch    4.80          1156   \n",
       "1                  world-cuisine    4.83          4245   \n",
       "\n",
       "                                                  ingredients  total  \\\n",
       "recipes_id                                                             \n",
       "0           ['4  eggs, lightly beaten ', ' 1\\u2009⅓ cups m...     20   \n",
       "1           ['4  skinless, boneless chicken breast halves ...     60   \n",
       "\n",
       "            servings       yield  calories  carbohydrates_g  fat_g  protein_g  \\\n",
       "recipes_id                                                                      \n",
       "0                  8    8 crepes     163.8             17.2    7.7        6.4   \n",
       "1                  4  4 servings     470.8             24.8   24.9       42.1   \n",
       "\n",
       "                                           ingredients_parsed  \n",
       "recipes_id                                                     \n",
       "0                                            milk flour sugar  \n",
       "1           chicken breast egg panko bread parmesan cheese...  "
      ]
     },
     "execution_count": 4,
     "metadata": {},
     "output_type": "execute_result"
    }
   ],
   "source": [
    "##remove punctuation from parsed_ingredients?\n",
    "recipes['ingredients_parsed'] = recipes['ingredients_parsed'].str.replace('[^\\w\\s]','')\n",
    "recipes.head(2)"
   ]
  },
  {
   "cell_type": "code",
   "execution_count": 5,
   "metadata": {},
   "outputs": [
    {
     "data": {
      "text/plain": [
       "(19224, 2615)"
      ]
     },
     "execution_count": 5,
     "metadata": {},
     "output_type": "execute_result"
    }
   ],
   "source": [
    "## Recomend a recipe based on the ingredient of another recipe < guider reference: https://www.datacamp.com/tutorial/recommender-systems-python \n",
    "## Term Frequency-Inverse Document Frequency(TF-IDF)\n",
    "#Produce a matrix where each column represents a word in the ingredients and each column represents a recipe.\n",
    "#The score is the frequency of a word occurring in a document, down-weighted by the number of documents in which it occurs.\n",
    "\n",
    "tfidf = TfidfVectorizer()\n",
    "tfidf_matrix = tfidf.fit_transform(recipes['ingredients_parsed'])\n",
    "tfidf_matrix.shape"
   ]
  },
  {
   "cell_type": "code",
   "execution_count": 6,
   "metadata": {},
   "outputs": [
    {
     "data": {
      "text/plain": [
       "(19224, 19224)"
      ]
     },
     "execution_count": 6,
     "metadata": {},
     "output_type": "execute_result"
    }
   ],
   "source": [
    "#compute the similarity score\n",
    "cosine_similarity = linear_kernel(tfidf_matrix, tfidf_matrix)\n",
    "cosine_similarity.shape"
   ]
  },
  {
   "cell_type": "code",
   "execution_count": 8,
   "metadata": {},
   "outputs": [
    {
     "data": {
      "text/plain": [
       "name\n",
       "Two-Ingredient Pizza Dough    3\n",
       "Basic Mashed Potatoes         4\n",
       "Classic Waffles               5\n",
       "Name: recipes_id, dtype: int64"
      ]
     },
     "execution_count": 8,
     "metadata": {},
     "output_type": "execute_result"
    }
   ],
   "source": [
    "#Reverse mapping to identify the index of a recipe in the dataset, given its name.\n",
    "indices = pd.Series(recipes.index, index=recipes['name'])\n",
    "indices[3:6]"
   ]
  },
  {
   "cell_type": "code",
   "execution_count": 13,
   "metadata": {},
   "outputs": [],
   "source": [
    "#Defined a function\n",
    "def recommend_recipe(name, cosine_similarity=cosine_similarity):\n",
    "    #match the recipe name with the index\n",
    "    indice = indices[name]\n",
    "    #get the similarity score of other recipes with it\n",
    "    similarity_score = list(enumerate(cosine_similarity[indice]))\n",
    "    #sort them based on the score\n",
    "    similarity_score = sorted(similarity_score, key = lambda x: x[1], reverse=True)\n",
    "    #get the score of top 10 most similar\n",
    "    similarity_score = similarity_score[1:4]\n",
    "    #get the recipe indices\n",
    "    recipe_indices = [i[0] for i in similarity_score]\n",
    "    #return the top 3\n",
    "    return recipes['name'].iloc[recipe_indices]\n"
   ]
  },
  {
   "cell_type": "code",
   "execution_count": 14,
   "metadata": {},
   "outputs": [
    {
     "data": {
      "text/plain": [
       "recipes_id\n",
       "22              Fluffy Pancakes\n",
       "461    Fluffy Flapjack Pancakes\n",
       "485      Old-Fashioned Pancakes\n",
       "Name: name, dtype: object"
      ]
     },
     "execution_count": 14,
     "metadata": {},
     "output_type": "execute_result"
    }
   ],
   "source": [
    "recommend_recipe('Classic Waffles')"
   ]
  }
 ],
 "metadata": {
  "kernelspec": {
   "display_name": "Python 3.9.12 ('base')",
   "language": "python",
   "name": "python3"
  },
  "language_info": {
   "codemirror_mode": {
    "name": "ipython",
    "version": 3
   },
   "file_extension": ".py",
   "mimetype": "text/x-python",
   "name": "python",
   "nbconvert_exporter": "python",
   "pygments_lexer": "ipython3",
   "version": "3.9.12"
  },
  "orig_nbformat": 4,
  "vscode": {
   "interpreter": {
    "hash": "d4d1e4263499bec80672ea0156c357c1ee493ec2b1c70f0acce89fc37c4a6abe"
   }
  }
 },
 "nbformat": 4,
 "nbformat_minor": 2
}
