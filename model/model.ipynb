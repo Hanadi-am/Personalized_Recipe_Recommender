{
 "cells": [
  {
   "cell_type": "code",
   "execution_count": 71,
   "metadata": {},
   "outputs": [],
   "source": [
    "#libraries\n",
    "import pandas as pd\n",
    "import numpy as np\n",
    "from scipy.spatial.distance import cosine\n",
    "from sklearn.preprocessing import normalize"
   ]
  },
  {
   "cell_type": "code",
   "execution_count": 72,
   "metadata": {},
   "outputs": [],
   "source": [
    "#read the data & have randome sample for reproducability\n",
    "recipes = pd.read_csv('../data/full_clean_data.csv')"
   ]
  },
  {
   "cell_type": "code",
   "execution_count": 73,
   "metadata": {},
   "outputs": [
    {
     "data": {
      "text/html": [
       "<div>\n",
       "<style scoped>\n",
       "    .dataframe tbody tr th:only-of-type {\n",
       "        vertical-align: middle;\n",
       "    }\n",
       "\n",
       "    .dataframe tbody tr th {\n",
       "        vertical-align: top;\n",
       "    }\n",
       "\n",
       "    .dataframe thead th {\n",
       "        text-align: right;\n",
       "    }\n",
       "</style>\n",
       "<table border=\"1\" class=\"dataframe\">\n",
       "  <thead>\n",
       "    <tr style=\"text-align: right;\">\n",
       "      <th></th>\n",
       "      <th>name</th>\n",
       "      <th>url</th>\n",
       "      <th>category</th>\n",
       "      <th>rating</th>\n",
       "      <th>rating_count</th>\n",
       "      <th>ingredients</th>\n",
       "      <th>total</th>\n",
       "      <th>servings</th>\n",
       "      <th>yield</th>\n",
       "      <th>calories</th>\n",
       "      <th>carbohydrates_g</th>\n",
       "      <th>fat_g</th>\n",
       "      <th>protein_g</th>\n",
       "      <th>ingredients_parsed</th>\n",
       "    </tr>\n",
       "    <tr>\n",
       "      <th>recipes_id</th>\n",
       "      <th></th>\n",
       "      <th></th>\n",
       "      <th></th>\n",
       "      <th></th>\n",
       "      <th></th>\n",
       "      <th></th>\n",
       "      <th></th>\n",
       "      <th></th>\n",
       "      <th></th>\n",
       "      <th></th>\n",
       "      <th></th>\n",
       "      <th></th>\n",
       "      <th></th>\n",
       "      <th></th>\n",
       "    </tr>\n",
       "  </thead>\n",
       "  <tbody>\n",
       "    <tr>\n",
       "      <th>0</th>\n",
       "      <td>Dessert Crepes</td>\n",
       "      <td>https://www.allrecipes.com/recipe/19037/desser...</td>\n",
       "      <td>breakfast-and-brunch</td>\n",
       "      <td>4.8</td>\n",
       "      <td>1156</td>\n",
       "      <td>['4  eggs, lightly beaten ', ' 1\\u2009⅓ cups m...</td>\n",
       "      <td>20</td>\n",
       "      <td>8</td>\n",
       "      <td>8 crepes</td>\n",
       "      <td>163.8</td>\n",
       "      <td>17.2</td>\n",
       "      <td>7.7</td>\n",
       "      <td>6.4</td>\n",
       "      <td>['milk', 'flour', 'sugar']</td>\n",
       "    </tr>\n",
       "  </tbody>\n",
       "</table>\n",
       "</div>"
      ],
      "text/plain": [
       "                      name                                                url  \\\n",
       "recipes_id                                                                      \n",
       "0           Dessert Crepes  https://www.allrecipes.com/recipe/19037/desser...   \n",
       "\n",
       "                        category  rating  rating_count  \\\n",
       "recipes_id                                               \n",
       "0           breakfast-and-brunch     4.8          1156   \n",
       "\n",
       "                                                  ingredients  total  \\\n",
       "recipes_id                                                             \n",
       "0           ['4  eggs, lightly beaten ', ' 1\\u2009⅓ cups m...     20   \n",
       "\n",
       "            servings     yield  calories  carbohydrates_g  fat_g  protein_g  \\\n",
       "recipes_id                                                                    \n",
       "0                  8  8 crepes     163.8             17.2    7.7        6.4   \n",
       "\n",
       "                    ingredients_parsed  \n",
       "recipes_id                              \n",
       "0           ['milk', 'flour', 'sugar']  "
      ]
     },
     "execution_count": 73,
     "metadata": {},
     "output_type": "execute_result"
    }
   ],
   "source": [
    "##rename the dataframe index\n",
    "recipes.index.names = ['recipes_id']\n",
    "recipes.head(1)"
   ]
  },
  {
   "cell_type": "code",
   "execution_count": 74,
   "metadata": {},
   "outputs": [
    {
     "data": {
      "text/html": [
       "<div>\n",
       "<style scoped>\n",
       "    .dataframe tbody tr th:only-of-type {\n",
       "        vertical-align: middle;\n",
       "    }\n",
       "\n",
       "    .dataframe tbody tr th {\n",
       "        vertical-align: top;\n",
       "    }\n",
       "\n",
       "    .dataframe thead th {\n",
       "        text-align: right;\n",
       "    }\n",
       "</style>\n",
       "<table border=\"1\" class=\"dataframe\">\n",
       "  <thead>\n",
       "    <tr style=\"text-align: right;\">\n",
       "      <th></th>\n",
       "      <th>total</th>\n",
       "      <th>calories</th>\n",
       "      <th>carbohydrates_g</th>\n",
       "      <th>fat_g</th>\n",
       "      <th>protein_g</th>\n",
       "    </tr>\n",
       "    <tr>\n",
       "      <th>recipes_id</th>\n",
       "      <th></th>\n",
       "      <th></th>\n",
       "      <th></th>\n",
       "      <th></th>\n",
       "      <th></th>\n",
       "    </tr>\n",
       "  </thead>\n",
       "  <tbody>\n",
       "    <tr>\n",
       "      <th>0</th>\n",
       "      <td>0.000837</td>\n",
       "      <td>0.003888</td>\n",
       "      <td>0.003539</td>\n",
       "      <td>0.003818</td>\n",
       "      <td>0.002726</td>\n",
       "    </tr>\n",
       "    <tr>\n",
       "      <th>1</th>\n",
       "      <td>0.002512</td>\n",
       "      <td>0.011174</td>\n",
       "      <td>0.005103</td>\n",
       "      <td>0.012346</td>\n",
       "      <td>0.017931</td>\n",
       "    </tr>\n",
       "  </tbody>\n",
       "</table>\n",
       "</div>"
      ],
      "text/plain": [
       "               total  calories  carbohydrates_g     fat_g  protein_g\n",
       "recipes_id                                                          \n",
       "0           0.000837  0.003888         0.003539  0.003818   0.002726\n",
       "1           0.002512  0.011174         0.005103  0.012346   0.017931"
      ]
     },
     "execution_count": 74,
     "metadata": {},
     "output_type": "execute_result"
    }
   ],
   "source": [
    "##normalize the numerical column (total+nutritional values) in new dataframe << because i dont want to normalize all other features\n",
    "newrecipes = recipes[['total', 'calories', 'carbohydrates_g', 'fat_g', 'protein_g']]\n",
    "recipes_norm = pd.DataFrame(normalize(newrecipes, axis=0))\n",
    "recipes_norm.columns = newrecipes.columns\n",
    "recipes_norm.index = newrecipes.index\n",
    "recipes_norm.head(2)"
   ]
  },
  {
   "cell_type": "code",
   "execution_count": 75,
   "metadata": {},
   "outputs": [],
   "source": [
    "##convert index to column\n",
    "recipes['recipes_id'] = recipes.index\n"
   ]
  },
  {
   "cell_type": "code",
   "execution_count": 76,
   "metadata": {},
   "outputs": [],
   "source": [
    "\n",
    "#####creare a function for selected recipe. Guidance reference https://www.kaggle.com/code/yyzz1010/content-based-filtering-recipe-recommender?scriptVersionId=21219821&cellId=22 \n",
    "def selected_recipe(recipes_id):\n",
    "     recipe_df = recipes.set_index('recipes_id') # set a new index to this DataFrame\n",
    "     x = \"{}  {}\".format(recipes_id, recipe_df.at[recipes_id, 'name'])\n",
    "      #placeholders \n",
    "     print(x)"
   ]
  },
  {
   "cell_type": "code",
   "execution_count": 77,
   "metadata": {},
   "outputs": [],
   "source": [
    "#####creare a function that recommends top 3 similar recipe using cosine. Guidance reference https://www.kaggle.com/code/yyzz1010/content-based-filtering-recipe-recommender?scriptVersionId=21219821&cellId=23\n",
    "def recipe_recommender(recipes_id):\n",
    "    \n",
    "     allRecipes = pd.DataFrame(recipes_norm.index)\n",
    "     allRecipes = allRecipes[allRecipes.recipes_id != recipes_id]\n",
    "     allRecipes[\"distance\"] = allRecipes[\"recipes_id\"].apply(lambda x: cosine(recipes_norm.loc[recipes_id], recipes_norm.loc[x]))\n",
    "     Top3NRecommendation = allRecipes.sort_values([\"distance\"]).head(3).sort_values(by=['distance', 'recipes_id'])\n",
    "     # sort by distance then recipe id, the smaller value of recipe id will be picked. \n",
    "    \n",
    "     recipe_df = recipes.set_index('recipes_id')\n",
    "     recipes_id = [recipes_id]\n",
    "     recipe_list = [] #'name', 'url', 'total cooking time', 'cal', 'carbs', 'fat','protein'\n",
    "     for recipeid in Top3NRecommendation.recipes_id:\n",
    "        recipes_id.append(recipeid)   # list of recipe id of selected recipe and recommended recipe\n",
    "        recipe_list.append(\"{}  {}\".format(recipeid, recipes.at[recipeid, 'name']))\n",
    "        recipe_list.append(\"{}  {}\".format(recipeid, recipes.at[recipeid, 'url']))\n",
    "        recipe_list.append(\"{}  {}\".format(recipeid, recipes.at[recipeid, 'total']))\n",
    "        recipe_list.append(\"{}  {}\".format(recipeid, recipes.at[recipeid, 'calories']))\n",
    "        recipe_list.append(\"{}  {}\".format(recipeid, recipes.at[recipeid, 'carbohydrates_g']))\n",
    "        recipe_list.append(\"{}  {}\".format(recipeid, recipes.at[recipeid, 'fat_g']))\n",
    "        recipe_list.append(\"{}  {}\".format(recipeid, recipes.at[recipeid, 'protein_g']))\n",
    "     return recipe_list"
   ]
  },
  {
   "cell_type": "code",
   "execution_count": 78,
   "metadata": {},
   "outputs": [
    {
     "name": "stdout",
     "output_type": "stream",
     "text": [
      "12521  White Bean Tabbouleh\n"
     ]
    }
   ],
   "source": [
    "##get the name of the selected recipe based on id\n",
    "selected_recipe(12521)"
   ]
  },
  {
   "cell_type": "code",
   "execution_count": 79,
   "metadata": {},
   "outputs": [
    {
     "data": {
      "text/plain": [
       "['10633  Greek Farro Salad',\n",
       " '10633  https://www.allrecipes.com/recipe/244326/greek-farro-salad/',\n",
       " '10633  185',\n",
       " '10633  346.6',\n",
       " '10633  42.4',\n",
       " '10633  17.3',\n",
       " '10633  10.3',\n",
       " '13949  Uptown Cowboy Caviar',\n",
       " '13949  https://www.allrecipes.com/recipe/218884/uptown-cowboy-caviar/',\n",
       " '13949  145',\n",
       " '13949  265.8',\n",
       " '13949  32.6',\n",
       " '13949  12.1',\n",
       " '13949  7.2',\n",
       " '10643  Roasted Beet and Kale Salad',\n",
       " '10643  https://www.allrecipes.com/recipe/232590/roasted-beet-and-kale-salad/',\n",
       " '10643  140',\n",
       " '10643  262.6',\n",
       " '10643  34.1',\n",
       " '10643  12.8',\n",
       " '10643  6.7']"
      ]
     },
     "execution_count": 79,
     "metadata": {},
     "output_type": "execute_result"
    }
   ],
   "source": [
    "#recommend the top 3 most similar (total, calories, protein, carbs, fat)\n",
    "recipe_recommender(12521)"
   ]
  }
 ],
 "metadata": {
  "kernelspec": {
   "display_name": "Python 3.9.12 ('base')",
   "language": "python",
   "name": "python3"
  },
  "language_info": {
   "codemirror_mode": {
    "name": "ipython",
    "version": 3
   },
   "file_extension": ".py",
   "mimetype": "text/x-python",
   "name": "python",
   "nbconvert_exporter": "python",
   "pygments_lexer": "ipython3",
   "version": "3.9.12"
  },
  "orig_nbformat": 4,
  "vscode": {
   "interpreter": {
    "hash": "d4d1e4263499bec80672ea0156c357c1ee493ec2b1c70f0acce89fc37c4a6abe"
   }
  }
 },
 "nbformat": 4,
 "nbformat_minor": 2
}
