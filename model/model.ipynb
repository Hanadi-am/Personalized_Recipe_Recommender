{
 "cells": [
  {
   "cell_type": "code",
   "execution_count": 188,
   "metadata": {},
   "outputs": [],
   "source": [
    "#libraries\n",
    "import pandas as pd\n",
    "import numpy as np\n",
    "from scipy.spatial.distance import cosine, euclidean, hamming\n",
    "from sklearn.preprocessing import normalize"
   ]
  },
  {
   "cell_type": "code",
   "execution_count": 189,
   "metadata": {},
   "outputs": [
    {
     "data": {
      "text/plain": [
       "(19224, 14)"
      ]
     },
     "execution_count": 189,
     "metadata": {},
     "output_type": "execute_result"
    }
   ],
   "source": [
    "#read the data & have randome sample for reproducability\n",
    "recipes = pd.read_csv('../data/full_clean_data.csv')\n",
    "recipes.shape"
   ]
  },
  {
   "cell_type": "code",
   "execution_count": 190,
   "metadata": {},
   "outputs": [
    {
     "data": {
      "text/html": [
       "<div>\n",
       "<style scoped>\n",
       "    .dataframe tbody tr th:only-of-type {\n",
       "        vertical-align: middle;\n",
       "    }\n",
       "\n",
       "    .dataframe tbody tr th {\n",
       "        vertical-align: top;\n",
       "    }\n",
       "\n",
       "    .dataframe thead th {\n",
       "        text-align: right;\n",
       "    }\n",
       "</style>\n",
       "<table border=\"1\" class=\"dataframe\">\n",
       "  <thead>\n",
       "    <tr style=\"text-align: right;\">\n",
       "      <th></th>\n",
       "      <th>name</th>\n",
       "      <th>url</th>\n",
       "      <th>category</th>\n",
       "      <th>rating</th>\n",
       "      <th>rating_count</th>\n",
       "      <th>ingredients</th>\n",
       "      <th>total</th>\n",
       "      <th>servings</th>\n",
       "      <th>yield</th>\n",
       "      <th>calories</th>\n",
       "      <th>carbohydrates_g</th>\n",
       "      <th>fat_g</th>\n",
       "      <th>protein_g</th>\n",
       "      <th>ingredients_parsed</th>\n",
       "      <th>recipes_id</th>\n",
       "    </tr>\n",
       "    <tr>\n",
       "      <th>recipes_id</th>\n",
       "      <th></th>\n",
       "      <th></th>\n",
       "      <th></th>\n",
       "      <th></th>\n",
       "      <th></th>\n",
       "      <th></th>\n",
       "      <th></th>\n",
       "      <th></th>\n",
       "      <th></th>\n",
       "      <th></th>\n",
       "      <th></th>\n",
       "      <th></th>\n",
       "      <th></th>\n",
       "      <th></th>\n",
       "      <th></th>\n",
       "    </tr>\n",
       "  </thead>\n",
       "  <tbody>\n",
       "    <tr>\n",
       "      <th>19223</th>\n",
       "      <td>Easy Baked Zucchini Chips</td>\n",
       "      <td>https://www.allrecipes.com/recipe/242066/easy-...</td>\n",
       "      <td>appetizers-and-snacks</td>\n",
       "      <td>3.68</td>\n",
       "      <td>28</td>\n",
       "      <td>['1  zucchini, thinly sliced ', ' 1 tablespoon...</td>\n",
       "      <td>30</td>\n",
       "      <td>2</td>\n",
       "      <td>2 servings</td>\n",
       "      <td>69.1</td>\n",
       "      <td>2.0</td>\n",
       "      <td>6.9</td>\n",
       "      <td>0.7</td>\n",
       "      <td>['flavored']</td>\n",
       "      <td>19223</td>\n",
       "    </tr>\n",
       "  </tbody>\n",
       "</table>\n",
       "</div>"
      ],
      "text/plain": [
       "                                 name  \\\n",
       "recipes_id                              \n",
       "19223       Easy Baked Zucchini Chips   \n",
       "\n",
       "                                                          url  \\\n",
       "recipes_id                                                      \n",
       "19223       https://www.allrecipes.com/recipe/242066/easy-...   \n",
       "\n",
       "                         category  rating  rating_count  \\\n",
       "recipes_id                                                \n",
       "19223       appetizers-and-snacks    3.68            28   \n",
       "\n",
       "                                                  ingredients  total  \\\n",
       "recipes_id                                                             \n",
       "19223       ['1  zucchini, thinly sliced ', ' 1 tablespoon...     30   \n",
       "\n",
       "            servings       yield  calories  carbohydrates_g  fat_g  protein_g  \\\n",
       "recipes_id                                                                      \n",
       "19223              2  2 servings      69.1              2.0    6.9        0.7   \n",
       "\n",
       "           ingredients_parsed  recipes_id  \n",
       "recipes_id                                 \n",
       "19223            ['flavored']       19223  "
      ]
     },
     "execution_count": 190,
     "metadata": {},
     "output_type": "execute_result"
    }
   ],
   "source": [
    "##rename the dataframe index\n",
    "recipes.index.names = ['recipes_id']\n",
    "##convert index to column\n",
    "recipes['recipes_id'] = recipes.index\n",
    "recipes.tail(1)"
   ]
  },
  {
   "cell_type": "code",
   "execution_count": 191,
   "metadata": {},
   "outputs": [
    {
     "data": {
      "text/html": [
       "<div>\n",
       "<style scoped>\n",
       "    .dataframe tbody tr th:only-of-type {\n",
       "        vertical-align: middle;\n",
       "    }\n",
       "\n",
       "    .dataframe tbody tr th {\n",
       "        vertical-align: top;\n",
       "    }\n",
       "\n",
       "    .dataframe thead th {\n",
       "        text-align: right;\n",
       "    }\n",
       "</style>\n",
       "<table border=\"1\" class=\"dataframe\">\n",
       "  <thead>\n",
       "    <tr style=\"text-align: right;\">\n",
       "      <th></th>\n",
       "      <th>total</th>\n",
       "      <th>calories</th>\n",
       "      <th>carbohydrates_g</th>\n",
       "      <th>fat_g</th>\n",
       "      <th>protein_g</th>\n",
       "    </tr>\n",
       "    <tr>\n",
       "      <th>recipes_id</th>\n",
       "      <th></th>\n",
       "      <th></th>\n",
       "      <th></th>\n",
       "      <th></th>\n",
       "      <th></th>\n",
       "    </tr>\n",
       "  </thead>\n",
       "  <tbody>\n",
       "    <tr>\n",
       "      <th>19222</th>\n",
       "      <td>0.000419</td>\n",
       "      <td>0.001771</td>\n",
       "      <td>0.001872</td>\n",
       "      <td>0.001735</td>\n",
       "      <td>0.001107</td>\n",
       "    </tr>\n",
       "    <tr>\n",
       "      <th>19223</th>\n",
       "      <td>0.001256</td>\n",
       "      <td>0.001640</td>\n",
       "      <td>0.000412</td>\n",
       "      <td>0.003421</td>\n",
       "      <td>0.000298</td>\n",
       "    </tr>\n",
       "  </tbody>\n",
       "</table>\n",
       "</div>"
      ],
      "text/plain": [
       "               total  calories  carbohydrates_g     fat_g  protein_g\n",
       "recipes_id                                                          \n",
       "19222       0.000419  0.001771         0.001872  0.001735   0.001107\n",
       "19223       0.001256  0.001640         0.000412  0.003421   0.000298"
      ]
     },
     "execution_count": 191,
     "metadata": {},
     "output_type": "execute_result"
    }
   ],
   "source": [
    "##normalize the numerical column (total+nutritional values) in new dataframe << because i dont want to normalize all other features\n",
    "newrecipes = recipes[['total', 'calories', 'carbohydrates_g', 'fat_g', 'protein_g']]\n",
    "recipes_norm = pd.DataFrame(normalize(newrecipes, axis=0))\n",
    "recipes_norm.columns = newrecipes.columns\n",
    "recipes_norm.index = newrecipes.index\n",
    "recipes_norm.tail(2)"
   ]
  },
  {
   "cell_type": "code",
   "execution_count": 192,
   "metadata": {},
   "outputs": [],
   "source": [
    "#####creare a function that recommends top 3 similar recipe. Guidance reference https://www.kaggle.com/code/yyzz1010/content-based-filtering-recipe-recommender?scriptVersionId=21219821&cellId=23\n",
    "#####tried 3 different functions (cosine, euclidean & hamming) on the same recipe id & found out that (euclidean) recommends the closest recipes.\n",
    "def recipe_recommender(recipes_id):\n",
    "    \n",
    "     allRecipes = pd.DataFrame(recipes_norm.index)\n",
    "     allRecipes = allRecipes[allRecipes.recipes_id != recipes_id]\n",
    "     allRecipes[\"distance\"] = allRecipes[\"recipes_id\"].apply(lambda x: euclidean(recipes_norm.loc[recipes_id], recipes_norm.loc[x]))\n",
    "     # sort by distance then recipe id, the smaller value will be picked.\n",
    "     Top3NRecommendation = allRecipes.sort_values([\"distance\"]).head(3).sort_values(by=['distance', 'recipes_id'])\n",
    "     #print the distance value\n",
    "     print(Top3NRecommendation)\n",
    "     #create a list of the recommended recipe output\n",
    "     recipes_id = [recipes_id]\n",
    "     recipe_list = [] #'name', 'url', 'total cooking time', 'cal', 'carbs', 'fat','protein'\n",
    "     for recipeid in Top3NRecommendation.recipes_id:\n",
    "        recipes_id.append(recipeid)   # list of recipe id of selected recipe and recommended recipe\n",
    "        recipe_list.append(\"{}  {}\".format(recipeid, recipes.at[recipeid, 'name']))\n",
    "        recipe_list.append(\"{}  {}\".format(recipeid, recipes.at[recipeid, 'url']))\n",
    "        recipe_list.append(\"{}  {}\".format(recipeid, recipes.at[recipeid, 'total']))\n",
    "        recipe_list.append(\"{}  {}\".format(recipeid, recipes.at[recipeid, 'calories']))\n",
    "        recipe_list.append(\"{}  {}\".format(recipeid, recipes.at[recipeid, 'carbohydrates_g']))\n",
    "        recipe_list.append(\"{}  {}\".format(recipeid, recipes.at[recipeid, 'fat_g']))\n",
    "        recipe_list.append(\"{}  {}\".format(recipeid, recipes.at[recipeid, 'protein_g']))\n",
    "     return recipe_list"
   ]
  },
  {
   "cell_type": "code",
   "execution_count": 193,
   "metadata": {},
   "outputs": [
    {
     "data": {
      "text/html": [
       "<div>\n",
       "<style scoped>\n",
       "    .dataframe tbody tr th:only-of-type {\n",
       "        vertical-align: middle;\n",
       "    }\n",
       "\n",
       "    .dataframe tbody tr th {\n",
       "        vertical-align: top;\n",
       "    }\n",
       "\n",
       "    .dataframe thead th {\n",
       "        text-align: right;\n",
       "    }\n",
       "</style>\n",
       "<table border=\"1\" class=\"dataframe\">\n",
       "  <thead>\n",
       "    <tr style=\"text-align: right;\">\n",
       "      <th></th>\n",
       "      <th>name</th>\n",
       "      <th>url</th>\n",
       "      <th>category</th>\n",
       "      <th>rating</th>\n",
       "      <th>rating_count</th>\n",
       "      <th>ingredients</th>\n",
       "      <th>total</th>\n",
       "      <th>servings</th>\n",
       "      <th>yield</th>\n",
       "      <th>calories</th>\n",
       "      <th>carbohydrates_g</th>\n",
       "      <th>fat_g</th>\n",
       "      <th>protein_g</th>\n",
       "      <th>ingredients_parsed</th>\n",
       "      <th>recipes_id</th>\n",
       "    </tr>\n",
       "    <tr>\n",
       "      <th>recipes_id</th>\n",
       "      <th></th>\n",
       "      <th></th>\n",
       "      <th></th>\n",
       "      <th></th>\n",
       "      <th></th>\n",
       "      <th></th>\n",
       "      <th></th>\n",
       "      <th></th>\n",
       "      <th></th>\n",
       "      <th></th>\n",
       "      <th></th>\n",
       "      <th></th>\n",
       "      <th></th>\n",
       "      <th></th>\n",
       "      <th></th>\n",
       "    </tr>\n",
       "  </thead>\n",
       "  <tbody>\n",
       "    <tr>\n",
       "      <th>4594</th>\n",
       "      <td>Potato Waffles</td>\n",
       "      <td>https://www.allrecipes.com/recipe/220890/potat...</td>\n",
       "      <td>breakfast-and-brunch</td>\n",
       "      <td>4.57</td>\n",
       "      <td>112</td>\n",
       "      <td>['2 tablespoons butter ', ' 1  onion, chopped ...</td>\n",
       "      <td>25</td>\n",
       "      <td>4</td>\n",
       "      <td>4 servings</td>\n",
       "      <td>216.7</td>\n",
       "      <td>27.9</td>\n",
       "      <td>9.0</td>\n",
       "      <td>6.5</td>\n",
       "      <td>['butter', 'mashed potato', 'flour', 'egg']</td>\n",
       "      <td>4594</td>\n",
       "    </tr>\n",
       "  </tbody>\n",
       "</table>\n",
       "</div>"
      ],
      "text/plain": [
       "                      name                                                url  \\\n",
       "recipes_id                                                                      \n",
       "4594        Potato Waffles  https://www.allrecipes.com/recipe/220890/potat...   \n",
       "\n",
       "                        category  rating  rating_count  \\\n",
       "recipes_id                                               \n",
       "4594        breakfast-and-brunch    4.57           112   \n",
       "\n",
       "                                                  ingredients  total  \\\n",
       "recipes_id                                                             \n",
       "4594        ['2 tablespoons butter ', ' 1  onion, chopped ...     25   \n",
       "\n",
       "            servings       yield  calories  carbohydrates_g  fat_g  protein_g  \\\n",
       "recipes_id                                                                      \n",
       "4594               4  4 servings     216.7             27.9    9.0        6.5   \n",
       "\n",
       "                                     ingredients_parsed  recipes_id  \n",
       "recipes_id                                                           \n",
       "4594        ['butter', 'mashed potato', 'flour', 'egg']        4594  "
      ]
     },
     "execution_count": 193,
     "metadata": {},
     "output_type": "execute_result"
    }
   ],
   "source": [
    "##recipe id we want to get similar recommendation to\n",
    "recipes[recipes['recipes_id'] == 4594]"
   ]
  },
  {
   "cell_type": "code",
   "execution_count": 194,
   "metadata": {},
   "outputs": [
    {
     "name": "stdout",
     "output_type": "stream",
     "text": [
      "       recipes_id  distance\n",
      "17848       17848  0.000369\n",
      "2645         2645  0.000536\n",
      "648           648  0.000576\n"
     ]
    },
    {
     "data": {
      "text/plain": [
       "['17848  Easy Chilaquiles Verdes',\n",
       " '17848  https://www.allrecipes.com/recipe/271116/easy-chilaquiles-verdes/',\n",
       " '17848  20',\n",
       " '17848  216.3',\n",
       " '17848  26.8',\n",
       " '17848  9.4',\n",
       " '17848  6.6',\n",
       " '2645  Fereni Starch Pudding',\n",
       " '2645  https://www.allrecipes.com/recipe/16079/fereni-starch-pudding/',\n",
       " '2645  20',\n",
       " '2645  222.9',\n",
       " '2645  28.3',\n",
       " '2645  9.9',\n",
       " '2645  6.2',\n",
       " '648  My Crispy Mashed Potato Pancake',\n",
       " '648  https://www.allrecipes.com/recipe/222608/my-crispy-mashed-potato-pancake/',\n",
       " '648  15',\n",
       " '648  214.2',\n",
       " '648  26.9',\n",
       " '648  8.7',\n",
       " '648  7.2']"
      ]
     },
     "execution_count": 194,
     "metadata": {},
     "output_type": "execute_result"
    }
   ],
   "source": [
    "#recommend the top 3 most similar recipes based on (total, calories, protein, carbs, fat)\n",
    "recipe_recommender(4594)"
   ]
  }
 ],
 "metadata": {
  "kernelspec": {
   "display_name": "Python 3.9.12 ('base')",
   "language": "python",
   "name": "python3"
  },
  "language_info": {
   "codemirror_mode": {
    "name": "ipython",
    "version": 3
   },
   "file_extension": ".py",
   "mimetype": "text/x-python",
   "name": "python",
   "nbconvert_exporter": "python",
   "pygments_lexer": "ipython3",
   "version": "3.9.12"
  },
  "orig_nbformat": 4,
  "vscode": {
   "interpreter": {
    "hash": "d4d1e4263499bec80672ea0156c357c1ee493ec2b1c70f0acce89fc37c4a6abe"
   }
  }
 },
 "nbformat": 4,
 "nbformat_minor": 2
}
