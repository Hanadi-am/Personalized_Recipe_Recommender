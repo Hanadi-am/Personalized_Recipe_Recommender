{
 "cells": [
  {
   "cell_type": "code",
   "execution_count": 68,
   "metadata": {},
   "outputs": [],
   "source": [
    "#libraries\n",
    "# import pandas as pd\n",
    "# import numpy as np\n",
    "# from scipy.spatial.distance import euclidean\n",
    "# from sklearn.preprocessing import normalize\n",
    "import pickle"
   ]
  },
  {
   "cell_type": "code",
   "execution_count": 69,
   "metadata": {},
   "outputs": [],
   "source": [
    "# #read the data \n",
    "# recipes = pd.read_csv('../data/full_clean_data.csv')\n",
    "# #rename the index\n",
    "# recipes.index.names = ['recipes_id']\n",
    "# ##save it\n",
    "# recipes.to_csv('final_data.csv')"
   ]
  },
  {
   "cell_type": "code",
   "execution_count": 70,
   "metadata": {},
   "outputs": [],
   "source": [
    "#create a function that takes the user input (total cooking time, calories, carb, fat, ptotein) & return top 3 most similar recipes\n",
    "#guidance reference of some aspect of the function: https://www.kaggle.com/code/yyzz1010/content-based-filtering-recipe-recommender "
   ]
  },
  {
   "cell_type": "code",
   "execution_count": 71,
   "metadata": {},
   "outputs": [],
   "source": [
    "# create a new df for user input & concate it to the original dataframe\n",
    "#user input: a = total time, b = calories, c = carbohydrate, d = fat, e = protein.\n",
    "def user_recipes(a, b, c, d, e):\n",
    "    import pandas as pd\n",
    "    from scipy.spatial.distance import euclidean\n",
    "    from sklearn.preprocessing import normalize\n",
    "    #read the data \n",
    "    recipes = pd.read_csv('../data/full_clean_data.csv')\n",
    "    #rename the index\n",
    "    recipes.index.names = ['recipes_id']\n",
    "    user_df = pd.DataFrame({'recipes_id': 19224 ,'name': 'user', 'url': 'no', 'category': 'no', 'rating': 'no', 'rating_count': 'no', 'ingredients': 'no', 'total': a, 'servings': 'no', 'yield': 'no', 'calories': b, 'carbohydrates_g': c, 'fat_g': d,'protein_g': e,'ingredients_parsed': 'no'}, index=[19224])\n",
    "    full_df = pd.concat([recipes, user_df], ignore_index = False, axis = 0) \n",
    "    #rename the dataframe index\n",
    "    full_df.index.names = ['recipes_id']\n",
    "    ##convert index to column\n",
    "    full_df['recipes_id'] = full_df.index\n",
    "    ##normalize the total, calories, carb, fat, protein features\n",
    "    new_norm = full_df[['total', 'calories', 'carbohydrates_g', 'fat_g', 'protein_g']]\n",
    "    full_norm = pd.DataFrame(normalize(new_norm, axis=0))\n",
    "    full_norm.columns = new_norm.columns\n",
    "    full_norm.index = new_norm.index\n",
    "    #use the model function here\n",
    "    global allRecipes #Solution for the UnboundLocalError that didn't work???\n",
    "    allRecipes = pd.DataFrame(full_norm.index)\n",
    "    #execlude user recipe id from the rest to avoid duplicates in outcome\n",
    "    allRecipes = allRecipes[allRecipes.recipes_id != 19224]\n",
    "    allRecipes[\"distance\"] = allRecipes[\"recipes_id\"].apply(lambda x: euclidean(full_norm.loc[19224], full_norm.loc[x]))\n",
    "    # sort by distance then recipe id, the smaller value of recipe id will be picked.\n",
    "    Top3NRecommendation = allRecipes.sort_values([\"distance\"]).head(3).sort_values(by=['distance', 'recipes_id'])\n",
    "    #create a list of the recommended recipe output\n",
    "    recipe_list = []\n",
    "    for recipeid in Top3NRecommendation.recipes_id:\n",
    "        recipe_list.append(\"Recipe name & url:\")\n",
    "        recipe_list.append(\"{}  {}\".format(recipeid, full_df.at[recipeid, 'name']))\n",
    "        recipe_list.append(\"{}  {}\".format(recipeid, full_df.at[recipeid, 'url']))\n",
    "        recipe_list.append(\"total cooking time in minutes:\")\n",
    "        recipe_list.append(\"{}  {}\".format(recipeid, full_df.at[recipeid, 'total']))\n",
    "        recipe_list.append(\"calories per serving:\")\n",
    "        recipe_list.append(\"{}  {}\".format(recipeid, full_df.at[recipeid, 'calories']))\n",
    "        recipe_list.append(\"carbohydrates grams per serving:\")\n",
    "        recipe_list.append(\"{}  {}\".format(recipeid, full_df.at[recipeid, 'carbohydrates_g']))\n",
    "        recipe_list.append(\"fat grams per serving:\")\n",
    "        recipe_list.append(\"{}  {}\".format(recipeid, full_df.at[recipeid, 'fat_g']))\n",
    "        recipe_list.append(\"protein grams per serving:\")\n",
    "        recipe_list.append(\"{}  {}\".format(recipeid, full_df.at[recipeid, 'protein_g']))\n",
    "    return recipe_list\n"
   ]
  },
  {
   "cell_type": "code",
   "execution_count": 72,
   "metadata": {},
   "outputs": [],
   "source": [
    "#pickle the function\n",
    "# filename = 'my_model'\n",
    "# outfile = open(filename, 'wb')\n",
    "# pickle.dump(user_recipes, outfile)\n",
    "# outfile.close()\n",
    "pickle.dump( user_recipes, open( \"the_model.pkl\", \"wb\" ) )"
   ]
  },
  {
   "cell_type": "code",
   "execution_count": 73,
   "metadata": {},
   "outputs": [
    {
     "data": {
      "text/plain": [
       "['Recipe name & url:',\n",
       " '9927  Mediterranean Quinoa',\n",
       " '9927  https://www.allrecipes.com/recipe/82264/mediterranean-quinoa/',\n",
       " 'total cooking time in minutes:',\n",
       " '9927  45',\n",
       " 'calories per serving:',\n",
       " '9927  276.4',\n",
       " 'carbohydrates grams per serving:',\n",
       " '9927  40.8',\n",
       " 'fat grams per serving:',\n",
       " '9927  9.8',\n",
       " 'protein grams per serving:',\n",
       " '9927  8.1',\n",
       " 'Recipe name & url:',\n",
       " \"7899  Sarah's Feta Rice Pilaf\",\n",
       " '7899  https://www.allrecipes.com/recipe/232844/sarahs-feta-rice-pilaf/',\n",
       " 'total cooking time in minutes:',\n",
       " '7899  40',\n",
       " 'calories per serving:',\n",
       " '7899  295.2',\n",
       " 'carbohydrates grams per serving:',\n",
       " '7899  41.0',\n",
       " 'fat grams per serving:',\n",
       " '7899  10.6',\n",
       " 'protein grams per serving:',\n",
       " '7899  8.8',\n",
       " 'Recipe name & url:',\n",
       " '2587  Vegan Black Bean and Sweet Potato Salad',\n",
       " '2587  https://www.allrecipes.com/recipe/238162/vegan-black-bean-and-sweet-potato-salad/',\n",
       " 'total cooking time in minutes:',\n",
       " '2587  40',\n",
       " 'calories per serving:',\n",
       " '2587  291.1',\n",
       " 'carbohydrates grams per serving:',\n",
       " '2587  42.2',\n",
       " 'fat grams per serving:',\n",
       " '2587  10.6',\n",
       " 'protein grams per serving:',\n",
       " '2587  8.4']"
      ]
     },
     "execution_count": 73,
     "metadata": {},
     "output_type": "execute_result"
    }
   ],
   "source": [
    "##the user wants a recipe that takes 45 minutes to cook, 300 calories, 40 gm of carbs, 9 gm of fat, 8 gm of protein)\n",
    "user_recipes(45, 300, 40, 9, 8)"
   ]
  }
 ],
 "metadata": {
  "kernelspec": {
   "display_name": "Python 3.9.12 ('base')",
   "language": "python",
   "name": "python3"
  },
  "language_info": {
   "codemirror_mode": {
    "name": "ipython",
    "version": 3
   },
   "file_extension": ".py",
   "mimetype": "text/x-python",
   "name": "python",
   "nbconvert_exporter": "python",
   "pygments_lexer": "ipython3",
   "version": "3.9.12"
  },
  "orig_nbformat": 4,
  "vscode": {
   "interpreter": {
    "hash": "d4d1e4263499bec80672ea0156c357c1ee493ec2b1c70f0acce89fc37c4a6abe"
   }
  }
 },
 "nbformat": 4,
 "nbformat_minor": 2
}
