{
 "cells": [
  {
   "cell_type": "code",
   "execution_count": 418,
   "metadata": {},
   "outputs": [],
   "source": [
    "#libraries\n",
    "import pandas as pd\n",
    "import numpy as np\n",
    "from scipy.spatial.distance import cosine\n",
    "from sklearn.preprocessing import normalize"
   ]
  },
  {
   "cell_type": "code",
   "execution_count": 419,
   "metadata": {},
   "outputs": [],
   "source": [
    "#read the data \n",
    "recipes = pd.read_csv('../data/full_clean_data.csv')\n",
    "#rename the index\n",
    "#recipes.index.names = ['recipes_id']"
   ]
  },
  {
   "cell_type": "code",
   "execution_count": 420,
   "metadata": {},
   "outputs": [],
   "source": [
    "##create a new df for user input & concate it to the original dataframe\n",
    "#user input: a = total, b = calories, c = carbohydrate, d = fat, e = protein.\n",
    "def user_recipes(a, b, c, d, e):\n",
    "    user_df = pd.DataFrame({'name': 'user', 'url': 'no', 'category': 'no', 'rating': 'no', 'rating_count': 'no', 'ingredients': 'no', 'total': a, 'servings': 'no', 'yield': 'no', 'calories': b, 'carbohydrates_g': c, 'fat_g': d,'protein_g': e,'ingredients_parsed': 'no'}, index=[19224])\n",
    "    full_df = pd.concat([recipes, user_df], ignore_index = False, axis = 0) \n",
    "    #rename the dataframe index\n",
    "    full_df.index.names = ['recipes_id']\n",
    "    ##convert index to column\n",
    "    full_df['recipes_id'] = recipes.index\n",
    "\n",
    "    ##normalize the total, calories, carb, fat, protein features\n",
    "    new_norm = full_df[['total', 'calories', 'carbohydrates_g', 'fat_g', 'protein_g']]\n",
    "    full_norm = pd.DataFrame(normalize(new_norm, axis=0))\n",
    "    full_norm.columns = new_norm.columns\n",
    "    full_norm.index = new_norm.index\n",
    "    #use the old function here\n",
    "    allRecipes = pd.DataFrame(full_norm.index)\n",
    "    allRecipes = allRecipes[allRecipes.recipes_id != recipes_id]\n",
    "    allRecipes[\"distance\"] = allRecipes[\"recipes_id\"].apply(lambda x: cosine(full_norm.loc[recipes_id], full_norm.loc[19224]))\n",
    "    # sort by distance then recipe id, the smaller value of recipe id will be picked.\n",
    "    Top3NRecommendation = allRecipes.sort_values([\"distance\"]).head(3).sort_values(by=['distance', 'recipes_id'])\n",
    "    #create a list of the recommended recipe output\n",
    "    recipes_id = [recipes_id]\n",
    "    recipe_list = []\n",
    "    for recipeid in Top3NRecommendation.recipes_id:\n",
    "        recipes_id.append(recipeid)   # list of recipe id of selected recipe and recommended recipe\n",
    "        recipe_list.append(\"{}  {}\".format(recipeid, full_norm.at[recipeid, 'url']))\n",
    "        recipe_list.append(\"{}  {}\".format(recipeid, full_norm.at[recipeid, 'name']))\n",
    "    return recipe_list\n",
    "    "
   ]
  },
  {
   "cell_type": "code",
   "execution_count": 421,
   "metadata": {},
   "outputs": [
    {
     "ename": "ValueError",
     "evalue": "Length of values (19224) does not match length of index (19225)",
     "output_type": "error",
     "traceback": [
      "\u001b[0;31m---------------------------------------------------------------------------\u001b[0m",
      "\u001b[0;31mValueError\u001b[0m                                Traceback (most recent call last)",
      "\u001b[1;32m/workspace/personal/Personalized_Recipe_Recommender/model/user_model.ipynb Cell 4\u001b[0m in \u001b[0;36m<cell line: 1>\u001b[0;34m()\u001b[0m\n\u001b[0;32m----> <a href='vscode-notebook-cell://dev-container%2B643a5c6d69736b2d4453495c4d69736b2d4453492d323032325c2e646576636f6e7461696e65722e636f64652d776f726b7370616365/workspace/personal/Personalized_Recipe_Recommender/model/user_model.ipynb#ch0000010vscode-remote?line=0'>1</a>\u001b[0m user_recipes(\u001b[39m45\u001b[39;49m, \u001b[39m300\u001b[39;49m, \u001b[39m40\u001b[39;49m, \u001b[39m9\u001b[39;49m, \u001b[39m8\u001b[39;49m)\n",
      "\u001b[1;32m/workspace/personal/Personalized_Recipe_Recommender/model/user_model.ipynb Cell 4\u001b[0m in \u001b[0;36muser_recipes\u001b[0;34m(a, b, c, d, e)\u001b[0m\n\u001b[1;32m      <a href='vscode-notebook-cell://dev-container%2B643a5c6d69736b2d4453495c4d69736b2d4453492d323032325c2e646576636f6e7461696e65722e636f64652d776f726b7370616365/workspace/personal/Personalized_Recipe_Recommender/model/user_model.ipynb#ch0000010vscode-remote?line=6'>7</a>\u001b[0m full_df\u001b[39m.\u001b[39mindex\u001b[39m.\u001b[39mnames \u001b[39m=\u001b[39m [\u001b[39m'\u001b[39m\u001b[39mrecipes_id\u001b[39m\u001b[39m'\u001b[39m]\n\u001b[1;32m      <a href='vscode-notebook-cell://dev-container%2B643a5c6d69736b2d4453495c4d69736b2d4453492d323032325c2e646576636f6e7461696e65722e636f64652d776f726b7370616365/workspace/personal/Personalized_Recipe_Recommender/model/user_model.ipynb#ch0000010vscode-remote?line=7'>8</a>\u001b[0m \u001b[39m##convert index to column\u001b[39;00m\n\u001b[0;32m----> <a href='vscode-notebook-cell://dev-container%2B643a5c6d69736b2d4453495c4d69736b2d4453492d323032325c2e646576636f6e7461696e65722e636f64652d776f726b7370616365/workspace/personal/Personalized_Recipe_Recommender/model/user_model.ipynb#ch0000010vscode-remote?line=8'>9</a>\u001b[0m full_df[\u001b[39m'\u001b[39m\u001b[39mrecipes_id\u001b[39m\u001b[39m'\u001b[39m] \u001b[39m=\u001b[39m recipes\u001b[39m.\u001b[39mindex\n\u001b[1;32m     <a href='vscode-notebook-cell://dev-container%2B643a5c6d69736b2d4453495c4d69736b2d4453492d323032325c2e646576636f6e7461696e65722e636f64652d776f726b7370616365/workspace/personal/Personalized_Recipe_Recommender/model/user_model.ipynb#ch0000010vscode-remote?line=10'>11</a>\u001b[0m \u001b[39m##normalize the total, calories, carb, fat, protein features\u001b[39;00m\n\u001b[1;32m     <a href='vscode-notebook-cell://dev-container%2B643a5c6d69736b2d4453495c4d69736b2d4453492d323032325c2e646576636f6e7461696e65722e636f64652d776f726b7370616365/workspace/personal/Personalized_Recipe_Recommender/model/user_model.ipynb#ch0000010vscode-remote?line=11'>12</a>\u001b[0m new_norm \u001b[39m=\u001b[39m full_df[[\u001b[39m'\u001b[39m\u001b[39mtotal\u001b[39m\u001b[39m'\u001b[39m, \u001b[39m'\u001b[39m\u001b[39mcalories\u001b[39m\u001b[39m'\u001b[39m, \u001b[39m'\u001b[39m\u001b[39mcarbohydrates_g\u001b[39m\u001b[39m'\u001b[39m, \u001b[39m'\u001b[39m\u001b[39mfat_g\u001b[39m\u001b[39m'\u001b[39m, \u001b[39m'\u001b[39m\u001b[39mprotein_g\u001b[39m\u001b[39m'\u001b[39m]]\n",
      "File \u001b[0;32m/opt/conda/lib/python3.9/site-packages/pandas/core/frame.py:3655\u001b[0m, in \u001b[0;36mDataFrame.__setitem__\u001b[0;34m(self, key, value)\u001b[0m\n\u001b[1;32m   3652\u001b[0m     \u001b[39mself\u001b[39m\u001b[39m.\u001b[39m_setitem_array([key], value)\n\u001b[1;32m   3653\u001b[0m \u001b[39melse\u001b[39;00m:\n\u001b[1;32m   3654\u001b[0m     \u001b[39m# set column\u001b[39;00m\n\u001b[0;32m-> 3655\u001b[0m     \u001b[39mself\u001b[39;49m\u001b[39m.\u001b[39;49m_set_item(key, value)\n",
      "File \u001b[0;32m/opt/conda/lib/python3.9/site-packages/pandas/core/frame.py:3832\u001b[0m, in \u001b[0;36mDataFrame._set_item\u001b[0;34m(self, key, value)\u001b[0m\n\u001b[1;32m   3822\u001b[0m \u001b[39mdef\u001b[39;00m \u001b[39m_set_item\u001b[39m(\u001b[39mself\u001b[39m, key, value) \u001b[39m-\u001b[39m\u001b[39m>\u001b[39m \u001b[39mNone\u001b[39;00m:\n\u001b[1;32m   3823\u001b[0m     \u001b[39m\"\"\"\u001b[39;00m\n\u001b[1;32m   3824\u001b[0m \u001b[39m    Add series to DataFrame in specified column.\u001b[39;00m\n\u001b[1;32m   3825\u001b[0m \n\u001b[0;32m   (...)\u001b[0m\n\u001b[1;32m   3830\u001b[0m \u001b[39m    ensure homogeneity.\u001b[39;00m\n\u001b[1;32m   3831\u001b[0m \u001b[39m    \"\"\"\u001b[39;00m\n\u001b[0;32m-> 3832\u001b[0m     value \u001b[39m=\u001b[39m \u001b[39mself\u001b[39;49m\u001b[39m.\u001b[39;49m_sanitize_column(value)\n\u001b[1;32m   3834\u001b[0m     \u001b[39mif\u001b[39;00m (\n\u001b[1;32m   3835\u001b[0m         key \u001b[39min\u001b[39;00m \u001b[39mself\u001b[39m\u001b[39m.\u001b[39mcolumns\n\u001b[1;32m   3836\u001b[0m         \u001b[39mand\u001b[39;00m value\u001b[39m.\u001b[39mndim \u001b[39m==\u001b[39m \u001b[39m1\u001b[39m\n\u001b[1;32m   3837\u001b[0m         \u001b[39mand\u001b[39;00m \u001b[39mnot\u001b[39;00m is_extension_array_dtype(value)\n\u001b[1;32m   3838\u001b[0m     ):\n\u001b[1;32m   3839\u001b[0m         \u001b[39m# broadcast across multiple columns if necessary\u001b[39;00m\n\u001b[1;32m   3840\u001b[0m         \u001b[39mif\u001b[39;00m \u001b[39mnot\u001b[39;00m \u001b[39mself\u001b[39m\u001b[39m.\u001b[39mcolumns\u001b[39m.\u001b[39mis_unique \u001b[39mor\u001b[39;00m \u001b[39misinstance\u001b[39m(\u001b[39mself\u001b[39m\u001b[39m.\u001b[39mcolumns, MultiIndex):\n",
      "File \u001b[0;32m/opt/conda/lib/python3.9/site-packages/pandas/core/frame.py:4535\u001b[0m, in \u001b[0;36mDataFrame._sanitize_column\u001b[0;34m(self, value)\u001b[0m\n\u001b[1;32m   4532\u001b[0m     \u001b[39mreturn\u001b[39;00m _reindex_for_setitem(value, \u001b[39mself\u001b[39m\u001b[39m.\u001b[39mindex)\n\u001b[1;32m   4534\u001b[0m \u001b[39mif\u001b[39;00m is_list_like(value):\n\u001b[0;32m-> 4535\u001b[0m     com\u001b[39m.\u001b[39;49mrequire_length_match(value, \u001b[39mself\u001b[39;49m\u001b[39m.\u001b[39;49mindex)\n\u001b[1;32m   4536\u001b[0m \u001b[39mreturn\u001b[39;00m sanitize_array(value, \u001b[39mself\u001b[39m\u001b[39m.\u001b[39mindex, copy\u001b[39m=\u001b[39m\u001b[39mTrue\u001b[39;00m, allow_2d\u001b[39m=\u001b[39m\u001b[39mTrue\u001b[39;00m)\n",
      "File \u001b[0;32m/opt/conda/lib/python3.9/site-packages/pandas/core/common.py:557\u001b[0m, in \u001b[0;36mrequire_length_match\u001b[0;34m(data, index)\u001b[0m\n\u001b[1;32m    553\u001b[0m \u001b[39m\"\"\"\u001b[39;00m\n\u001b[1;32m    554\u001b[0m \u001b[39mCheck the length of data matches the length of the index.\u001b[39;00m\n\u001b[1;32m    555\u001b[0m \u001b[39m\"\"\"\u001b[39;00m\n\u001b[1;32m    556\u001b[0m \u001b[39mif\u001b[39;00m \u001b[39mlen\u001b[39m(data) \u001b[39m!=\u001b[39m \u001b[39mlen\u001b[39m(index):\n\u001b[0;32m--> 557\u001b[0m     \u001b[39mraise\u001b[39;00m \u001b[39mValueError\u001b[39;00m(\n\u001b[1;32m    558\u001b[0m         \u001b[39m\"\u001b[39m\u001b[39mLength of values \u001b[39m\u001b[39m\"\u001b[39m\n\u001b[1;32m    559\u001b[0m         \u001b[39mf\u001b[39m\u001b[39m\"\u001b[39m\u001b[39m(\u001b[39m\u001b[39m{\u001b[39;00m\u001b[39mlen\u001b[39m(data)\u001b[39m}\u001b[39;00m\u001b[39m) \u001b[39m\u001b[39m\"\u001b[39m\n\u001b[1;32m    560\u001b[0m         \u001b[39m\"\u001b[39m\u001b[39mdoes not match length of index \u001b[39m\u001b[39m\"\u001b[39m\n\u001b[1;32m    561\u001b[0m         \u001b[39mf\u001b[39m\u001b[39m\"\u001b[39m\u001b[39m(\u001b[39m\u001b[39m{\u001b[39;00m\u001b[39mlen\u001b[39m(index)\u001b[39m}\u001b[39;00m\u001b[39m)\u001b[39m\u001b[39m\"\u001b[39m\n\u001b[1;32m    562\u001b[0m     )\n",
      "\u001b[0;31mValueError\u001b[0m: Length of values (19224) does not match length of index (19225)"
     ]
    }
   ],
   "source": [
    "user_recipes(45, 300, 40, 9, 8)"
   ]
  }
 ],
 "metadata": {
  "kernelspec": {
   "display_name": "Python 3.9.12 ('base')",
   "language": "python",
   "name": "python3"
  },
  "language_info": {
   "codemirror_mode": {
    "name": "ipython",
    "version": 3
   },
   "file_extension": ".py",
   "mimetype": "text/x-python",
   "name": "python",
   "nbconvert_exporter": "python",
   "pygments_lexer": "ipython3",
   "version": "3.9.12"
  },
  "orig_nbformat": 4,
  "vscode": {
   "interpreter": {
    "hash": "d4d1e4263499bec80672ea0156c357c1ee493ec2b1c70f0acce89fc37c4a6abe"
   }
  }
 },
 "nbformat": 4,
 "nbformat_minor": 2
}
