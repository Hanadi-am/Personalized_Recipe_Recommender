{
 "cells": [
  {
   "cell_type": "code",
   "execution_count": 29,
   "metadata": {},
   "outputs": [],
   "source": [
    "#libraries\n",
    "import pandas as pd\n",
    "import numpy as np\n",
    "from scipy.spatial.distance import cosine, euclidean, hamming\n",
    "from sklearn.preprocessing import normalize"
   ]
  },
  {
   "cell_type": "code",
   "execution_count": 30,
   "metadata": {},
   "outputs": [],
   "source": [
    "#read the data & have randome sample for reproducability\n",
    "recipes = pd.read_csv('../data/full_clean_data.csv')"
   ]
  },
  {
   "cell_type": "code",
   "execution_count": 31,
   "metadata": {},
   "outputs": [
    {
     "data": {
      "text/html": [
       "<div>\n",
       "<style scoped>\n",
       "    .dataframe tbody tr th:only-of-type {\n",
       "        vertical-align: middle;\n",
       "    }\n",
       "\n",
       "    .dataframe tbody tr th {\n",
       "        vertical-align: top;\n",
       "    }\n",
       "\n",
       "    .dataframe thead th {\n",
       "        text-align: right;\n",
       "    }\n",
       "</style>\n",
       "<table border=\"1\" class=\"dataframe\">\n",
       "  <thead>\n",
       "    <tr style=\"text-align: right;\">\n",
       "      <th></th>\n",
       "      <th>name</th>\n",
       "      <th>url</th>\n",
       "      <th>category</th>\n",
       "      <th>rating</th>\n",
       "      <th>rating_count</th>\n",
       "      <th>ingredients</th>\n",
       "      <th>total</th>\n",
       "      <th>servings</th>\n",
       "      <th>yield</th>\n",
       "      <th>calories</th>\n",
       "      <th>carbohydrates_g</th>\n",
       "      <th>fat_g</th>\n",
       "      <th>protein_g</th>\n",
       "      <th>ingredients_parsed</th>\n",
       "    </tr>\n",
       "    <tr>\n",
       "      <th>recipes_id</th>\n",
       "      <th></th>\n",
       "      <th></th>\n",
       "      <th></th>\n",
       "      <th></th>\n",
       "      <th></th>\n",
       "      <th></th>\n",
       "      <th></th>\n",
       "      <th></th>\n",
       "      <th></th>\n",
       "      <th></th>\n",
       "      <th></th>\n",
       "      <th></th>\n",
       "      <th></th>\n",
       "      <th></th>\n",
       "    </tr>\n",
       "  </thead>\n",
       "  <tbody>\n",
       "    <tr>\n",
       "      <th>0</th>\n",
       "      <td>Dessert Crepes</td>\n",
       "      <td>https://www.allrecipes.com/recipe/19037/desser...</td>\n",
       "      <td>breakfast-and-brunch</td>\n",
       "      <td>4.80</td>\n",
       "      <td>1156</td>\n",
       "      <td>['4  eggs, lightly beaten ', ' 1\\u2009⅓ cups m...</td>\n",
       "      <td>20</td>\n",
       "      <td>8</td>\n",
       "      <td>8 crepes</td>\n",
       "      <td>163.8</td>\n",
       "      <td>17.2</td>\n",
       "      <td>7.7</td>\n",
       "      <td>6.4</td>\n",
       "      <td>['milk', 'flour', 'sugar']</td>\n",
       "    </tr>\n",
       "    <tr>\n",
       "      <th>1</th>\n",
       "      <td>Chicken Parmesan</td>\n",
       "      <td>https://www.allrecipes.com/recipe/223042/chick...</td>\n",
       "      <td>world-cuisine</td>\n",
       "      <td>4.83</td>\n",
       "      <td>4245</td>\n",
       "      <td>['4  skinless, boneless chicken breast halves ...</td>\n",
       "      <td>60</td>\n",
       "      <td>4</td>\n",
       "      <td>4 servings</td>\n",
       "      <td>470.8</td>\n",
       "      <td>24.8</td>\n",
       "      <td>24.9</td>\n",
       "      <td>42.1</td>\n",
       "      <td>['chicken breast', 'egg', 'panko bread', 'parm...</td>\n",
       "    </tr>\n",
       "  </tbody>\n",
       "</table>\n",
       "</div>"
      ],
      "text/plain": [
       "                        name  \\\n",
       "recipes_id                     \n",
       "0             Dessert Crepes   \n",
       "1           Chicken Parmesan   \n",
       "\n",
       "                                                          url  \\\n",
       "recipes_id                                                      \n",
       "0           https://www.allrecipes.com/recipe/19037/desser...   \n",
       "1           https://www.allrecipes.com/recipe/223042/chick...   \n",
       "\n",
       "                        category  rating  rating_count  \\\n",
       "recipes_id                                               \n",
       "0           breakfast-and-brunch    4.80          1156   \n",
       "1                  world-cuisine    4.83          4245   \n",
       "\n",
       "                                                  ingredients  total  \\\n",
       "recipes_id                                                             \n",
       "0           ['4  eggs, lightly beaten ', ' 1\\u2009⅓ cups m...     20   \n",
       "1           ['4  skinless, boneless chicken breast halves ...     60   \n",
       "\n",
       "            servings       yield  calories  carbohydrates_g  fat_g  protein_g  \\\n",
       "recipes_id                                                                      \n",
       "0                  8    8 crepes     163.8             17.2    7.7        6.4   \n",
       "1                  4  4 servings     470.8             24.8   24.9       42.1   \n",
       "\n",
       "                                           ingredients_parsed  \n",
       "recipes_id                                                     \n",
       "0                                  ['milk', 'flour', 'sugar']  \n",
       "1           ['chicken breast', 'egg', 'panko bread', 'parm...  "
      ]
     },
     "execution_count": 31,
     "metadata": {},
     "output_type": "execute_result"
    }
   ],
   "source": [
    "##rename the dataframe id\n",
    "recipes.index.names = ['recipes_id']\n",
    "recipes.head(2)"
   ]
  },
  {
   "cell_type": "code",
   "execution_count": 32,
   "metadata": {},
   "outputs": [],
   "source": [
    "##normalize the numerical column (total+nutritional values) in new dataframe << because i dont want to normalize all other features\n",
    "newrecipes = recipes[['total', 'calories', 'carbohydrates_g', 'fat_g', 'protein_g']]\n",
    "recipes_norm = pd.DataFrame(normalize(newrecipes, axis=0))\n",
    "recipes_norm.columns = newrecipes.columns\n",
    "recipes_norm.index = newrecipes.index\n",
    "# save dataframe to pickle file\n",
    "recipes_norm.to_pickle('recipes_norm.pkl')"
   ]
  },
  {
   "cell_type": "code",
   "execution_count": 33,
   "metadata": {},
   "outputs": [],
   "source": [
    "##convert index to column\n",
    "recipes['recipes_id'] = recipes.index\n"
   ]
  },
  {
   "cell_type": "code",
   "execution_count": 34,
   "metadata": {},
   "outputs": [],
   "source": [
    "\n",
    "#####creare a function for selected recipe. Guidance reference https://www.kaggle.com/code/yyzz1010/content-based-filtering-recipe-recommender?scriptVersionId=21219821&cellId=22 \n",
    "def selected_recipe(recipes_id):\n",
    "    recipe_df = recipes.set_index('recipes_id') # set a new index to this DataFrame\n",
    "    x = \"{}  {}\".format(recipes_id, recipe_df.at[recipes_id, 'name']) #placeholders \n",
    "    print(x)"
   ]
  },
  {
   "cell_type": "code",
   "execution_count": 35,
   "metadata": {},
   "outputs": [],
   "source": [
    "#####creare a function that recommends top 3 similar recipe using cosine. Guidance reference https://www.kaggle.com/code/yyzz1010/content-based-filtering-recipe-recommender?scriptVersionId=21219821&cellId=23\n",
    "def recipe_recommender(recipes_id):\n",
    "    \n",
    "     allRecipes = pd.DataFrame(recipes_norm.index)\n",
    "     allRecipes = allRecipes[allRecipes.recipes_id != recipes_id]\n",
    "     allRecipes[\"distance\"] = allRecipes[\"recipes_id\"].apply(lambda x: cosine(recipes_norm.loc[recipes_id], recipes_norm.loc[x]))\n",
    "     Top3NRecommendation = allRecipes.sort_values([\"distance\"]).head(3).sort_values(by=['distance', 'recipes_id'])\n",
    "     # sort by distance then recipe id, the smaller value of recipe id will be picked. \n",
    "    \n",
    "     recipe_df = recipes.set_index('recipes_id')\n",
    "     recipes_id = [recipes_id]\n",
    "     recipe_list = []\n",
    "     for recipeid in Top3NRecommendation.recipes_id:\n",
    "        recipes_id.append(recipeid)   # list of recipe id of selected recipe and recommended recipe\n",
    "        recipe_list.append(\"{}  {}\".format(recipeid, recipes.at[recipeid, 'url']))\n",
    "        recipe_list.append(\"{}  {}\".format(recipeid, recipes.at[recipeid, 'name']))\n",
    "     return recipe_list"
   ]
  },
  {
   "cell_type": "code",
   "execution_count": 36,
   "metadata": {},
   "outputs": [
    {
     "name": "stdout",
     "output_type": "stream",
     "text": [
      "25  Simple Roasted Butternut Squash\n"
     ]
    }
   ],
   "source": [
    "selected_recipe(25)"
   ]
  },
  {
   "cell_type": "code",
   "execution_count": 37,
   "metadata": {},
   "outputs": [
    {
     "data": {
      "text/plain": [
       "['15066  https://www.allrecipes.com/recipe/236593/gluten-free-moist-choc-chip-banana-bread/',\n",
       " '15066  Gluten-Free Moist Choc Chip Banana Bread',\n",
       " '8757  https://www.allrecipes.com/recipe/45223/coffee-date-bread/',\n",
       " '8757  Coffee Date Bread',\n",
       " '14784  https://www.allrecipes.com/recipe/229967/mini-chocolate-chip-pumpkin-muffins/',\n",
       " '14784  Mini Chocolate Chip Pumpkin Muffins']"
      ]
     },
     "execution_count": 37,
     "metadata": {},
     "output_type": "execute_result"
    }
   ],
   "source": [
    "recipe_recommender(25)"
   ]
  },
  {
   "cell_type": "code",
   "execution_count": 38,
   "metadata": {},
   "outputs": [
    {
     "name": "stderr",
     "output_type": "stream",
     "text": [
      "/tmp/ipykernel_23514/2606021746.py:3: FutureWarning: The frame.append method is deprecated and will be removed from pandas in a future version. Use pandas.concat instead.\n",
      "  recipes = recipes.append(user_df, ignore_index = True)\n"
     ]
    },
    {
     "data": {
      "text/html": [
       "<div>\n",
       "<style scoped>\n",
       "    .dataframe tbody tr th:only-of-type {\n",
       "        vertical-align: middle;\n",
       "    }\n",
       "\n",
       "    .dataframe tbody tr th {\n",
       "        vertical-align: top;\n",
       "    }\n",
       "\n",
       "    .dataframe thead th {\n",
       "        text-align: right;\n",
       "    }\n",
       "</style>\n",
       "<table border=\"1\" class=\"dataframe\">\n",
       "  <thead>\n",
       "    <tr style=\"text-align: right;\">\n",
       "      <th></th>\n",
       "      <th>name</th>\n",
       "      <th>url</th>\n",
       "      <th>category</th>\n",
       "      <th>rating</th>\n",
       "      <th>rating_count</th>\n",
       "      <th>ingredients</th>\n",
       "      <th>total</th>\n",
       "      <th>servings</th>\n",
       "      <th>yield</th>\n",
       "      <th>calories</th>\n",
       "      <th>carbohydrates_g</th>\n",
       "      <th>fat_g</th>\n",
       "      <th>protein_g</th>\n",
       "      <th>ingredients_parsed</th>\n",
       "      <th>recipes_id</th>\n",
       "    </tr>\n",
       "  </thead>\n",
       "  <tbody>\n",
       "    <tr>\n",
       "      <th>19223</th>\n",
       "      <td>Easy Baked Zucchini Chips</td>\n",
       "      <td>https://www.allrecipes.com/recipe/242066/easy-...</td>\n",
       "      <td>appetizers-and-snacks</td>\n",
       "      <td>3.68</td>\n",
       "      <td>28</td>\n",
       "      <td>['1  zucchini, thinly sliced ', ' 1 tablespoon...</td>\n",
       "      <td>30</td>\n",
       "      <td>2</td>\n",
       "      <td>2 servings</td>\n",
       "      <td>69.1</td>\n",
       "      <td>2.0</td>\n",
       "      <td>6.9</td>\n",
       "      <td>0.7</td>\n",
       "      <td>['flavored']</td>\n",
       "      <td>19223.0</td>\n",
       "    </tr>\n",
       "    <tr>\n",
       "      <th>19224</th>\n",
       "      <td>user</td>\n",
       "      <td>no</td>\n",
       "      <td>no</td>\n",
       "      <td>no</td>\n",
       "      <td>no</td>\n",
       "      <td>no</td>\n",
       "      <td>a</td>\n",
       "      <td>no</td>\n",
       "      <td>no</td>\n",
       "      <td>b</td>\n",
       "      <td>c</td>\n",
       "      <td>d</td>\n",
       "      <td>e</td>\n",
       "      <td>no</td>\n",
       "      <td>NaN</td>\n",
       "    </tr>\n",
       "  </tbody>\n",
       "</table>\n",
       "</div>"
      ],
      "text/plain": [
       "                            name  \\\n",
       "19223  Easy Baked Zucchini Chips   \n",
       "19224                       user   \n",
       "\n",
       "                                                     url  \\\n",
       "19223  https://www.allrecipes.com/recipe/242066/easy-...   \n",
       "19224                                                 no   \n",
       "\n",
       "                    category rating rating_count  \\\n",
       "19223  appetizers-and-snacks   3.68           28   \n",
       "19224                     no     no           no   \n",
       "\n",
       "                                             ingredients total servings  \\\n",
       "19223  ['1  zucchini, thinly sliced ', ' 1 tablespoon...    30        2   \n",
       "19224                                                 no     a       no   \n",
       "\n",
       "            yield calories carbohydrates_g fat_g protein_g ingredients_parsed  \\\n",
       "19223  2 servings     69.1             2.0   6.9       0.7       ['flavored']   \n",
       "19224          no        b               c     d         e                 no   \n",
       "\n",
       "       recipes_id  \n",
       "19223     19223.0  \n",
       "19224         NaN  "
      ]
     },
     "execution_count": 38,
     "metadata": {},
     "output_type": "execute_result"
    }
   ],
   "source": [
    "##create a new row to the dataframe for user input & add it again to the dataframe\n",
    "user_df = {'name': 'user', 'url': 'no', 'category': 'no', 'rating': 'no', 'rating_count': 'no', 'ingredients': 'no', 'total': 'a', 'servings': 'no', 'yield': 'no', 'calories': 'b', 'carbohydrates_g': 'c', 'fat_g': 'd','protein_g': 'e','ingredients_parsed': 'no'}\n",
    "recipes = recipes.append(user_df, ignore_index = True)\n",
    "recipes.tail(2)"
   ]
  },
  {
   "cell_type": "code",
   "execution_count": 39,
   "metadata": {},
   "outputs": [],
   "source": [
    "##How can I take user input and add it this function?\n",
    "# def user_recommender(a, b, c, d, e):\n",
    "    # total=float(a)\n",
    "    # calories=float(b)\n",
    "    # carbs=float(c)\n",
    "    # fat=float(d)\n",
    "    # protein=float(e)\n",
    "    # user_input=[a,b,c,d,e]\n",
    "    # normalize([user_input])\n",
    "    # print([user_input])"
   ]
  },
  {
   "cell_type": "code",
   "execution_count": 40,
   "metadata": {},
   "outputs": [],
   "source": [
    "# user_recommender(15, 400, 50, 9, 10)"
   ]
  },
  {
   "cell_type": "code",
   "execution_count": 41,
   "metadata": {},
   "outputs": [],
   "source": [
    "\n",
    "##append it to the dataframe\n",
    "# to_append = [5, 6]\n",
    "# a_series = pd.Series(to_append, index = df.columns)\n",
    "# df = df.append(a_series, ignore_index=True)"
   ]
  },
  {
   "cell_type": "code",
   "execution_count": 42,
   "metadata": {},
   "outputs": [
    {
     "ename": "IndentationError",
     "evalue": "expected an indented block (4283453877.py, line 3)",
     "output_type": "error",
     "traceback": [
      "\u001b[0;36m  Input \u001b[0;32mIn [42]\u001b[0;36m\u001b[0m\n\u001b[0;31m    \u001b[0m\n\u001b[0m    ^\u001b[0m\n\u001b[0;31mIndentationError\u001b[0m\u001b[0;31m:\u001b[0m expected an indented block\n"
     ]
    }
   ],
   "source": [
    "###Gigantic function, I hope it works \n",
    "def personalized_recommender(a, b, c, d, e):\n",
    "    "
   ]
  }
 ],
 "metadata": {
  "kernelspec": {
   "display_name": "Python 3.9.12 ('base')",
   "language": "python",
   "name": "python3"
  },
  "language_info": {
   "codemirror_mode": {
    "name": "ipython",
    "version": 3
   },
   "file_extension": ".py",
   "mimetype": "text/x-python",
   "name": "python",
   "nbconvert_exporter": "python",
   "pygments_lexer": "ipython3",
   "version": "3.9.12"
  },
  "orig_nbformat": 4,
  "vscode": {
   "interpreter": {
    "hash": "d4d1e4263499bec80672ea0156c357c1ee493ec2b1c70f0acce89fc37c4a6abe"
   }
  }
 },
 "nbformat": 4,
 "nbformat_minor": 2
}
