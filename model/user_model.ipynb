{
 "cells": [
  {
   "cell_type": "code",
   "execution_count": 360,
   "metadata": {},
   "outputs": [],
   "source": [
    "#libraries\n",
    "import pandas as pd\n",
    "import numpy as np\n",
    "from scipy.spatial.distance import cosine\n",
    "from sklearn.preprocessing import normalize"
   ]
  },
  {
   "cell_type": "code",
   "execution_count": 361,
   "metadata": {},
   "outputs": [],
   "source": [
    "#read the data \n",
    "recipes = pd.read_csv('../data/full_clean_data.csv')\n",
    "#rename the index\n",
    "recipes.index.names = ['recipes_id']"
   ]
  },
  {
   "cell_type": "code",
   "execution_count": 392,
   "metadata": {},
   "outputs": [],
   "source": [
    "##create a new df for user input & concate it to the original dataframe\n",
    "#user input: a = total, b = calories, c = carbohydrate, d = fat, e = protein.\n",
    "def user_recipes(a, b, c, d, e):\n",
    "    user_df = pd.DataFrame({'name': 'user', 'url': 'no', 'category': 'no', 'rating': 'no', 'rating_count': 'no', 'ingredients': 'no', 'total': a, 'servings': 'no', 'yield': 'no', 'calories': b, 'carbohydrates_g': c, 'fat_g': d,'protein_g': e,'ingredients_parsed': 'no'}, index=[19224])\n",
    "    full_df = pd.concat([recipes, user_df], ignore_index = False, axis = 0) \n",
    "    ##normalize the total, calories, carb, fat, protein features\n",
    "    new_norm = full_df[['total', 'calories', 'carbohydrates_g', 'fat_g', 'protein_g']]\n",
    "    full_norm = pd.DataFrame(normalize(new_norm, axis=0))\n",
    "    full_norm.columns = new_norm.columns\n",
    "    full_norm.index = new_norm.index\n",
    "    ##convert index to column\n",
    "    full_df['recipes_id'] = full_df.index\n",
    "    #print(full_norm.tail(2))\n",
    "    #use the old function here\n",
    "    allRecipes = pd.DataFrame(full_norm.index)\n",
    "    allRecipes = allRecipes[allRecipes.recipes_id != recipes_id]\n",
    "    allRecipes[\"distance\"] = allRecipes[\"recipes_id\"].apply(lambda x: cosine(full_norm.loc[recipes_id], full_norm.loc[19224]))\n",
    "    Top3NRecommendation = allRecipes.sort_values([\"distance\"]).head(3).sort_values(by=['distance', 'recipes_id'])\n",
    "     # sort by distance then recipe id, the smaller value of recipe id will be picked. \n",
    "    recipe_df = full_norm.set_index('recipes_id')\n",
    "    recipes_id = [recipes_id]\n",
    "    recipe_list = []\n",
    "    for recipeid in Top3NRecommendation.recipes_id:\n",
    "        recipes_id.append(recipeid)   # list of recipe id of selected recipe and recommended recipe\n",
    "        recipe_list.append(\"{}  {}\".format(recipeid, full_norm.at[recipeid, 'url']))\n",
    "        recipe_list.append(\"{}  {}\".format(recipeid, full_norm.at[recipeid, 'name']))\n",
    "    return recipe_list\n",
    "    "
   ]
  },
  {
   "cell_type": "code",
   "execution_count": 393,
   "metadata": {},
   "outputs": [
    {
     "ename": "AttributeError",
     "evalue": "'DataFrame' object has no attribute 'recipes_id'",
     "output_type": "error",
     "traceback": [
      "\u001b[0;31m---------------------------------------------------------------------------\u001b[0m",
      "\u001b[0;31mAttributeError\u001b[0m                            Traceback (most recent call last)",
      "\u001b[1;32m/workspace/personal/Personalized_Recipe_Recommender/model/user_model.ipynb Cell 4\u001b[0m in \u001b[0;36m<cell line: 1>\u001b[0;34m()\u001b[0m\n\u001b[0;32m----> <a href='vscode-notebook-cell://dev-container%2B643a5c6d69736b2d4453495c4d69736b2d4453492d323032325c2e646576636f6e7461696e65722e636f64652d776f726b7370616365/workspace/personal/Personalized_Recipe_Recommender/model/user_model.ipynb#ch0000010vscode-remote?line=0'>1</a>\u001b[0m user_recipes(\u001b[39m45\u001b[39;49m, \u001b[39m300\u001b[39;49m, \u001b[39m40\u001b[39;49m, \u001b[39m9\u001b[39;49m, \u001b[39m8\u001b[39;49m)\n",
      "\u001b[1;32m/workspace/personal/Personalized_Recipe_Recommender/model/user_model.ipynb Cell 4\u001b[0m in \u001b[0;36muser_recipes\u001b[0;34m(a, b, c, d, e)\u001b[0m\n\u001b[1;32m     <a href='vscode-notebook-cell://dev-container%2B643a5c6d69736b2d4453495c4d69736b2d4453492d323032325c2e646576636f6e7461696e65722e636f64652d776f726b7370616365/workspace/personal/Personalized_Recipe_Recommender/model/user_model.ipynb#ch0000010vscode-remote?line=12'>13</a>\u001b[0m \u001b[39m#print(full_norm.tail(2))\u001b[39;00m\n\u001b[1;32m     <a href='vscode-notebook-cell://dev-container%2B643a5c6d69736b2d4453495c4d69736b2d4453492d323032325c2e646576636f6e7461696e65722e636f64652d776f726b7370616365/workspace/personal/Personalized_Recipe_Recommender/model/user_model.ipynb#ch0000010vscode-remote?line=13'>14</a>\u001b[0m \u001b[39m#use the old function here\u001b[39;00m\n\u001b[1;32m     <a href='vscode-notebook-cell://dev-container%2B643a5c6d69736b2d4453495c4d69736b2d4453492d323032325c2e646576636f6e7461696e65722e636f64652d776f726b7370616365/workspace/personal/Personalized_Recipe_Recommender/model/user_model.ipynb#ch0000010vscode-remote?line=14'>15</a>\u001b[0m allRecipes \u001b[39m=\u001b[39m pd\u001b[39m.\u001b[39mDataFrame(full_norm\u001b[39m.\u001b[39mindex)\n\u001b[0;32m---> <a href='vscode-notebook-cell://dev-container%2B643a5c6d69736b2d4453495c4d69736b2d4453492d323032325c2e646576636f6e7461696e65722e636f64652d776f726b7370616365/workspace/personal/Personalized_Recipe_Recommender/model/user_model.ipynb#ch0000010vscode-remote?line=15'>16</a>\u001b[0m allRecipes \u001b[39m=\u001b[39m allRecipes[allRecipes\u001b[39m.\u001b[39;49mrecipes_id \u001b[39m!=\u001b[39m recipes_id]\n\u001b[1;32m     <a href='vscode-notebook-cell://dev-container%2B643a5c6d69736b2d4453495c4d69736b2d4453492d323032325c2e646576636f6e7461696e65722e636f64652d776f726b7370616365/workspace/personal/Personalized_Recipe_Recommender/model/user_model.ipynb#ch0000010vscode-remote?line=16'>17</a>\u001b[0m allRecipes[\u001b[39m\"\u001b[39m\u001b[39mdistance\u001b[39m\u001b[39m\"\u001b[39m] \u001b[39m=\u001b[39m allRecipes[\u001b[39m\"\u001b[39m\u001b[39mrecipes_id\u001b[39m\u001b[39m\"\u001b[39m]\u001b[39m.\u001b[39mapply(\u001b[39mlambda\u001b[39;00m x: cosine(full_norm\u001b[39m.\u001b[39mloc[recipes_id], full_norm\u001b[39m.\u001b[39mloc[\u001b[39m19224\u001b[39m]))\n\u001b[1;32m     <a href='vscode-notebook-cell://dev-container%2B643a5c6d69736b2d4453495c4d69736b2d4453492d323032325c2e646576636f6e7461696e65722e636f64652d776f726b7370616365/workspace/personal/Personalized_Recipe_Recommender/model/user_model.ipynb#ch0000010vscode-remote?line=17'>18</a>\u001b[0m Top3NRecommendation \u001b[39m=\u001b[39m allRecipes\u001b[39m.\u001b[39msort_values([\u001b[39m\"\u001b[39m\u001b[39mdistance\u001b[39m\u001b[39m\"\u001b[39m])\u001b[39m.\u001b[39mhead(\u001b[39m3\u001b[39m)\u001b[39m.\u001b[39msort_values(by\u001b[39m=\u001b[39m[\u001b[39m'\u001b[39m\u001b[39mdistance\u001b[39m\u001b[39m'\u001b[39m, \u001b[39m'\u001b[39m\u001b[39mrecipes_id\u001b[39m\u001b[39m'\u001b[39m])\n",
      "File \u001b[0;32m/opt/conda/lib/python3.9/site-packages/pandas/core/generic.py:5575\u001b[0m, in \u001b[0;36mNDFrame.__getattr__\u001b[0;34m(self, name)\u001b[0m\n\u001b[1;32m   5568\u001b[0m \u001b[39mif\u001b[39;00m (\n\u001b[1;32m   5569\u001b[0m     name \u001b[39mnot\u001b[39;00m \u001b[39min\u001b[39;00m \u001b[39mself\u001b[39m\u001b[39m.\u001b[39m_internal_names_set\n\u001b[1;32m   5570\u001b[0m     \u001b[39mand\u001b[39;00m name \u001b[39mnot\u001b[39;00m \u001b[39min\u001b[39;00m \u001b[39mself\u001b[39m\u001b[39m.\u001b[39m_metadata\n\u001b[1;32m   5571\u001b[0m     \u001b[39mand\u001b[39;00m name \u001b[39mnot\u001b[39;00m \u001b[39min\u001b[39;00m \u001b[39mself\u001b[39m\u001b[39m.\u001b[39m_accessors\n\u001b[1;32m   5572\u001b[0m     \u001b[39mand\u001b[39;00m \u001b[39mself\u001b[39m\u001b[39m.\u001b[39m_info_axis\u001b[39m.\u001b[39m_can_hold_identifiers_and_holds_name(name)\n\u001b[1;32m   5573\u001b[0m ):\n\u001b[1;32m   5574\u001b[0m     \u001b[39mreturn\u001b[39;00m \u001b[39mself\u001b[39m[name]\n\u001b[0;32m-> 5575\u001b[0m \u001b[39mreturn\u001b[39;00m \u001b[39mobject\u001b[39;49m\u001b[39m.\u001b[39;49m\u001b[39m__getattribute__\u001b[39;49m(\u001b[39mself\u001b[39;49m, name)\n",
      "\u001b[0;31mAttributeError\u001b[0m: 'DataFrame' object has no attribute 'recipes_id'"
     ]
    }
   ],
   "source": [
    "user_recipes(45, 300, 40, 9, 8)"
   ]
  }
 ],
 "metadata": {
  "kernelspec": {
   "display_name": "Python 3.9.12 ('base')",
   "language": "python",
   "name": "python3"
  },
  "language_info": {
   "codemirror_mode": {
    "name": "ipython",
    "version": 3
   },
   "file_extension": ".py",
   "mimetype": "text/x-python",
   "name": "python",
   "nbconvert_exporter": "python",
   "pygments_lexer": "ipython3",
   "version": "3.9.12"
  },
  "orig_nbformat": 4,
  "vscode": {
   "interpreter": {
    "hash": "d4d1e4263499bec80672ea0156c357c1ee493ec2b1c70f0acce89fc37c4a6abe"
   }
  }
 },
 "nbformat": 4,
 "nbformat_minor": 2
}
