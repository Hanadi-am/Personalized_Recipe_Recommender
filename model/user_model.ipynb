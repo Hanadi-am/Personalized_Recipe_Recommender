{
 "cells": [
  {
   "cell_type": "code",
   "execution_count": 489,
   "metadata": {},
   "outputs": [],
   "source": [
    "#libraries\n",
    "import pandas as pd\n",
    "import numpy as np\n",
    "from scipy.spatial.distance import euclidean\n",
    "from sklearn.preprocessing import normalize"
   ]
  },
  {
   "cell_type": "code",
   "execution_count": 490,
   "metadata": {},
   "outputs": [
    {
     "data": {
      "text/html": [
       "<div>\n",
       "<style scoped>\n",
       "    .dataframe tbody tr th:only-of-type {\n",
       "        vertical-align: middle;\n",
       "    }\n",
       "\n",
       "    .dataframe tbody tr th {\n",
       "        vertical-align: top;\n",
       "    }\n",
       "\n",
       "    .dataframe thead th {\n",
       "        text-align: right;\n",
       "    }\n",
       "</style>\n",
       "<table border=\"1\" class=\"dataframe\">\n",
       "  <thead>\n",
       "    <tr style=\"text-align: right;\">\n",
       "      <th></th>\n",
       "      <th>name</th>\n",
       "      <th>url</th>\n",
       "      <th>category</th>\n",
       "      <th>rating</th>\n",
       "      <th>rating_count</th>\n",
       "      <th>ingredients</th>\n",
       "      <th>total</th>\n",
       "      <th>servings</th>\n",
       "      <th>yield</th>\n",
       "      <th>calories</th>\n",
       "      <th>carbohydrates_g</th>\n",
       "      <th>fat_g</th>\n",
       "      <th>protein_g</th>\n",
       "      <th>ingredients_parsed</th>\n",
       "    </tr>\n",
       "    <tr>\n",
       "      <th>recipes_id</th>\n",
       "      <th></th>\n",
       "      <th></th>\n",
       "      <th></th>\n",
       "      <th></th>\n",
       "      <th></th>\n",
       "      <th></th>\n",
       "      <th></th>\n",
       "      <th></th>\n",
       "      <th></th>\n",
       "      <th></th>\n",
       "      <th></th>\n",
       "      <th></th>\n",
       "      <th></th>\n",
       "      <th></th>\n",
       "    </tr>\n",
       "  </thead>\n",
       "  <tbody>\n",
       "    <tr>\n",
       "      <th>19222</th>\n",
       "      <td>Jalapeno Hummus</td>\n",
       "      <td>https://www.allrecipes.com/recipe/46462/jalape...</td>\n",
       "      <td>appetizers-and-snacks</td>\n",
       "      <td>4.56</td>\n",
       "      <td>281</td>\n",
       "      <td>['1 cup garbanzo beans ', ' ⅓ cup canned jalap...</td>\n",
       "      <td>10</td>\n",
       "      <td>8</td>\n",
       "      <td>8 servings</td>\n",
       "      <td>74.6</td>\n",
       "      <td>9.1</td>\n",
       "      <td>3.5</td>\n",
       "      <td>2.6</td>\n",
       "      <td>['garbanzo bean', 'jalapeno reserved', 'tahini...</td>\n",
       "    </tr>\n",
       "    <tr>\n",
       "      <th>19223</th>\n",
       "      <td>Easy Baked Zucchini Chips</td>\n",
       "      <td>https://www.allrecipes.com/recipe/242066/easy-...</td>\n",
       "      <td>appetizers-and-snacks</td>\n",
       "      <td>3.68</td>\n",
       "      <td>28</td>\n",
       "      <td>['1  zucchini, thinly sliced ', ' 1 tablespoon...</td>\n",
       "      <td>30</td>\n",
       "      <td>2</td>\n",
       "      <td>2 servings</td>\n",
       "      <td>69.1</td>\n",
       "      <td>2.0</td>\n",
       "      <td>6.9</td>\n",
       "      <td>0.7</td>\n",
       "      <td>['flavored']</td>\n",
       "    </tr>\n",
       "  </tbody>\n",
       "</table>\n",
       "</div>"
      ],
      "text/plain": [
       "                                 name  \\\n",
       "recipes_id                              \n",
       "19222                 Jalapeno Hummus   \n",
       "19223       Easy Baked Zucchini Chips   \n",
       "\n",
       "                                                          url  \\\n",
       "recipes_id                                                      \n",
       "19222       https://www.allrecipes.com/recipe/46462/jalape...   \n",
       "19223       https://www.allrecipes.com/recipe/242066/easy-...   \n",
       "\n",
       "                         category  rating  rating_count  \\\n",
       "recipes_id                                                \n",
       "19222       appetizers-and-snacks    4.56           281   \n",
       "19223       appetizers-and-snacks    3.68            28   \n",
       "\n",
       "                                                  ingredients  total  \\\n",
       "recipes_id                                                             \n",
       "19222       ['1 cup garbanzo beans ', ' ⅓ cup canned jalap...     10   \n",
       "19223       ['1  zucchini, thinly sliced ', ' 1 tablespoon...     30   \n",
       "\n",
       "            servings       yield  calories  carbohydrates_g  fat_g  protein_g  \\\n",
       "recipes_id                                                                      \n",
       "19222              8  8 servings      74.6              9.1    3.5        2.6   \n",
       "19223              2  2 servings      69.1              2.0    6.9        0.7   \n",
       "\n",
       "                                           ingredients_parsed  \n",
       "recipes_id                                                     \n",
       "19222       ['garbanzo bean', 'jalapeno reserved', 'tahini...  \n",
       "19223                                            ['flavored']  "
      ]
     },
     "execution_count": 490,
     "metadata": {},
     "output_type": "execute_result"
    }
   ],
   "source": [
    "#read the data \n",
    "recipes = pd.read_csv('../data/full_clean_data.csv')\n",
    "#rename the index\n",
    "recipes.index.names = ['recipes_id']\n",
    "recipes.tail(2)"
   ]
  },
  {
   "cell_type": "code",
   "execution_count": 491,
   "metadata": {},
   "outputs": [],
   "source": [
    "##create a new df for user input & concate it to the original dataframe\n",
    "#user input: a = total, b = calories, c = carbohydrate, d = fat, e = protein.\n",
    "def user_recipes(a, b, c, d, e):\n",
    "    user_df = pd.DataFrame({'recipes_id': 19224 ,'name': 'user', 'url': 'no', 'category': 'no', 'rating': 'no', 'rating_count': 'no', 'ingredients': 'no', 'total': a, 'servings': 'no', 'yield': 'no', 'calories': b, 'carbohydrates_g': c, 'fat_g': d,'protein_g': e,'ingredients_parsed': 'no'}, index=[19224])\n",
    "    full_df = pd.concat([recipes, user_df], ignore_index = False, axis = 0) \n",
    "    #rename the dataframe index\n",
    "    full_df.index.names = ['recipes_id']\n",
    "    ##convert index to column\n",
    "    full_df['recipes_id'] = full_df.index\n",
    "    ##normalize the total, calories, carb, fat, protein features\n",
    "    new_norm = full_df[['total', 'calories', 'carbohydrates_g', 'fat_g', 'protein_g']]\n",
    "    full_norm = pd.DataFrame(normalize(new_norm, axis=0))\n",
    "    full_norm.columns = new_norm.columns\n",
    "    full_norm.index = new_norm.index\n",
    "    print(full_norm.tail(2))\n",
    "    #use the model function here\n",
    "    allRecipes = pd.DataFrame(full_norm.index)\n",
    "    allRecipes = allRecipes[allRecipes.recipes_id != recipes_id]\n",
    "    allRecipes[\"distance\"] = allRecipes[\"recipes_id\"].apply(lambda x: euclidean(full_norm.loc[recipes_id], full_norm.loc[19224]))\n",
    "    # sort by distance then recipe id, the smaller value of recipe id will be picked.\n",
    "    Top3NRecommendation = allRecipes.sort_values([\"distance\"]).head(3).sort_values(by=['distance', 'recipes_id'])\n",
    "    #create a list of the recommended recipe output\n",
    "    recipes_id = [recipes_id]\n",
    "    recipe_list = []\n",
    "    for recipeid in Top3NRecommendation.recipes_id:\n",
    "        recipes_id.append(recipeid)   # list of recipe id of selected recipe and recommended recipe\n",
    "        recipe_list.append(\"{}  {}\".format(recipeid, full_norm.at[recipeid, 'url']))\n",
    "        recipe_list.append(\"{}  {}\".format(recipeid, full_norm.at[recipeid, 'name']))\n",
    "    return recipe_list\n",
    "    "
   ]
  },
  {
   "cell_type": "code",
   "execution_count": 492,
   "metadata": {},
   "outputs": [
    {
     "name": "stdout",
     "output_type": "stream",
     "text": [
      "               total  calories  carbohydrates_g     fat_g  protein_g\n",
      "recipes_id                                                          \n",
      "19223       0.001256   0.00164         0.000412  0.003421   0.000298\n",
      "19224       0.001884   0.00712         0.008230  0.004462   0.003407\n"
     ]
    },
    {
     "ename": "UnboundLocalError",
     "evalue": "local variable 'recipes_id' referenced before assignment",
     "output_type": "error",
     "traceback": [
      "\u001b[0;31m---------------------------------------------------------------------------\u001b[0m",
      "\u001b[0;31mUnboundLocalError\u001b[0m                         Traceback (most recent call last)",
      "\u001b[1;32m/workspace/personal/Personalized_Recipe_Recommender/model/user_model.ipynb Cell 4\u001b[0m in \u001b[0;36m<cell line: 1>\u001b[0;34m()\u001b[0m\n\u001b[0;32m----> <a href='vscode-notebook-cell://dev-container%2B643a5c6d69736b2d4453495c4d69736b2d4453492d323032325c2e646576636f6e7461696e65722e636f64652d776f726b7370616365/workspace/personal/Personalized_Recipe_Recommender/model/user_model.ipynb#ch0000010vscode-remote?line=0'>1</a>\u001b[0m user_recipes(\u001b[39m45\u001b[39;49m, \u001b[39m300\u001b[39;49m, \u001b[39m40\u001b[39;49m, \u001b[39m9\u001b[39;49m, \u001b[39m8\u001b[39;49m)\n",
      "\u001b[1;32m/workspace/personal/Personalized_Recipe_Recommender/model/user_model.ipynb Cell 4\u001b[0m in \u001b[0;36muser_recipes\u001b[0;34m(a, b, c, d, e)\u001b[0m\n\u001b[1;32m     <a href='vscode-notebook-cell://dev-container%2B643a5c6d69736b2d4453495c4d69736b2d4453492d323032325c2e646576636f6e7461696e65722e636f64652d776f726b7370616365/workspace/personal/Personalized_Recipe_Recommender/model/user_model.ipynb#ch0000010vscode-remote?line=15'>16</a>\u001b[0m \u001b[39m#use the model function here\u001b[39;00m\n\u001b[1;32m     <a href='vscode-notebook-cell://dev-container%2B643a5c6d69736b2d4453495c4d69736b2d4453492d323032325c2e646576636f6e7461696e65722e636f64652d776f726b7370616365/workspace/personal/Personalized_Recipe_Recommender/model/user_model.ipynb#ch0000010vscode-remote?line=16'>17</a>\u001b[0m allRecipes \u001b[39m=\u001b[39m pd\u001b[39m.\u001b[39mDataFrame(full_norm\u001b[39m.\u001b[39mindex)\n\u001b[0;32m---> <a href='vscode-notebook-cell://dev-container%2B643a5c6d69736b2d4453495c4d69736b2d4453492d323032325c2e646576636f6e7461696e65722e636f64652d776f726b7370616365/workspace/personal/Personalized_Recipe_Recommender/model/user_model.ipynb#ch0000010vscode-remote?line=17'>18</a>\u001b[0m allRecipes \u001b[39m=\u001b[39m allRecipes[allRecipes\u001b[39m.\u001b[39mrecipes_id \u001b[39m!=\u001b[39m recipes_id]\n\u001b[1;32m     <a href='vscode-notebook-cell://dev-container%2B643a5c6d69736b2d4453495c4d69736b2d4453492d323032325c2e646576636f6e7461696e65722e636f64652d776f726b7370616365/workspace/personal/Personalized_Recipe_Recommender/model/user_model.ipynb#ch0000010vscode-remote?line=18'>19</a>\u001b[0m allRecipes[\u001b[39m\"\u001b[39m\u001b[39mdistance\u001b[39m\u001b[39m\"\u001b[39m] \u001b[39m=\u001b[39m allRecipes[\u001b[39m\"\u001b[39m\u001b[39mrecipes_id\u001b[39m\u001b[39m\"\u001b[39m]\u001b[39m.\u001b[39mapply(\u001b[39mlambda\u001b[39;00m x: euclidean(full_norm\u001b[39m.\u001b[39mloc[recipes_id], full_norm\u001b[39m.\u001b[39mloc[\u001b[39m19224\u001b[39m]))\n\u001b[1;32m     <a href='vscode-notebook-cell://dev-container%2B643a5c6d69736b2d4453495c4d69736b2d4453492d323032325c2e646576636f6e7461696e65722e636f64652d776f726b7370616365/workspace/personal/Personalized_Recipe_Recommender/model/user_model.ipynb#ch0000010vscode-remote?line=19'>20</a>\u001b[0m \u001b[39m# sort by distance then recipe id, the smaller value of recipe id will be picked.\u001b[39;00m\n",
      "\u001b[0;31mUnboundLocalError\u001b[0m: local variable 'recipes_id' referenced before assignment"
     ]
    }
   ],
   "source": [
    "user_recipes(45, 300, 40, 9, 8)"
   ]
  }
 ],
 "metadata": {
  "kernelspec": {
   "display_name": "Python 3.9.12 ('base')",
   "language": "python",
   "name": "python3"
  },
  "language_info": {
   "codemirror_mode": {
    "name": "ipython",
    "version": 3
   },
   "file_extension": ".py",
   "mimetype": "text/x-python",
   "name": "python",
   "nbconvert_exporter": "python",
   "pygments_lexer": "ipython3",
   "version": "3.9.12"
  },
  "orig_nbformat": 4,
  "vscode": {
   "interpreter": {
    "hash": "d4d1e4263499bec80672ea0156c357c1ee493ec2b1c70f0acce89fc37c4a6abe"
   }
  }
 },
 "nbformat": 4,
 "nbformat_minor": 2
}
