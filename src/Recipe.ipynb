{
 "cells": [
  {
   "cell_type": "markdown",
   "metadata": {},
   "source": [
    "# Hanadi's Capstone Project (Personlized Recipe Recommendation)"
   ]
  },
  {
   "cell_type": "code",
   "execution_count": 989,
   "metadata": {},
   "outputs": [],
   "source": [
    "import pandas as pd\n",
    "import numpy as np\n",
    "import seaborn as sns\n",
    "import matplotlib.pyplot as plt\n",
    "\n",
    "from collections import defaultdict\n",
    "import re\n",
    "\n",
    "import nltk\n",
    "import string\n",
    "import ast\n",
    "import re\n",
    "import unidecode\n",
    "from nltk.stem import WordNetLemmatizer\n",
    "from nltk.corpus import wordnet\n",
    "from collections import Counter\n",
    "import config\n",
    "\n"
   ]
  },
  {
   "cell_type": "markdown",
   "metadata": {},
   "source": [
    "## Background"
   ]
  },
  {
   "cell_type": "markdown",
   "metadata": {},
   "source": [
    "Food is the source of energy, having food high in nutritional value is important for the overall health. Being aware of the amount of nutrients in our food help us keep track of meeting our daily needs of energy and nutrients, thus maintaining our health. Time availability to cook varies from time to time, but that shouldn’t prevent us from having the same nutritious meals. For that, I wanted to create a Recommendation system that suggest a recipe based on user’s preference of main ingredient, time to cook, and nutritional information.\n"
   ]
  },
  {
   "cell_type": "markdown",
   "metadata": {},
   "source": [
    "## Data"
   ]
  },
  {
   "cell_type": "markdown",
   "metadata": {},
   "source": [
    "Original dataset contained 35,516 instances & 47 feature. The dataset was scrapped from a recipe website called Allrecipe, and was obtained from this GitHub repo:\n",
    "https://github.com/shaansubbaiah/allrecipes-scraper/tree/main/export\n",
    "\n",
    "For this project I will be using 13 features which are:\n",
    "| Feature         | Description |\n",
    "|  :---:          |   :---:     |\n",
    "|  name           | recipe name |\n",
    "| category        | Recipe category, example (main dish, desserts, bread, ... ect) |\n",
    "| rating          | Recipe rating |\n",
    "| rating count    | Number of ratings |\n",
    "| url             | link to this recipe |\n",
    "| ingredients     | ingredients used in this recipe |\n",
    "| total           | total recipe time, preparation and cooking time |\n",
    "| servings        | number of servings in this recipe |\n",
    "| yield           | what will this recipe yield, example (3 cups, 12 cupcakes, ... ect) |\n",
    "| calories        | amount of calories per serving |\n",
    "| carbohydrates_g | grams of carbohydrate per serving |\n",
    "| fat_g           | grams of fat per serving |\n",
    "| protein_g       | grams of protein per serving |\n"
   ]
  },
  {
   "cell_type": "markdown",
   "metadata": {},
   "source": [
    "## Data preprocessing"
   ]
  },
  {
   "cell_type": "code",
   "execution_count": 990,
   "metadata": {},
   "outputs": [],
   "source": [
    "##Read the data\n",
    "Recipe = pd.read_csv(\"../data/scraped-07-05-21.csv\", index_col=0)"
   ]
  },
  {
   "cell_type": "code",
   "execution_count": 991,
   "metadata": {},
   "outputs": [
    {
     "data": {
      "text/plain": [
       "(35516, 47)"
      ]
     },
     "execution_count": 991,
     "metadata": {},
     "output_type": "execute_result"
    }
   ],
   "source": [
    "## original dataset shape\n",
    "Recipe.shape\n"
   ]
  },
  {
   "cell_type": "code",
   "execution_count": 992,
   "metadata": {},
   "outputs": [
    {
     "name": "stdout",
     "output_type": "stream",
     "text": [
      "<class 'pandas.core.frame.DataFrame'>\n",
      "Int64Index: 35516 entries, 0 to 35515\n",
      "Data columns (total 47 columns):\n",
      " #   Column                 Non-Null Count  Dtype  \n",
      "---  ------                 --------------  -----  \n",
      " 0   name                   35516 non-null  object \n",
      " 1   url                    35516 non-null  object \n",
      " 2   category               35516 non-null  object \n",
      " 3   author                 35475 non-null  object \n",
      " 4   summary                35516 non-null  object \n",
      " 5   rating                 35516 non-null  float64\n",
      " 6   rating_count           35516 non-null  int64  \n",
      " 7   review_count           35516 non-null  int64  \n",
      " 8   ingredients            35516 non-null  object \n",
      " 9   directions             35516 non-null  object \n",
      " 10  prep                   33390 non-null  object \n",
      " 11  cook                   27857 non-null  object \n",
      " 12  total                  33564 non-null  object \n",
      " 13  servings               35516 non-null  int64  \n",
      " 14  yield                  35515 non-null  object \n",
      " 15  calories               35402 non-null  float64\n",
      " 16  carbohydrates_g        35368 non-null  float64\n",
      " 17  sugars_g               34839 non-null  float64\n",
      " 18  fat_g                  35098 non-null  float64\n",
      " 19  saturated_fat_g        34314 non-null  float64\n",
      " 20  cholesterol_mg         29927 non-null  float64\n",
      " 21  protein_g              35255 non-null  float64\n",
      " 22  dietary_fiber_g        34144 non-null  float64\n",
      " 23  sodium_mg              35385 non-null  float64\n",
      " 24  calories_from_fat      35058 non-null  float64\n",
      " 25  calcium_mg             35371 non-null  float64\n",
      " 26  iron_mg                34968 non-null  float64\n",
      " 27  magnesium_mg           35316 non-null  float64\n",
      " 28  potassium_mg           35371 non-null  float64\n",
      " 29  zinc_mg                222 non-null    float64\n",
      " 30  phosphorus_mg          220 non-null    float64\n",
      " 31  vitamin_a_iu_IU        34859 non-null  float64\n",
      " 32  niacin_equivalents_mg  34841 non-null  float64\n",
      " 33  vitamin_b6_mg          0 non-null      float64\n",
      " 34  vitamin_c_mg           32087 non-null  float64\n",
      " 35  folate_mcg             35211 non-null  float64\n",
      " 36  thiamin_mg             27191 non-null  float64\n",
      " 37  riboflavin_mg          216 non-null    float64\n",
      " 38  vitamin_e_iu_IU        218 non-null    float64\n",
      " 39  vitamin_k_mcg          208 non-null    float64\n",
      " 40  biotin_mcg             131 non-null    float64\n",
      " 41  vitamin_b12_mcg        0 non-null      float64\n",
      " 42  mono_fat_g             222 non-null    float64\n",
      " 43  poly_fat_g             222 non-null    float64\n",
      " 44  trans_fatty_acid_g     213 non-null    float64\n",
      " 45  omega_3_fatty_acid_g   0 non-null      float64\n",
      " 46  omega_6_fatty_acid_g   0 non-null      float64\n",
      "dtypes: float64(33), int64(3), object(11)\n",
      "memory usage: 13.0+ MB\n"
     ]
    }
   ],
   "source": [
    "### Check the dataset\n",
    "Recipe.info()"
   ]
  },
  {
   "cell_type": "code",
   "execution_count": 993,
   "metadata": {},
   "outputs": [
    {
     "data": {
      "text/plain": [
       "0"
      ]
     },
     "execution_count": 993,
     "metadata": {},
     "output_type": "execute_result"
    }
   ],
   "source": [
    "##Check for duplicates\n",
    "Recipe.duplicated().sum()"
   ]
  },
  {
   "cell_type": "code",
   "execution_count": 994,
   "metadata": {},
   "outputs": [],
   "source": [
    "##Drop the features that I don't need, for example: (author, summary, review_count, directions, sodium_mg, calories_from_fat, & all micronutirents)\n",
    "Recipe.drop(['author', 'summary', 'review_count', 'directions', 'sugars_g', 'saturated_fat_g', 'cholesterol_mg', 'dietary_fiber_g', 'sodium_mg', 'calories_from_fat', 'prep', 'cook','calcium_mg', 'iron_mg', 'magnesium_mg', 'potassium_mg', 'vitamin_a_iu_IU', 'niacin_equivalents_mg', 'vitamin_c_mg', 'folate_mcg', 'thiamin_mg', 'zinc_mg', 'phosphorus_mg', 'vitamin_b6_mg', 'riboflavin_mg', 'vitamin_e_iu_IU', 'vitamin_k_mcg', 'biotin_mcg' , 'vitamin_b12_mcg', 'mono_fat_g', 'poly_fat_g', 'trans_fatty_acid_g', 'omega_3_fatty_acid_g', 'omega_6_fatty_acid_g'], axis=1, inplace=True )\n"
   ]
  },
  {
   "cell_type": "code",
   "execution_count": 995,
   "metadata": {},
   "outputs": [
    {
     "name": "stdout",
     "output_type": "stream",
     "text": [
      "<class 'pandas.core.frame.DataFrame'>\n",
      "Int64Index: 35516 entries, 0 to 35515\n",
      "Data columns (total 13 columns):\n",
      " #   Column           Non-Null Count  Dtype  \n",
      "---  ------           --------------  -----  \n",
      " 0   name             35516 non-null  object \n",
      " 1   url              35516 non-null  object \n",
      " 2   category         35516 non-null  object \n",
      " 3   rating           35516 non-null  float64\n",
      " 4   rating_count     35516 non-null  int64  \n",
      " 5   ingredients      35516 non-null  object \n",
      " 6   total            33564 non-null  object \n",
      " 7   servings         35516 non-null  int64  \n",
      " 8   yield            35515 non-null  object \n",
      " 9   calories         35402 non-null  float64\n",
      " 10  carbohydrates_g  35368 non-null  float64\n",
      " 11  fat_g            35098 non-null  float64\n",
      " 12  protein_g        35255 non-null  float64\n",
      "dtypes: float64(5), int64(2), object(6)\n",
      "memory usage: 3.8+ MB\n"
     ]
    }
   ],
   "source": [
    "#Check shape after deleting unnecssary features\n",
    "Recipe.info()"
   ]
  },
  {
   "cell_type": "code",
   "execution_count": 996,
   "metadata": {},
   "outputs": [
    {
     "data": {
      "text/html": [
       "<div>\n",
       "<style scoped>\n",
       "    .dataframe tbody tr th:only-of-type {\n",
       "        vertical-align: middle;\n",
       "    }\n",
       "\n",
       "    .dataframe tbody tr th {\n",
       "        vertical-align: top;\n",
       "    }\n",
       "\n",
       "    .dataframe thead th {\n",
       "        text-align: right;\n",
       "    }\n",
       "</style>\n",
       "<table border=\"1\" class=\"dataframe\">\n",
       "  <thead>\n",
       "    <tr style=\"text-align: right;\">\n",
       "      <th></th>\n",
       "      <th>name</th>\n",
       "      <th>url</th>\n",
       "      <th>category</th>\n",
       "      <th>rating</th>\n",
       "      <th>rating_count</th>\n",
       "      <th>ingredients</th>\n",
       "      <th>total</th>\n",
       "      <th>servings</th>\n",
       "      <th>yield</th>\n",
       "      <th>calories</th>\n",
       "      <th>carbohydrates_g</th>\n",
       "      <th>fat_g</th>\n",
       "      <th>protein_g</th>\n",
       "    </tr>\n",
       "  </thead>\n",
       "  <tbody>\n",
       "    <tr>\n",
       "      <th>0</th>\n",
       "      <td>Simple Macaroni and Cheese</td>\n",
       "      <td>https://www.allrecipes.com/recipe/238691/simpl...</td>\n",
       "      <td>main-dish</td>\n",
       "      <td>4.42</td>\n",
       "      <td>834</td>\n",
       "      <td>1 (8 ounce) box elbow macaroni ; ¼ cup butter ...</td>\n",
       "      <td>30 mins</td>\n",
       "      <td>4</td>\n",
       "      <td>4 servings</td>\n",
       "      <td>630.2</td>\n",
       "      <td>55.0</td>\n",
       "      <td>33.6</td>\n",
       "      <td>26.5</td>\n",
       "    </tr>\n",
       "    <tr>\n",
       "      <th>1</th>\n",
       "      <td>Gourmet Mushroom Risotto</td>\n",
       "      <td>https://www.allrecipes.com/recipe/85389/gourme...</td>\n",
       "      <td>main-dish</td>\n",
       "      <td>4.80</td>\n",
       "      <td>3388</td>\n",
       "      <td>6 cups chicken broth, divided ; 3 tablespoons ...</td>\n",
       "      <td>50 mins</td>\n",
       "      <td>6</td>\n",
       "      <td>6 servings</td>\n",
       "      <td>430.6</td>\n",
       "      <td>56.6</td>\n",
       "      <td>16.6</td>\n",
       "      <td>11.3</td>\n",
       "    </tr>\n",
       "    <tr>\n",
       "      <th>2</th>\n",
       "      <td>Dessert Crepes</td>\n",
       "      <td>https://www.allrecipes.com/recipe/19037/desser...</td>\n",
       "      <td>breakfast-and-brunch</td>\n",
       "      <td>4.80</td>\n",
       "      <td>1156</td>\n",
       "      <td>4  eggs, lightly beaten ; 1 ⅓ cups milk ; 2 ta...</td>\n",
       "      <td>20 mins</td>\n",
       "      <td>8</td>\n",
       "      <td>8 crepes</td>\n",
       "      <td>163.8</td>\n",
       "      <td>17.2</td>\n",
       "      <td>7.7</td>\n",
       "      <td>6.4</td>\n",
       "    </tr>\n",
       "  </tbody>\n",
       "</table>\n",
       "</div>"
      ],
      "text/plain": [
       "                         name  \\\n",
       "0  Simple Macaroni and Cheese   \n",
       "1    Gourmet Mushroom Risotto   \n",
       "2              Dessert Crepes   \n",
       "\n",
       "                                                 url              category  \\\n",
       "0  https://www.allrecipes.com/recipe/238691/simpl...             main-dish   \n",
       "1  https://www.allrecipes.com/recipe/85389/gourme...             main-dish   \n",
       "2  https://www.allrecipes.com/recipe/19037/desser...  breakfast-and-brunch   \n",
       "\n",
       "   rating  rating_count                                        ingredients  \\\n",
       "0    4.42           834  1 (8 ounce) box elbow macaroni ; ¼ cup butter ...   \n",
       "1    4.80          3388  6 cups chicken broth, divided ; 3 tablespoons ...   \n",
       "2    4.80          1156  4  eggs, lightly beaten ; 1 ⅓ cups milk ; 2 ta...   \n",
       "\n",
       "     total  servings       yield  calories  carbohydrates_g  fat_g  protein_g  \n",
       "0  30 mins         4  4 servings     630.2             55.0   33.6       26.5  \n",
       "1  50 mins         6  6 servings     430.6             56.6   16.6       11.3  \n",
       "2  20 mins         8    8 crepes     163.8             17.2    7.7        6.4  "
      ]
     },
     "execution_count": 996,
     "metadata": {},
     "output_type": "execute_result"
    }
   ],
   "source": [
    "## Look at the head before cleaning\n",
    "Recipe.head(3)"
   ]
  },
  {
   "cell_type": "code",
   "execution_count": 997,
   "metadata": {},
   "outputs": [
    {
     "data": {
      "text/plain": [
       "name                  0\n",
       "url                   0\n",
       "category              0\n",
       "rating                0\n",
       "rating_count          0\n",
       "ingredients           0\n",
       "total              1952\n",
       "servings              0\n",
       "yield                 1\n",
       "calories            114\n",
       "carbohydrates_g     148\n",
       "fat_g               418\n",
       "protein_g           261\n",
       "dtype: int64"
      ]
     },
     "execution_count": 997,
     "metadata": {},
     "output_type": "execute_result"
    }
   ],
   "source": [
    "##checking for missing calue\n",
    "Recipe.isna().sum()\n",
    "#Maximum missing values were in total cooking time was (1952) which represents 5% of the total data.\n",
    "#All other missing values were in the nutrient information features  were less than (500)."
   ]
  },
  {
   "cell_type": "code",
   "execution_count": 998,
   "metadata": {},
   "outputs": [
    {
     "data": {
      "text/plain": [
       "name               0\n",
       "url                0\n",
       "category           0\n",
       "rating             0\n",
       "rating_count       0\n",
       "ingredients        0\n",
       "total              0\n",
       "servings           0\n",
       "yield              0\n",
       "calories           0\n",
       "carbohydrates_g    0\n",
       "fat_g              0\n",
       "protein_g          0\n",
       "dtype: int64"
      ]
     },
     "execution_count": 998,
     "metadata": {},
     "output_type": "execute_result"
    }
   ],
   "source": [
    "###Dealing with missing data, I'll drop the instences that doesn't contain the maximum missing values feature represents only 5% of the total data.\n",
    "\n",
    "Recipe.dropna(inplace=True)\n",
    "Recipe.isna().sum()\n"
   ]
  },
  {
   "cell_type": "markdown",
   "metadata": {},
   "source": [
    "### Nutrition values columns"
   ]
  },
  {
   "cell_type": "code",
   "execution_count": 999,
   "metadata": {},
   "outputs": [
    {
     "data": {
      "text/html": [
       "<div>\n",
       "<style scoped>\n",
       "    .dataframe tbody tr th:only-of-type {\n",
       "        vertical-align: middle;\n",
       "    }\n",
       "\n",
       "    .dataframe tbody tr th {\n",
       "        vertical-align: top;\n",
       "    }\n",
       "\n",
       "    .dataframe thead th {\n",
       "        text-align: right;\n",
       "    }\n",
       "</style>\n",
       "<table border=\"1\" class=\"dataframe\">\n",
       "  <thead>\n",
       "    <tr style=\"text-align: right;\">\n",
       "      <th></th>\n",
       "      <th>rating</th>\n",
       "      <th>rating_count</th>\n",
       "      <th>servings</th>\n",
       "      <th>calories</th>\n",
       "      <th>carbohydrates_g</th>\n",
       "      <th>fat_g</th>\n",
       "      <th>protein_g</th>\n",
       "    </tr>\n",
       "  </thead>\n",
       "  <tbody>\n",
       "    <tr>\n",
       "      <th>count</th>\n",
       "      <td>33102.000000</td>\n",
       "      <td>33102.000000</td>\n",
       "      <td>33102.000000</td>\n",
       "      <td>33102.000000</td>\n",
       "      <td>33102.000000</td>\n",
       "      <td>33102.000000</td>\n",
       "      <td>33102.000000</td>\n",
       "    </tr>\n",
       "    <tr>\n",
       "      <th>mean</th>\n",
       "      <td>4.002661</td>\n",
       "      <td>136.172135</td>\n",
       "      <td>10.090357</td>\n",
       "      <td>318.526714</td>\n",
       "      <td>28.546888</td>\n",
       "      <td>16.734657</td>\n",
       "      <td>14.192982</td>\n",
       "    </tr>\n",
       "    <tr>\n",
       "      <th>std</th>\n",
       "      <td>1.372287</td>\n",
       "      <td>521.557650</td>\n",
       "      <td>11.517070</td>\n",
       "      <td>212.192220</td>\n",
       "      <td>24.092086</td>\n",
       "      <td>14.545362</td>\n",
       "      <td>14.063005</td>\n",
       "    </tr>\n",
       "    <tr>\n",
       "      <th>min</th>\n",
       "      <td>0.000000</td>\n",
       "      <td>0.000000</td>\n",
       "      <td>1.000000</td>\n",
       "      <td>0.100000</td>\n",
       "      <td>0.000000</td>\n",
       "      <td>0.000000</td>\n",
       "      <td>0.000000</td>\n",
       "    </tr>\n",
       "    <tr>\n",
       "      <th>25%</th>\n",
       "      <td>4.110000</td>\n",
       "      <td>4.000000</td>\n",
       "      <td>4.000000</td>\n",
       "      <td>167.625000</td>\n",
       "      <td>10.800000</td>\n",
       "      <td>6.700000</td>\n",
       "      <td>3.700000</td>\n",
       "    </tr>\n",
       "    <tr>\n",
       "      <th>50%</th>\n",
       "      <td>4.480000</td>\n",
       "      <td>21.000000</td>\n",
       "      <td>8.000000</td>\n",
       "      <td>280.000000</td>\n",
       "      <td>24.000000</td>\n",
       "      <td>13.300000</td>\n",
       "      <td>8.800000</td>\n",
       "    </tr>\n",
       "    <tr>\n",
       "      <th>75%</th>\n",
       "      <td>4.670000</td>\n",
       "      <td>88.000000</td>\n",
       "      <td>12.000000</td>\n",
       "      <td>421.900000</td>\n",
       "      <td>40.400000</td>\n",
       "      <td>22.900000</td>\n",
       "      <td>22.000000</td>\n",
       "    </tr>\n",
       "    <tr>\n",
       "      <th>max</th>\n",
       "      <td>5.000000</td>\n",
       "      <td>19358.000000</td>\n",
       "      <td>832.000000</td>\n",
       "      <td>4709.200000</td>\n",
       "      <td>578.200000</td>\n",
       "      <td>383.900000</td>\n",
       "      <td>273.200000</td>\n",
       "    </tr>\n",
       "  </tbody>\n",
       "</table>\n",
       "</div>"
      ],
      "text/plain": [
       "             rating  rating_count      servings      calories  \\\n",
       "count  33102.000000  33102.000000  33102.000000  33102.000000   \n",
       "mean       4.002661    136.172135     10.090357    318.526714   \n",
       "std        1.372287    521.557650     11.517070    212.192220   \n",
       "min        0.000000      0.000000      1.000000      0.100000   \n",
       "25%        4.110000      4.000000      4.000000    167.625000   \n",
       "50%        4.480000     21.000000      8.000000    280.000000   \n",
       "75%        4.670000     88.000000     12.000000    421.900000   \n",
       "max        5.000000  19358.000000    832.000000   4709.200000   \n",
       "\n",
       "       carbohydrates_g         fat_g     protein_g  \n",
       "count     33102.000000  33102.000000  33102.000000  \n",
       "mean         28.546888     16.734657     14.192982  \n",
       "std          24.092086     14.545362     14.063005  \n",
       "min           0.000000      0.000000      0.000000  \n",
       "25%          10.800000      6.700000      3.700000  \n",
       "50%          24.000000     13.300000      8.800000  \n",
       "75%          40.400000     22.900000     22.000000  \n",
       "max         578.200000    383.900000    273.200000  "
      ]
     },
     "execution_count": 999,
     "metadata": {},
     "output_type": "execute_result"
    }
   ],
   "source": [
    "\n",
    "##Check the maximum values for nutrition values\n",
    "Recipe.describe()\n"
   ]
  },
  {
   "cell_type": "code",
   "execution_count": 1000,
   "metadata": {},
   "outputs": [],
   "source": [
    "##I found crazy large amount of max\tserving=832, calories=4709.2, carbs=578.2, fat=383.9, protein=273.2\n",
    "## So, I decided to put upper limit of calories at 1000 kcal, in which 50% are carbs = 125 g, 25% are fat = 28 g, and 25% are protein =63 g.\n",
    "## For serving, the upper limit would be the 75th % = 12.\n",
    "\n",
    "Recipe = Recipe[Recipe['calories'] <= 1000]\n",
    "Recipe = Recipe[Recipe['fat_g'] <= 28]\n",
    "Recipe = Recipe[Recipe['protein_g'] <= 63]\n",
    "Recipe = Recipe[Recipe['carbohydrates_g'] <= 125]\n",
    "Recipe = Recipe[Recipe['servings'] <= 12]"
   ]
  },
  {
   "cell_type": "code",
   "execution_count": 1001,
   "metadata": {},
   "outputs": [
    {
     "data": {
      "text/html": [
       "<div>\n",
       "<style scoped>\n",
       "    .dataframe tbody tr th:only-of-type {\n",
       "        vertical-align: middle;\n",
       "    }\n",
       "\n",
       "    .dataframe tbody tr th {\n",
       "        vertical-align: top;\n",
       "    }\n",
       "\n",
       "    .dataframe thead th {\n",
       "        text-align: right;\n",
       "    }\n",
       "</style>\n",
       "<table border=\"1\" class=\"dataframe\">\n",
       "  <thead>\n",
       "    <tr style=\"text-align: right;\">\n",
       "      <th></th>\n",
       "      <th>rating</th>\n",
       "      <th>rating_count</th>\n",
       "      <th>servings</th>\n",
       "      <th>calories</th>\n",
       "      <th>carbohydrates_g</th>\n",
       "      <th>fat_g</th>\n",
       "      <th>protein_g</th>\n",
       "    </tr>\n",
       "  </thead>\n",
       "  <tbody>\n",
       "    <tr>\n",
       "      <th>count</th>\n",
       "      <td>21680.000000</td>\n",
       "      <td>21680.000000</td>\n",
       "      <td>21680.000000</td>\n",
       "      <td>21680.000000</td>\n",
       "      <td>21680.000000</td>\n",
       "      <td>21680.000000</td>\n",
       "      <td>21680.000000</td>\n",
       "    </tr>\n",
       "    <tr>\n",
       "      <th>mean</th>\n",
       "      <td>4.001043</td>\n",
       "      <td>133.255397</td>\n",
       "      <td>6.792435</td>\n",
       "      <td>277.063584</td>\n",
       "      <td>28.013247</td>\n",
       "      <td>12.604940</td>\n",
       "      <td>13.390392</td>\n",
       "    </tr>\n",
       "    <tr>\n",
       "      <th>std</th>\n",
       "      <td>1.359057</td>\n",
       "      <td>530.601374</td>\n",
       "      <td>3.106487</td>\n",
       "      <td>134.686314</td>\n",
       "      <td>20.640242</td>\n",
       "      <td>7.478032</td>\n",
       "      <td>11.464151</td>\n",
       "    </tr>\n",
       "    <tr>\n",
       "      <th>min</th>\n",
       "      <td>0.000000</td>\n",
       "      <td>0.000000</td>\n",
       "      <td>1.000000</td>\n",
       "      <td>3.200000</td>\n",
       "      <td>0.000000</td>\n",
       "      <td>0.000000</td>\n",
       "      <td>0.000000</td>\n",
       "    </tr>\n",
       "    <tr>\n",
       "      <th>25%</th>\n",
       "      <td>4.100000</td>\n",
       "      <td>4.000000</td>\n",
       "      <td>4.000000</td>\n",
       "      <td>176.175000</td>\n",
       "      <td>11.400000</td>\n",
       "      <td>6.500000</td>\n",
       "      <td>4.300000</td>\n",
       "    </tr>\n",
       "    <tr>\n",
       "      <th>50%</th>\n",
       "      <td>4.470000</td>\n",
       "      <td>21.000000</td>\n",
       "      <td>6.000000</td>\n",
       "      <td>266.750000</td>\n",
       "      <td>24.600000</td>\n",
       "      <td>12.000000</td>\n",
       "      <td>9.300000</td>\n",
       "    </tr>\n",
       "    <tr>\n",
       "      <th>75%</th>\n",
       "      <td>4.670000</td>\n",
       "      <td>86.000000</td>\n",
       "      <td>8.000000</td>\n",
       "      <td>364.600000</td>\n",
       "      <td>40.300000</td>\n",
       "      <td>18.500000</td>\n",
       "      <td>20.800000</td>\n",
       "    </tr>\n",
       "    <tr>\n",
       "      <th>max</th>\n",
       "      <td>5.000000</td>\n",
       "      <td>19358.000000</td>\n",
       "      <td>12.000000</td>\n",
       "      <td>904.000000</td>\n",
       "      <td>123.400000</td>\n",
       "      <td>28.000000</td>\n",
       "      <td>62.800000</td>\n",
       "    </tr>\n",
       "  </tbody>\n",
       "</table>\n",
       "</div>"
      ],
      "text/plain": [
       "             rating  rating_count      servings      calories  \\\n",
       "count  21680.000000  21680.000000  21680.000000  21680.000000   \n",
       "mean       4.001043    133.255397      6.792435    277.063584   \n",
       "std        1.359057    530.601374      3.106487    134.686314   \n",
       "min        0.000000      0.000000      1.000000      3.200000   \n",
       "25%        4.100000      4.000000      4.000000    176.175000   \n",
       "50%        4.470000     21.000000      6.000000    266.750000   \n",
       "75%        4.670000     86.000000      8.000000    364.600000   \n",
       "max        5.000000  19358.000000     12.000000    904.000000   \n",
       "\n",
       "       carbohydrates_g         fat_g     protein_g  \n",
       "count     21680.000000  21680.000000  21680.000000  \n",
       "mean         28.013247     12.604940     13.390392  \n",
       "std          20.640242      7.478032     11.464151  \n",
       "min           0.000000      0.000000      0.000000  \n",
       "25%          11.400000      6.500000      4.300000  \n",
       "50%          24.600000     12.000000      9.300000  \n",
       "75%          40.300000     18.500000     20.800000  \n",
       "max         123.400000     28.000000     62.800000  "
      ]
     },
     "execution_count": 1001,
     "metadata": {},
     "output_type": "execute_result"
    }
   ],
   "source": [
    "##Check the again after setting up maximum limits\n",
    "Recipe.describe()\n"
   ]
  },
  {
   "cell_type": "markdown",
   "metadata": {},
   "source": [
    "### Total (cooking time) column"
   ]
  },
  {
   "cell_type": "code",
   "execution_count": 1002,
   "metadata": {},
   "outputs": [],
   "source": [
    "###Remove recipe that takes a week or longer to cook.\n",
    "searchfor = ['week']\n",
    "Recipe = Recipe[~Recipe.total.str.contains('|'.join(searchfor))]"
   ]
  },
  {
   "cell_type": "code",
   "execution_count": 1003,
   "metadata": {},
   "outputs": [],
   "source": [
    "## Convert total from string to int\n",
    "def humantime2minutes(s):\n",
    "    d = {\n",
    "      'd':      24*60,\n",
    "      'day':    24*60,\n",
    "      'days':   24*60,\n",
    "      'hr':      60,\n",
    "      'hrs':     60,\n",
    "    }\n",
    "    mult_items = defaultdict(lambda: 1).copy()\n",
    "    mult_items.update(d)\n",
    "\n",
    "    parts = re.search(r'^(\\d+)([^\\d]*)', s.lower().replace(' ', ''))\n",
    "    if parts:\n",
    "        return int(parts.group(1)) * mult_items[parts.group(2)] + humantime2minutes(re.sub(r'^(\\d+)([^\\d]*)', '', s.lower()))\n",
    "    else:\n",
    "        return 0\n",
    "        "
   ]
  },
  {
   "cell_type": "code",
   "execution_count": 1004,
   "metadata": {},
   "outputs": [],
   "source": [
    "#Apply the function to the column\n",
    "Recipe['total'] = Recipe['total'].apply(humantime2minutes)\n"
   ]
  },
  {
   "cell_type": "code",
   "execution_count": 1005,
   "metadata": {},
   "outputs": [
    {
     "data": {
      "text/html": [
       "<div>\n",
       "<style scoped>\n",
       "    .dataframe tbody tr th:only-of-type {\n",
       "        vertical-align: middle;\n",
       "    }\n",
       "\n",
       "    .dataframe tbody tr th {\n",
       "        vertical-align: top;\n",
       "    }\n",
       "\n",
       "    .dataframe thead th {\n",
       "        text-align: right;\n",
       "    }\n",
       "</style>\n",
       "<table border=\"1\" class=\"dataframe\">\n",
       "  <thead>\n",
       "    <tr style=\"text-align: right;\">\n",
       "      <th></th>\n",
       "      <th>rating</th>\n",
       "      <th>rating_count</th>\n",
       "      <th>total</th>\n",
       "      <th>servings</th>\n",
       "      <th>calories</th>\n",
       "      <th>carbohydrates_g</th>\n",
       "      <th>fat_g</th>\n",
       "      <th>protein_g</th>\n",
       "    </tr>\n",
       "  </thead>\n",
       "  <tbody>\n",
       "    <tr>\n",
       "      <th>count</th>\n",
       "      <td>21668.000000</td>\n",
       "      <td>21668.000000</td>\n",
       "      <td>21668.000000</td>\n",
       "      <td>21668.000000</td>\n",
       "      <td>21668.000000</td>\n",
       "      <td>21668.000000</td>\n",
       "      <td>21668.000000</td>\n",
       "      <td>21668.000000</td>\n",
       "    </tr>\n",
       "    <tr>\n",
       "      <th>mean</th>\n",
       "      <td>4.000759</td>\n",
       "      <td>133.297582</td>\n",
       "      <td>97.300166</td>\n",
       "      <td>6.790844</td>\n",
       "      <td>277.128124</td>\n",
       "      <td>28.017367</td>\n",
       "      <td>12.608639</td>\n",
       "      <td>13.394660</td>\n",
       "    </tr>\n",
       "    <tr>\n",
       "      <th>std</th>\n",
       "      <td>1.359360</td>\n",
       "      <td>530.742108</td>\n",
       "      <td>231.325450</td>\n",
       "      <td>3.106085</td>\n",
       "      <td>134.667401</td>\n",
       "      <td>20.639325</td>\n",
       "      <td>7.476456</td>\n",
       "      <td>11.465576</td>\n",
       "    </tr>\n",
       "    <tr>\n",
       "      <th>min</th>\n",
       "      <td>0.000000</td>\n",
       "      <td>0.000000</td>\n",
       "      <td>1.000000</td>\n",
       "      <td>1.000000</td>\n",
       "      <td>3.200000</td>\n",
       "      <td>0.000000</td>\n",
       "      <td>0.000000</td>\n",
       "      <td>0.000000</td>\n",
       "    </tr>\n",
       "    <tr>\n",
       "      <th>25%</th>\n",
       "      <td>4.100000</td>\n",
       "      <td>4.000000</td>\n",
       "      <td>25.000000</td>\n",
       "      <td>4.000000</td>\n",
       "      <td>176.200000</td>\n",
       "      <td>11.400000</td>\n",
       "      <td>6.500000</td>\n",
       "      <td>4.300000</td>\n",
       "    </tr>\n",
       "    <tr>\n",
       "      <th>50%</th>\n",
       "      <td>4.470000</td>\n",
       "      <td>21.000000</td>\n",
       "      <td>45.000000</td>\n",
       "      <td>6.000000</td>\n",
       "      <td>266.800000</td>\n",
       "      <td>24.600000</td>\n",
       "      <td>12.000000</td>\n",
       "      <td>9.300000</td>\n",
       "    </tr>\n",
       "    <tr>\n",
       "      <th>75%</th>\n",
       "      <td>4.670000</td>\n",
       "      <td>86.000000</td>\n",
       "      <td>80.000000</td>\n",
       "      <td>8.000000</td>\n",
       "      <td>364.600000</td>\n",
       "      <td>40.300000</td>\n",
       "      <td>18.500000</td>\n",
       "      <td>20.900000</td>\n",
       "    </tr>\n",
       "    <tr>\n",
       "      <th>max</th>\n",
       "      <td>5.000000</td>\n",
       "      <td>19358.000000</td>\n",
       "      <td>8640.000000</td>\n",
       "      <td>12.000000</td>\n",
       "      <td>904.000000</td>\n",
       "      <td>123.400000</td>\n",
       "      <td>28.000000</td>\n",
       "      <td>62.800000</td>\n",
       "    </tr>\n",
       "  </tbody>\n",
       "</table>\n",
       "</div>"
      ],
      "text/plain": [
       "             rating  rating_count         total      servings      calories  \\\n",
       "count  21668.000000  21668.000000  21668.000000  21668.000000  21668.000000   \n",
       "mean       4.000759    133.297582     97.300166      6.790844    277.128124   \n",
       "std        1.359360    530.742108    231.325450      3.106085    134.667401   \n",
       "min        0.000000      0.000000      1.000000      1.000000      3.200000   \n",
       "25%        4.100000      4.000000     25.000000      4.000000    176.200000   \n",
       "50%        4.470000     21.000000     45.000000      6.000000    266.800000   \n",
       "75%        4.670000     86.000000     80.000000      8.000000    364.600000   \n",
       "max        5.000000  19358.000000   8640.000000     12.000000    904.000000   \n",
       "\n",
       "       carbohydrates_g         fat_g     protein_g  \n",
       "count     21668.000000  21668.000000  21668.000000  \n",
       "mean         28.017367     12.608639     13.394660  \n",
       "std          20.639325      7.476456     11.465576  \n",
       "min           0.000000      0.000000      0.000000  \n",
       "25%          11.400000      6.500000      4.300000  \n",
       "50%          24.600000     12.000000      9.300000  \n",
       "75%          40.300000     18.500000     20.900000  \n",
       "max         123.400000     28.000000     62.800000  "
      ]
     },
     "execution_count": 1005,
     "metadata": {},
     "output_type": "execute_result"
    }
   ],
   "source": [
    "##Check after cleaning\n",
    "Recipe.describe()"
   ]
  },
  {
   "cell_type": "markdown",
   "metadata": {},
   "source": [
    "### Ingredients column"
   ]
  },
  {
   "cell_type": "code",
   "execution_count": 1006,
   "metadata": {},
   "outputs": [],
   "source": [
    "### First, I'll drop recipe that contains (pork, wine, beer, alcohol) as these are inconvenient for the target audience\n",
    "searchfor = ['pork', 'wine', 'beer', 'alcohol', 'vodka', 'whiskey', 'liqueur']\n",
    "Recipe = Recipe[~Recipe.ingredients.str.contains('|'.join(searchfor))]\n"
   ]
  },
  {
   "cell_type": "code",
   "execution_count": 1007,
   "metadata": {},
   "outputs": [],
   "source": [
    "### Convert the ingredients column to a list\n",
    "Recipe['ingredients'] = Recipe['ingredients'].str.strip('()').str.split(',')\n"
   ]
  },
  {
   "cell_type": "code",
   "execution_count": 1008,
   "metadata": {},
   "outputs": [],
   "source": [
    "##save to new csv\n",
    "#Recipe.to_csv('cleaned_data.csv', index = False)"
   ]
  },
  {
   "cell_type": "code",
   "execution_count": 1009,
   "metadata": {},
   "outputs": [],
   "source": [
    "## use function by whatscooking-deployment. Reference (https://github.com/jackmleitch/whatscooking-deployment)\n",
    "def ingredient_parser(ingreds):\n",
    "    measures = [\n",
    "        \"teaspoon\",\n",
    "        \"t\",\n",
    "        \"tsp.\",\n",
    "        \"tablespoon\",\n",
    "        \"T\",\n",
    "        \"tbl.\",\n",
    "        \"tb\",\n",
    "        \"tbsp.\",\n",
    "        \"fluid ounce\",\n",
    "        \"fl oz\",\n",
    "        \"gill\",\n",
    "        \"cup\",\n",
    "        \"c\",\n",
    "        \"pint\",\n",
    "        \"p\",\n",
    "        \"pt\",\n",
    "        \"fl pt\",\n",
    "        \"quart\",\n",
    "        \"q\",\n",
    "        \"qt\",\n",
    "        \"fl qt\",\n",
    "        \"gallon\",\n",
    "        \"g\",\n",
    "        \"gal\",\n",
    "        \"ml\",\n",
    "        \"milliliter\",\n",
    "        \"millilitre\",\n",
    "        \"cc\",\n",
    "        \"mL\",\n",
    "        \"l\",\n",
    "        \"liter\",\n",
    "        \"litre\",\n",
    "        \"L\",\n",
    "        \"dl\",\n",
    "        \"deciliter\",\n",
    "        \"decilitre\",\n",
    "        \"dL\",\n",
    "        \"bulb\",\n",
    "        \"level\",\n",
    "        \"heaped\",\n",
    "        \"rounded\",\n",
    "        \"whole\",\n",
    "        \"pinch\",\n",
    "        \"medium\",\n",
    "        \"slice\",\n",
    "        \"pound\",\n",
    "        \"lb\",\n",
    "        \"#\",\n",
    "        \"ounce\",\n",
    "        \"oz\",\n",
    "        \"mg\",\n",
    "        \"milligram\",\n",
    "        \"milligramme\",\n",
    "        \"g\",\n",
    "        \"gram\",\n",
    "        \"gramme\",\n",
    "        \"kg\",\n",
    "        \"kilogram\",\n",
    "        \"kilogramme\",\n",
    "        \"x\",\n",
    "        \"of\",\n",
    "        \"mm\",\n",
    "        \"millimetre\",\n",
    "        \"millimeter\",\n",
    "        \"cm\",\n",
    "        \"centimeter\",\n",
    "        \"centimetre\",\n",
    "        \"m\",\n",
    "        \"meter\",\n",
    "        \"metre\",\n",
    "        \"inch\",\n",
    "        \"in\",\n",
    "        \"milli\",\n",
    "        \"centi\",\n",
    "        \"deci\",\n",
    "        \"hecto\",\n",
    "        \"kilo\",\n",
    "    ]\n",
    "    words_to_remove = [\n",
    "        \"fresh\",\n",
    "        \"minced\",\n",
    "        \"chopped\" \"oil\",\n",
    "        \"a\",\n",
    "        \"red\",\n",
    "        \"bunch\",\n",
    "        \"and\",\n",
    "        \"clove\",\n",
    "        \"or\",\n",
    "        \"leaf\",\n",
    "        \"chilli\",\n",
    "        \"large\",\n",
    "        \"extra\",\n",
    "        \"sprig\",\n",
    "        \"ground\",\n",
    "        \"handful\",\n",
    "        \"free\",\n",
    "        \"small\",\n",
    "        \"pepper\",\n",
    "        \"virgin\",\n",
    "        \"range\",\n",
    "        \"from\",\n",
    "        \"dried\",\n",
    "        \"sustainable\",\n",
    "        \"black\",\n",
    "        \"peeled\",\n",
    "        \"higher\",\n",
    "        \"welfare\",\n",
    "        \"seed\",\n",
    "        \"for\",\n",
    "        \"finely\",\n",
    "        \"freshly\",\n",
    "        \"sea\",\n",
    "        \"quality\",\n",
    "        \"white\",\n",
    "        \"ripe\",\n",
    "        \"few\",\n",
    "        \"piece\",\n",
    "        \"source\",\n",
    "        \"to\",\n",
    "        \"organic\",\n",
    "        \"flat\",\n",
    "        \"smoked\",\n",
    "        \"ginger\",\n",
    "        \"sliced\",\n",
    "        \"green\",\n",
    "        \"picked\",\n",
    "        \"the\",\n",
    "        \"stick\",\n",
    "        \"plain\",\n",
    "        \"plus\",\n",
    "        \"mixed\",\n",
    "        \"mint\",\n",
    "        \"bay\",\n",
    "        \"basil\",\n",
    "        \"your\",\n",
    "        \"cumin\",\n",
    "        \"optional\",\n",
    "        \"fennel\",\n",
    "        \"serve\",\n",
    "        \"mustard\",\n",
    "        \"unsalted\",\n",
    "        \"baby\",\n",
    "        \"paprika\",\n",
    "        \"fat\",\n",
    "        \"ask\",\n",
    "        \"natural\",\n",
    "        \"skin\",\n",
    "        \"roughly\",\n",
    "        \"into\",\n",
    "        \"such\",\n",
    "        \"cut\",\n",
    "        \"good\",\n",
    "        \"brown\",\n",
    "        \"grated\",\n",
    "        \"trimmed\",\n",
    "        \"oregano\",\n",
    "        \"powder\",\n",
    "        \"yellow\",\n",
    "        \"dusting\",\n",
    "        \"knob\",\n",
    "        \"frozen\",\n",
    "        \"on\",\n",
    "        \"deseeded\",\n",
    "        \"low\",\n",
    "        \"runny\",\n",
    "        \"balsamic\",\n",
    "        \"cooked\",\n",
    "        \"streaky\",\n",
    "        \"nutmeg\",\n",
    "        \"sage\",\n",
    "        \"rasher\",\n",
    "        \"zest\",\n",
    "        \"pin\",\n",
    "        \"groundnut\",\n",
    "        \"breadcrumb\",\n",
    "        \"turmeric\",\n",
    "        \"halved\",\n",
    "        \"grating\",\n",
    "        \"stalk\",\n",
    "        \"light\",\n",
    "        \"tinned\",\n",
    "        \"dry\",\n",
    "        \"soft\",\n",
    "        \"rocket\",\n",
    "        \"bone\",\n",
    "        \"colour\",\n",
    "        \"washed\",\n",
    "        \"skinless\",\n",
    "        \"leftover\",\n",
    "        \"splash\",\n",
    "        \"removed\",\n",
    "        \"dijon\",\n",
    "        \"thick\",\n",
    "        \"big\",\n",
    "        \"hot\",\n",
    "        \"drained\",\n",
    "        \"sized\",\n",
    "        \"chestnut\",\n",
    "        \"watercress\",\n",
    "        \"fishmonger\",\n",
    "        \"english\",\n",
    "        \"dill\",\n",
    "        \"caper\",\n",
    "        \"raw\",\n",
    "        \"worcestershire\",\n",
    "        \"flake\",\n",
    "        \"cider\",\n",
    "        \"cayenne\",\n",
    "        \"tbsp\",\n",
    "        \"leg\",\n",
    "        \"pine\",\n",
    "        \"wild\",\n",
    "        \"if\",\n",
    "        \"fine\",\n",
    "        \"herb\",\n",
    "        \"almond\",\n",
    "        \"shoulder\",\n",
    "        \"cube\",\n",
    "        \"dressing\",\n",
    "        \"with\",\n",
    "        \"chunk\",\n",
    "        \"spice\",\n",
    "        \"thumb\",\n",
    "        \"garam\",\n",
    "        \"new\",\n",
    "        \"little\",\n",
    "        \"punnet\",\n",
    "        \"peppercorn\",\n",
    "        \"shelled\",\n",
    "        \"saffron\",\n",
    "        \"other\" \"chopped\",\n",
    "        \"salt\",\n",
    "        \"olive\",\n",
    "        \"taste\",\n",
    "        \"can\",\n",
    "        \"sauce\",\n",
    "        \"water\",\n",
    "        \"diced\",\n",
    "        \"package\",\n",
    "        \"italian\",\n",
    "        \"shredded\",\n",
    "        \"divided\",\n",
    "        \"parsley\",\n",
    "        \"vinegar\",\n",
    "        \"all\",\n",
    "        \"purpose\",\n",
    "        \"crushed\",\n",
    "        \"juice\",\n",
    "        \"more\",\n",
    "        \"coriander\",\n",
    "        \"bell\",\n",
    "        \"needed\",\n",
    "        \"thinly\",\n",
    "        \"boneless\",\n",
    "        \"half\",\n",
    "        \"thyme\",\n",
    "        \"cubed\",\n",
    "        \"cinnamon\",\n",
    "        \"cilantro\",\n",
    "        \"jar\",\n",
    "        \"seasoning\",\n",
    "        \"rosemary\",\n",
    "        \"extract\",\n",
    "        \"sweet\",\n",
    "        \"baking\",\n",
    "        \"beaten\",\n",
    "        \"heavy\",\n",
    "        \"seeded\",\n",
    "        \"tin\",\n",
    "        \"vanilla\",\n",
    "        \"uncooked\",\n",
    "        \"crumb\",\n",
    "        \"style\",\n",
    "        \"thin\",\n",
    "        \"nut\",\n",
    "        \"coarsely\",\n",
    "        \"spring\",\n",
    "        \"chili\",\n",
    "        \"cornstarch\",\n",
    "        \"strip\",\n",
    "        \"cardamom\",\n",
    "        \"rinsed\",\n",
    "        \"honey\",\n",
    "        \"cherry\",\n",
    "        \"root\",\n",
    "        \"quartered\",\n",
    "        \"head\",\n",
    "        \"softened\",\n",
    "        \"container\",\n",
    "        \"crumbled\",\n",
    "        \"frying\",\n",
    "        \"lean\",\n",
    "        \"cooking\",\n",
    "        \"roasted\",\n",
    "        \"warm\",\n",
    "        \"whipping\",\n",
    "        \"thawed\",\n",
    "        \"corn\",\n",
    "        \"pitted\",\n",
    "        \"sun\",\n",
    "        \"kosher\",\n",
    "        \"bite\",\n",
    "        \"toasted\",\n",
    "        \"lasagna\",\n",
    "        \"split\",\n",
    "        \"melted\",\n",
    "        \"degree\",\n",
    "        \"lengthwise\",\n",
    "        \"romano\",\n",
    "        \"packed\",\n",
    "        \"pod\",\n",
    "        \"anchovy\",\n",
    "        \"rom\",\n",
    "        \"prepared\",\n",
    "        \"juiced\",\n",
    "        \"fluid\",\n",
    "        \"floret\",\n",
    "        \"room\",\n",
    "        \"active\",\n",
    "        \"seasoned\",\n",
    "        \"mix\",\n",
    "        \"deveined\",\n",
    "        \"lightly\",\n",
    "        \"anise\",\n",
    "        \"thai\",\n",
    "        \"size\",\n",
    "        \"unsweetened\",\n",
    "        \"torn\",\n",
    "        \"wedge\",\n",
    "        \"sour\",\n",
    "        \"basmati\",\n",
    "        \"marinara\",\n",
    "        \"dark\",\n",
    "        \"temperature\",\n",
    "        \"garnish\",\n",
    "        \"bouillon\",\n",
    "        \"loaf\",\n",
    "        \"shell\",\n",
    "        \"reggiano\",\n",
    "        \"canola\",\n",
    "        \"parmigiano\",\n",
    "        \"round\",\n",
    "        \"canned\",\n",
    "        \"ghee\",\n",
    "        \"crust\",\n",
    "        \"long\",\n",
    "        \"broken\",\n",
    "        \"ketchup\",\n",
    "        \"bulk\",\n",
    "        \"cleaned\",\n",
    "        \"condensed\",\n",
    "        \"sherry\",\n",
    "        \"provolone\",\n",
    "        \"cold\",\n",
    "        \"soda\",\n",
    "        \"cottage\",\n",
    "        \"spray\",\n",
    "        \"tamarind\",\n",
    "        \"pecorino\",\n",
    "        \"shortening\",\n",
    "        \"part\",\n",
    "        \"bottle\",\n",
    "        \"sodium\",\n",
    "        \"cocoa\",\n",
    "        \"grain\",\n",
    "        \"french\",\n",
    "        \"roast\",\n",
    "        \"stem\",\n",
    "        \"link\",\n",
    "        \"firm\",\n",
    "        \"asafoetida\",\n",
    "        \"mild\",\n",
    "        \"dash\",\n",
    "        \"boiling\",\n",
    "        \"oil\",\n",
    "        \"chopped\",\n",
    "        \"vegetable oil\",\n",
    "        \"chopped oil\",\n",
    "        \"garlic\",\n",
    "        \"skin off\",\n",
    "        \"bone out\" \"from sustrainable sources\",\n",
    "    ]\n",
    "    # The ingredient list is now a string so we need to turn it back into a list. We use ast.literal_eval\n",
    "    if isinstance(ingreds, list):\n",
    "        ingredients = ingreds\n",
    "    else:\n",
    "        ingredients = ast.literal_eval(ingreds)\n",
    "    # We first get rid of all the punctuation. We make use of str.maketrans. It takes three input\n",
    "    # arguments 'x', 'y', 'z'. 'x' and 'y' must be equal-length strings and characters in 'x'\n",
    "    # are replaced by characters in 'y'. 'z' is a string (string.punctuation here) where each character\n",
    "    #  in the string is mapped to None.\n",
    "    translator = str.maketrans(\"\", \"\", string.punctuation)\n",
    "    lemmatizer = WordNetLemmatizer()\n",
    "    ingred_list = []\n",
    "    for i in ingredients:\n",
    "        i.translate(translator)\n",
    "        # We split up with hyphens as well as spaces\n",
    "        items = re.split(\" |-\", i)\n",
    "        # Get rid of words containing non alphabet letters\n",
    "        items = [word for word in items if word.isalpha()]\n",
    "        # Turn everything to lowercase\n",
    "        items = [word.lower() for word in items]\n",
    "        # remove accents\n",
    "        items = [\n",
    "            unidecode.unidecode(word) for word in items\n",
    "        ]  #''.join((c for c in unicodedata.normalize('NFD', items) if unicodedata.category(c) != 'Mn'))\n",
    "        # Lemmatize words so we can compare words to measuring words\n",
    "        items = [lemmatizer.lemmatize(word) for word in items]\n",
    "        # Gets rid of measuring words/phrases, e.g. heaped teaspoon\n",
    "        items = [word for word in items if word not in measures]\n",
    "        # Get rid of common easy words\n",
    "        items = [word for word in items if word not in words_to_remove]\n",
    "        if items:\n",
    "            ingred_list.append(\" \".join(items))\n",
    "    # ingred_list = \" \".join(ingred_list)\n",
    "    return ingred_list"
   ]
  },
  {
   "cell_type": "code",
   "execution_count": 1010,
   "metadata": {},
   "outputs": [],
   "source": [
    "##Apply the function to ingredients column\n",
    "if __name__ == \"__main__\":\n",
    "    Recipe = pd.read_csv(config.RECIPES_PATH)\n",
    "    Recipe[\"ingredients_parsed\"] = Recipe[\"ingredients\"].apply(\n",
    "        lambda x: ingredient_parser(x)\n",
    "    )"
   ]
  },
  {
   "cell_type": "markdown",
   "metadata": {},
   "source": [
    "### Name column"
   ]
  },
  {
   "cell_type": "code",
   "execution_count": 1033,
   "metadata": {},
   "outputs": [],
   "source": [
    "###Remove certain recipes such as (seasonings, animal treat) <<< WHY IT AINT WORKING :')???\n",
    "recname = ['seasonings', 'seasoning', 'treat']\n",
    "Recipe = Recipe[~Recipe.name.str.contains('|'.join(recname))]"
   ]
  },
  {
   "cell_type": "code",
   "execution_count": 1034,
   "metadata": {},
   "outputs": [
    {
     "name": "stdout",
     "output_type": "stream",
     "text": [
      "<class 'pandas.core.frame.DataFrame'>\n",
      "Int64Index: 19325 entries, 0 to 19324\n",
      "Data columns (total 14 columns):\n",
      " #   Column              Non-Null Count  Dtype  \n",
      "---  ------              --------------  -----  \n",
      " 0   name                19325 non-null  object \n",
      " 1   url                 19325 non-null  object \n",
      " 2   category            19325 non-null  object \n",
      " 3   rating              19325 non-null  float64\n",
      " 4   rating_count        19325 non-null  int64  \n",
      " 5   ingredients         19325 non-null  object \n",
      " 6   total               19325 non-null  int64  \n",
      " 7   servings            19325 non-null  int64  \n",
      " 8   yield               19325 non-null  object \n",
      " 9   calories            19325 non-null  float64\n",
      " 10  carbohydrates_g     19325 non-null  float64\n",
      " 11  fat_g               19325 non-null  float64\n",
      " 12  protein_g           19325 non-null  float64\n",
      " 13  ingredients_parsed  19325 non-null  object \n",
      "dtypes: float64(5), int64(3), object(6)\n",
      "memory usage: 2.2+ MB\n"
     ]
    }
   ],
   "source": [
    "###Take a look at dataset after cleaning\n",
    "Recipe.info()"
   ]
  },
  {
   "cell_type": "code",
   "execution_count": 1013,
   "metadata": {},
   "outputs": [
    {
     "data": {
      "text/html": [
       "<div>\n",
       "<style scoped>\n",
       "    .dataframe tbody tr th:only-of-type {\n",
       "        vertical-align: middle;\n",
       "    }\n",
       "\n",
       "    .dataframe tbody tr th {\n",
       "        vertical-align: top;\n",
       "    }\n",
       "\n",
       "    .dataframe thead th {\n",
       "        text-align: right;\n",
       "    }\n",
       "</style>\n",
       "<table border=\"1\" class=\"dataframe\">\n",
       "  <thead>\n",
       "    <tr style=\"text-align: right;\">\n",
       "      <th></th>\n",
       "      <th>name</th>\n",
       "      <th>url</th>\n",
       "      <th>category</th>\n",
       "      <th>rating</th>\n",
       "      <th>rating_count</th>\n",
       "      <th>ingredients</th>\n",
       "      <th>total</th>\n",
       "      <th>servings</th>\n",
       "      <th>yield</th>\n",
       "      <th>calories</th>\n",
       "      <th>carbohydrates_g</th>\n",
       "      <th>fat_g</th>\n",
       "      <th>protein_g</th>\n",
       "      <th>ingredients_parsed</th>\n",
       "    </tr>\n",
       "  </thead>\n",
       "  <tbody>\n",
       "    <tr>\n",
       "      <th>0</th>\n",
       "      <td>Dessert Crepes</td>\n",
       "      <td>https://www.allrecipes.com/recipe/19037/desser...</td>\n",
       "      <td>breakfast-and-brunch</td>\n",
       "      <td>4.80</td>\n",
       "      <td>1156</td>\n",
       "      <td>['4  eggs', ' lightly beaten ; 1\\u2009⅓ cups m...</td>\n",
       "      <td>20</td>\n",
       "      <td>8</td>\n",
       "      <td>8 crepes</td>\n",
       "      <td>163.8</td>\n",
       "      <td>17.2</td>\n",
       "      <td>7.7</td>\n",
       "      <td>6.4</td>\n",
       "      <td>[egg, milk butter, flour sugar]</td>\n",
       "    </tr>\n",
       "    <tr>\n",
       "      <th>1</th>\n",
       "      <td>Chicken Parmesan</td>\n",
       "      <td>https://www.allrecipes.com/recipe/223042/chick...</td>\n",
       "      <td>world-cuisine</td>\n",
       "      <td>4.83</td>\n",
       "      <td>4245</td>\n",
       "      <td>['4  skinless', ' boneless chicken breast halv...</td>\n",
       "      <td>60</td>\n",
       "      <td>4</td>\n",
       "      <td>4 servings</td>\n",
       "      <td>470.8</td>\n",
       "      <td>24.8</td>\n",
       "      <td>24.9</td>\n",
       "      <td>42.1</td>\n",
       "      <td>[chicken breast egg panko bread, parmesan chee...</td>\n",
       "    </tr>\n",
       "    <tr>\n",
       "      <th>2</th>\n",
       "      <td>Easy Sausage Gravy and Biscuits</td>\n",
       "      <td>https://www.allrecipes.com/recipe/216391/easy-...</td>\n",
       "      <td>trusted-brands-recipes-and-tips</td>\n",
       "      <td>4.81</td>\n",
       "      <td>1063</td>\n",
       "      <td>['1 (16 ounce) can refrigerated jumbo buttermi...</td>\n",
       "      <td>15</td>\n",
       "      <td>8</td>\n",
       "      <td>8 servings</td>\n",
       "      <td>332.8</td>\n",
       "      <td>30.8</td>\n",
       "      <td>18.7</td>\n",
       "      <td>9.8</td>\n",
       "      <td>[refrigerated jumbo buttermilk biscuit jimmy o...</td>\n",
       "    </tr>\n",
       "  </tbody>\n",
       "</table>\n",
       "</div>"
      ],
      "text/plain": [
       "                              name  \\\n",
       "0                   Dessert Crepes   \n",
       "1                 Chicken Parmesan   \n",
       "2  Easy Sausage Gravy and Biscuits   \n",
       "\n",
       "                                                 url  \\\n",
       "0  https://www.allrecipes.com/recipe/19037/desser...   \n",
       "1  https://www.allrecipes.com/recipe/223042/chick...   \n",
       "2  https://www.allrecipes.com/recipe/216391/easy-...   \n",
       "\n",
       "                          category  rating  rating_count  \\\n",
       "0             breakfast-and-brunch    4.80          1156   \n",
       "1                    world-cuisine    4.83          4245   \n",
       "2  trusted-brands-recipes-and-tips    4.81          1063   \n",
       "\n",
       "                                         ingredients  total  servings  \\\n",
       "0  ['4  eggs', ' lightly beaten ; 1\\u2009⅓ cups m...     20         8   \n",
       "1  ['4  skinless', ' boneless chicken breast halv...     60         4   \n",
       "2  ['1 (16 ounce) can refrigerated jumbo buttermi...     15         8   \n",
       "\n",
       "        yield  calories  carbohydrates_g  fat_g  protein_g  \\\n",
       "0    8 crepes     163.8             17.2    7.7        6.4   \n",
       "1  4 servings     470.8             24.8   24.9       42.1   \n",
       "2  8 servings     332.8             30.8   18.7        9.8   \n",
       "\n",
       "                                  ingredients_parsed  \n",
       "0                    [egg, milk butter, flour sugar]  \n",
       "1  [chicken breast egg panko bread, parmesan chee...  \n",
       "2  [refrigerated jumbo buttermilk biscuit jimmy o...  "
      ]
     },
     "execution_count": 1013,
     "metadata": {},
     "output_type": "execute_result"
    }
   ],
   "source": [
    "##Checkout the head of dataset after cleaning\n",
    "Recipe.head(3)"
   ]
  },
  {
   "cell_type": "code",
   "execution_count": 1014,
   "metadata": {},
   "outputs": [],
   "source": [
    "\n",
    "###save to csv \n",
    "#Recipe.to_csv('full_clean_data.csv', index = False)\n"
   ]
  },
  {
   "cell_type": "markdown",
   "metadata": {},
   "source": [
    "## EDA"
   ]
  },
  {
   "cell_type": "code",
   "execution_count": 1015,
   "metadata": {},
   "outputs": [
    {
     "data": {
      "text/html": [
       "<div>\n",
       "<style scoped>\n",
       "    .dataframe tbody tr th:only-of-type {\n",
       "        vertical-align: middle;\n",
       "    }\n",
       "\n",
       "    .dataframe tbody tr th {\n",
       "        vertical-align: top;\n",
       "    }\n",
       "\n",
       "    .dataframe thead th {\n",
       "        text-align: right;\n",
       "    }\n",
       "</style>\n",
       "<table border=\"1\" class=\"dataframe\">\n",
       "  <thead>\n",
       "    <tr style=\"text-align: right;\">\n",
       "      <th></th>\n",
       "      <th>rating</th>\n",
       "      <th>rating_count</th>\n",
       "      <th>total</th>\n",
       "      <th>servings</th>\n",
       "      <th>calories</th>\n",
       "      <th>carbohydrates_g</th>\n",
       "      <th>fat_g</th>\n",
       "      <th>protein_g</th>\n",
       "    </tr>\n",
       "  </thead>\n",
       "  <tbody>\n",
       "    <tr>\n",
       "      <th>count</th>\n",
       "      <td>19325.000000</td>\n",
       "      <td>19325.000000</td>\n",
       "      <td>19325.000000</td>\n",
       "      <td>19325.000000</td>\n",
       "      <td>19325.000000</td>\n",
       "      <td>19325.000000</td>\n",
       "      <td>19325.000000</td>\n",
       "      <td>19325.000000</td>\n",
       "    </tr>\n",
       "    <tr>\n",
       "      <th>mean</th>\n",
       "      <td>3.984993</td>\n",
       "      <td>130.896404</td>\n",
       "      <td>92.902613</td>\n",
       "      <td>6.848124</td>\n",
       "      <td>272.692103</td>\n",
       "      <td>28.397299</td>\n",
       "      <td>12.414629</td>\n",
       "      <td>12.643498</td>\n",
       "    </tr>\n",
       "    <tr>\n",
       "      <th>std</th>\n",
       "      <td>1.375372</td>\n",
       "      <td>539.784543</td>\n",
       "      <td>230.239630</td>\n",
       "      <td>3.152224</td>\n",
       "      <td>133.237991</td>\n",
       "      <td>20.604320</td>\n",
       "      <td>7.487953</td>\n",
       "      <td>11.080659</td>\n",
       "    </tr>\n",
       "    <tr>\n",
       "      <th>min</th>\n",
       "      <td>0.000000</td>\n",
       "      <td>0.000000</td>\n",
       "      <td>1.000000</td>\n",
       "      <td>1.000000</td>\n",
       "      <td>3.200000</td>\n",
       "      <td>0.000000</td>\n",
       "      <td>0.000000</td>\n",
       "      <td>0.000000</td>\n",
       "    </tr>\n",
       "    <tr>\n",
       "      <th>25%</th>\n",
       "      <td>4.080000</td>\n",
       "      <td>4.000000</td>\n",
       "      <td>25.000000</td>\n",
       "      <td>4.000000</td>\n",
       "      <td>171.900000</td>\n",
       "      <td>11.800000</td>\n",
       "      <td>6.300000</td>\n",
       "      <td>4.100000</td>\n",
       "    </tr>\n",
       "    <tr>\n",
       "      <th>50%</th>\n",
       "      <td>4.460000</td>\n",
       "      <td>20.000000</td>\n",
       "      <td>45.000000</td>\n",
       "      <td>6.000000</td>\n",
       "      <td>262.300000</td>\n",
       "      <td>25.100000</td>\n",
       "      <td>11.800000</td>\n",
       "      <td>8.500000</td>\n",
       "    </tr>\n",
       "    <tr>\n",
       "      <th>75%</th>\n",
       "      <td>4.670000</td>\n",
       "      <td>83.000000</td>\n",
       "      <td>75.000000</td>\n",
       "      <td>8.000000</td>\n",
       "      <td>360.000000</td>\n",
       "      <td>40.700000</td>\n",
       "      <td>18.200000</td>\n",
       "      <td>19.500000</td>\n",
       "    </tr>\n",
       "    <tr>\n",
       "      <th>max</th>\n",
       "      <td>5.000000</td>\n",
       "      <td>19358.000000</td>\n",
       "      <td>8640.000000</td>\n",
       "      <td>12.000000</td>\n",
       "      <td>873.000000</td>\n",
       "      <td>123.400000</td>\n",
       "      <td>28.000000</td>\n",
       "      <td>62.800000</td>\n",
       "    </tr>\n",
       "  </tbody>\n",
       "</table>\n",
       "</div>"
      ],
      "text/plain": [
       "             rating  rating_count         total      servings      calories  \\\n",
       "count  19325.000000  19325.000000  19325.000000  19325.000000  19325.000000   \n",
       "mean       3.984993    130.896404     92.902613      6.848124    272.692103   \n",
       "std        1.375372    539.784543    230.239630      3.152224    133.237991   \n",
       "min        0.000000      0.000000      1.000000      1.000000      3.200000   \n",
       "25%        4.080000      4.000000     25.000000      4.000000    171.900000   \n",
       "50%        4.460000     20.000000     45.000000      6.000000    262.300000   \n",
       "75%        4.670000     83.000000     75.000000      8.000000    360.000000   \n",
       "max        5.000000  19358.000000   8640.000000     12.000000    873.000000   \n",
       "\n",
       "       carbohydrates_g         fat_g     protein_g  \n",
       "count     19325.000000  19325.000000  19325.000000  \n",
       "mean         28.397299     12.414629     12.643498  \n",
       "std          20.604320      7.487953     11.080659  \n",
       "min           0.000000      0.000000      0.000000  \n",
       "25%          11.800000      6.300000      4.100000  \n",
       "50%          25.100000     11.800000      8.500000  \n",
       "75%          40.700000     18.200000     19.500000  \n",
       "max         123.400000     28.000000     62.800000  "
      ]
     },
     "execution_count": 1015,
     "metadata": {},
     "output_type": "execute_result"
    }
   ],
   "source": [
    "##Summary statisitcs\n",
    "Recipe.describe()"
   ]
  },
  {
   "cell_type": "code",
   "execution_count": 1016,
   "metadata": {},
   "outputs": [
    {
     "data": {
      "text/html": [
       "<style type=\"text/css\">\n",
       "#T_0349b_row0_col0, #T_0349b_row1_col1, #T_0349b_row2_col2, #T_0349b_row3_col3, #T_0349b_row4_col4, #T_0349b_row5_col5, #T_0349b_row6_col6, #T_0349b_row7_col7 {\n",
       "  background-color: #023858;\n",
       "  color: #f1f1f1;\n",
       "}\n",
       "#T_0349b_row0_col1 {\n",
       "  background-color: #f1ebf4;\n",
       "  color: #000000;\n",
       "}\n",
       "#T_0349b_row0_col2, #T_0349b_row2_col5, #T_0349b_row3_col0, #T_0349b_row4_col2, #T_0349b_row6_col0, #T_0349b_row6_col1 {\n",
       "  background-color: #faf3f9;\n",
       "  color: #000000;\n",
       "}\n",
       "#T_0349b_row0_col3 {\n",
       "  background-color: #d3d4e7;\n",
       "  color: #000000;\n",
       "}\n",
       "#T_0349b_row0_col4 {\n",
       "  background-color: #eee9f3;\n",
       "  color: #000000;\n",
       "}\n",
       "#T_0349b_row0_col5 {\n",
       "  background-color: #fef6fb;\n",
       "  color: #000000;\n",
       "}\n",
       "#T_0349b_row0_col6, #T_0349b_row5_col2, #T_0349b_row7_col2 {\n",
       "  background-color: #f8f1f8;\n",
       "  color: #000000;\n",
       "}\n",
       "#T_0349b_row0_col7, #T_0349b_row5_col3 {\n",
       "  background-color: #d9d8ea;\n",
       "  color: #000000;\n",
       "}\n",
       "#T_0349b_row1_col0 {\n",
       "  background-color: #eee8f3;\n",
       "  color: #000000;\n",
       "}\n",
       "#T_0349b_row1_col2, #T_0349b_row7_col1 {\n",
       "  background-color: #fbf4f9;\n",
       "  color: #000000;\n",
       "}\n",
       "#T_0349b_row1_col3 {\n",
       "  background-color: #ced0e6;\n",
       "  color: #000000;\n",
       "}\n",
       "#T_0349b_row1_col4 {\n",
       "  background-color: #e7e3f0;\n",
       "  color: #000000;\n",
       "}\n",
       "#T_0349b_row1_col5, #T_0349b_row2_col0 {\n",
       "  background-color: #fbf3f9;\n",
       "  color: #000000;\n",
       "}\n",
       "#T_0349b_row1_col6 {\n",
       "  background-color: #f5eef6;\n",
       "  color: #000000;\n",
       "}\n",
       "#T_0349b_row1_col7, #T_0349b_row2_col7 {\n",
       "  background-color: #d2d2e7;\n",
       "  color: #000000;\n",
       "}\n",
       "#T_0349b_row2_col1, #T_0349b_row3_col4, #T_0349b_row3_col5, #T_0349b_row3_col6, #T_0349b_row3_col7, #T_0349b_row6_col2, #T_0349b_row7_col0, #T_0349b_row7_col3 {\n",
       "  background-color: #fff7fb;\n",
       "  color: #000000;\n",
       "}\n",
       "#T_0349b_row2_col3 {\n",
       "  background-color: #bbc7e0;\n",
       "  color: #000000;\n",
       "}\n",
       "#T_0349b_row2_col4, #T_0349b_row4_col3 {\n",
       "  background-color: #ede7f2;\n",
       "  color: #000000;\n",
       "}\n",
       "#T_0349b_row2_col6, #T_0349b_row4_col0, #T_0349b_row5_col0, #T_0349b_row5_col1 {\n",
       "  background-color: #fdf5fa;\n",
       "  color: #000000;\n",
       "}\n",
       "#T_0349b_row3_col1 {\n",
       "  background-color: #f9f2f8;\n",
       "  color: #000000;\n",
       "}\n",
       "#T_0349b_row3_col2 {\n",
       "  background-color: #e9e5f1;\n",
       "  color: #000000;\n",
       "}\n",
       "#T_0349b_row4_col1 {\n",
       "  background-color: #faf2f8;\n",
       "  color: #000000;\n",
       "}\n",
       "#T_0349b_row4_col5 {\n",
       "  background-color: #1278b4;\n",
       "  color: #f1f1f1;\n",
       "}\n",
       "#T_0349b_row4_col6 {\n",
       "  background-color: #1077b4;\n",
       "  color: #f1f1f1;\n",
       "}\n",
       "#T_0349b_row4_col7 {\n",
       "  background-color: #2081b9;\n",
       "  color: #f1f1f1;\n",
       "}\n",
       "#T_0349b_row5_col4 {\n",
       "  background-color: #0570b0;\n",
       "  color: #f1f1f1;\n",
       "}\n",
       "#T_0349b_row5_col6 {\n",
       "  background-color: #dfddec;\n",
       "  color: #000000;\n",
       "}\n",
       "#T_0349b_row5_col7 {\n",
       "  background-color: #c0c9e2;\n",
       "  color: #000000;\n",
       "}\n",
       "#T_0349b_row6_col3 {\n",
       "  background-color: #dddbec;\n",
       "  color: #000000;\n",
       "}\n",
       "#T_0349b_row6_col4 {\n",
       "  background-color: #0771b1;\n",
       "  color: #f1f1f1;\n",
       "}\n",
       "#T_0349b_row6_col5 {\n",
       "  background-color: #e4e1ef;\n",
       "  color: #000000;\n",
       "}\n",
       "#T_0349b_row6_col7 {\n",
       "  background-color: #6da6cd;\n",
       "  color: #f1f1f1;\n",
       "}\n",
       "#T_0349b_row7_col4 {\n",
       "  background-color: #308cbe;\n",
       "  color: #f1f1f1;\n",
       "}\n",
       "#T_0349b_row7_col5 {\n",
       "  background-color: #efe9f3;\n",
       "  color: #000000;\n",
       "}\n",
       "#T_0349b_row7_col6 {\n",
       "  background-color: #9ebad9;\n",
       "  color: #000000;\n",
       "}\n",
       "</style>\n",
       "<table id=\"T_0349b\">\n",
       "  <thead>\n",
       "    <tr>\n",
       "      <th class=\"blank level0\" >&nbsp;</th>\n",
       "      <th id=\"T_0349b_level0_col0\" class=\"col_heading level0 col0\" >rating</th>\n",
       "      <th id=\"T_0349b_level0_col1\" class=\"col_heading level0 col1\" >rating_count</th>\n",
       "      <th id=\"T_0349b_level0_col2\" class=\"col_heading level0 col2\" >total</th>\n",
       "      <th id=\"T_0349b_level0_col3\" class=\"col_heading level0 col3\" >servings</th>\n",
       "      <th id=\"T_0349b_level0_col4\" class=\"col_heading level0 col4\" >calories</th>\n",
       "      <th id=\"T_0349b_level0_col5\" class=\"col_heading level0 col5\" >carbohydrates_g</th>\n",
       "      <th id=\"T_0349b_level0_col6\" class=\"col_heading level0 col6\" >fat_g</th>\n",
       "      <th id=\"T_0349b_level0_col7\" class=\"col_heading level0 col7\" >protein_g</th>\n",
       "    </tr>\n",
       "  </thead>\n",
       "  <tbody>\n",
       "    <tr>\n",
       "      <th id=\"T_0349b_level0_row0\" class=\"row_heading level0 row0\" >rating</th>\n",
       "      <td id=\"T_0349b_row0_col0\" class=\"data row0 col0\" >1.000000</td>\n",
       "      <td id=\"T_0349b_row0_col1\" class=\"data row0 col1\" >0.097476</td>\n",
       "      <td id=\"T_0349b_row0_col2\" class=\"data row0 col2\" >0.009041</td>\n",
       "      <td id=\"T_0349b_row0_col3\" class=\"data row0 col3\" >0.013489</td>\n",
       "      <td id=\"T_0349b_row0_col4\" class=\"data row0 col4\" >-0.003495</td>\n",
       "      <td id=\"T_0349b_row0_col5\" class=\"data row0 col5\" >-0.008698</td>\n",
       "      <td id=\"T_0349b_row0_col6\" class=\"data row0 col6\" >0.011818</td>\n",
       "      <td id=\"T_0349b_row0_col7\" class=\"data row0 col7\" >-0.020999</td>\n",
       "    </tr>\n",
       "    <tr>\n",
       "      <th id=\"T_0349b_level0_row1\" class=\"row_heading level0 row1\" >rating_count</th>\n",
       "      <td id=\"T_0349b_row1_col0\" class=\"data row1 col0\" >0.097476</td>\n",
       "      <td id=\"T_0349b_row1_col1\" class=\"data row1 col1\" >1.000000</td>\n",
       "      <td id=\"T_0349b_row1_col2\" class=\"data row1 col2\" >0.000562</td>\n",
       "      <td id=\"T_0349b_row1_col3\" class=\"data row1 col3\" >0.040406</td>\n",
       "      <td id=\"T_0349b_row1_col4\" class=\"data row1 col4\" >0.037123</td>\n",
       "      <td id=\"T_0349b_row1_col5\" class=\"data row1 col5\" >0.018072</td>\n",
       "      <td id=\"T_0349b_row1_col6\" class=\"data row1 col6\" >0.032539</td>\n",
       "      <td id=\"T_0349b_row1_col7\" class=\"data row1 col7\" >0.025974</td>\n",
       "    </tr>\n",
       "    <tr>\n",
       "      <th id=\"T_0349b_level0_row2\" class=\"row_heading level0 row2\" >total</th>\n",
       "      <td id=\"T_0349b_row2_col0\" class=\"data row2 col0\" >0.009041</td>\n",
       "      <td id=\"T_0349b_row2_col1\" class=\"data row2 col1\" >0.000562</td>\n",
       "      <td id=\"T_0349b_row2_col2\" class=\"data row2 col2\" >1.000000</td>\n",
       "      <td id=\"T_0349b_row2_col3\" class=\"data row2 col3\" >0.117519</td>\n",
       "      <td id=\"T_0349b_row2_col4\" class=\"data row2 col4\" >0.008190</td>\n",
       "      <td id=\"T_0349b_row2_col5\" class=\"data row2 col5\" >0.020467</td>\n",
       "      <td id=\"T_0349b_row2_col6\" class=\"data row2 col6\" >-0.024076</td>\n",
       "      <td id=\"T_0349b_row2_col7\" class=\"data row2 col7\" >0.022811</td>\n",
       "    </tr>\n",
       "    <tr>\n",
       "      <th id=\"T_0349b_level0_row3\" class=\"row_heading level0 row3\" >servings</th>\n",
       "      <td id=\"T_0349b_row3_col0\" class=\"data row3 col0\" >0.013489</td>\n",
       "      <td id=\"T_0349b_row3_col1\" class=\"data row3 col1\" >0.040406</td>\n",
       "      <td id=\"T_0349b_row3_col2\" class=\"data row3 col2\" >0.117519</td>\n",
       "      <td id=\"T_0349b_row3_col3\" class=\"data row3 col3\" >1.000000</td>\n",
       "      <td id=\"T_0349b_row3_col4\" class=\"data row3 col4\" >-0.131690</td>\n",
       "      <td id=\"T_0349b_row3_col5\" class=\"data row3 col5\" >-0.013189</td>\n",
       "      <td id=\"T_0349b_row3_col6\" class=\"data row3 col6\" >-0.037799</td>\n",
       "      <td id=\"T_0349b_row3_col7\" class=\"data row3 col7\" >-0.289489</td>\n",
       "    </tr>\n",
       "    <tr>\n",
       "      <th id=\"T_0349b_level0_row4\" class=\"row_heading level0 row4\" >calories</th>\n",
       "      <td id=\"T_0349b_row4_col0\" class=\"data row4 col0\" >-0.003495</td>\n",
       "      <td id=\"T_0349b_row4_col1\" class=\"data row4 col1\" >0.037123</td>\n",
       "      <td id=\"T_0349b_row4_col2\" class=\"data row4 col2\" >0.008190</td>\n",
       "      <td id=\"T_0349b_row4_col3\" class=\"data row4 col3\" >-0.131690</td>\n",
       "      <td id=\"T_0349b_row4_col4\" class=\"data row4 col4\" >1.000000</td>\n",
       "      <td id=\"T_0349b_row4_col5\" class=\"data row4 col5\" >0.713058</td>\n",
       "      <td id=\"T_0349b_row4_col6\" class=\"data row4 col6\" >0.710195</td>\n",
       "      <td id=\"T_0349b_row4_col7\" class=\"data row4 col7\" >0.590367</td>\n",
       "    </tr>\n",
       "    <tr>\n",
       "      <th id=\"T_0349b_level0_row5\" class=\"row_heading level0 row5\" >carbohydrates_g</th>\n",
       "      <td id=\"T_0349b_row5_col0\" class=\"data row5 col0\" >-0.008698</td>\n",
       "      <td id=\"T_0349b_row5_col1\" class=\"data row5 col1\" >0.018072</td>\n",
       "      <td id=\"T_0349b_row5_col2\" class=\"data row5 col2\" >0.020467</td>\n",
       "      <td id=\"T_0349b_row5_col3\" class=\"data row5 col3\" >-0.013189</td>\n",
       "      <td id=\"T_0349b_row5_col4\" class=\"data row5 col4\" >0.713058</td>\n",
       "      <td id=\"T_0349b_row5_col5\" class=\"data row5 col5\" >1.000000</td>\n",
       "      <td id=\"T_0349b_row5_col6\" class=\"data row5 col6\" >0.152884</td>\n",
       "      <td id=\"T_0349b_row5_col7\" class=\"data row5 col7\" >0.095351</td>\n",
       "    </tr>\n",
       "    <tr>\n",
       "      <th id=\"T_0349b_level0_row6\" class=\"row_heading level0 row6\" >fat_g</th>\n",
       "      <td id=\"T_0349b_row6_col0\" class=\"data row6 col0\" >0.011818</td>\n",
       "      <td id=\"T_0349b_row6_col1\" class=\"data row6 col1\" >0.032539</td>\n",
       "      <td id=\"T_0349b_row6_col2\" class=\"data row6 col2\" >-0.024076</td>\n",
       "      <td id=\"T_0349b_row6_col3\" class=\"data row6 col3\" >-0.037799</td>\n",
       "      <td id=\"T_0349b_row6_col4\" class=\"data row6 col4\" >0.710195</td>\n",
       "      <td id=\"T_0349b_row6_col5\" class=\"data row6 col5\" >0.152884</td>\n",
       "      <td id=\"T_0349b_row6_col6\" class=\"data row6 col6\" >1.000000</td>\n",
       "      <td id=\"T_0349b_row6_col7\" class=\"data row6 col7\" >0.371858</td>\n",
       "    </tr>\n",
       "    <tr>\n",
       "      <th id=\"T_0349b_level0_row7\" class=\"row_heading level0 row7\" >protein_g</th>\n",
       "      <td id=\"T_0349b_row7_col0\" class=\"data row7 col0\" >-0.020999</td>\n",
       "      <td id=\"T_0349b_row7_col1\" class=\"data row7 col1\" >0.025974</td>\n",
       "      <td id=\"T_0349b_row7_col2\" class=\"data row7 col2\" >0.022811</td>\n",
       "      <td id=\"T_0349b_row7_col3\" class=\"data row7 col3\" >-0.289489</td>\n",
       "      <td id=\"T_0349b_row7_col4\" class=\"data row7 col4\" >0.590367</td>\n",
       "      <td id=\"T_0349b_row7_col5\" class=\"data row7 col5\" >0.095351</td>\n",
       "      <td id=\"T_0349b_row7_col6\" class=\"data row7 col6\" >0.371858</td>\n",
       "      <td id=\"T_0349b_row7_col7\" class=\"data row7 col7\" >1.000000</td>\n",
       "    </tr>\n",
       "  </tbody>\n",
       "</table>\n"
      ],
      "text/plain": [
       "<pandas.io.formats.style.Styler at 0x7f76ca345310>"
      ]
     },
     "execution_count": 1016,
     "metadata": {},
     "output_type": "execute_result"
    }
   ],
   "source": [
    "##Correlation matrix\n",
    "Recipe.corr().style.background_gradient()"
   ]
  },
  {
   "cell_type": "markdown",
   "metadata": {},
   "source": [
    "Insight: As expected, there's a correlation between calories and carb, fat & protein.\n"
   ]
  },
  {
   "cell_type": "code",
   "execution_count": 1017,
   "metadata": {},
   "outputs": [
    {
     "data": {
      "image/png": "[encoded data removed]",
      "text/plain": [
       "<Figure size 720x360 with 1 Axes>"
      ]
     },
     "metadata": {
      "needs_background": "light"
     },
     "output_type": "display_data"
    }
   ],
   "source": [
    "##Rating distribution\n",
    "plt.figure(figsize=(10,5))\n",
    "np.random.seed(6789)\n",
    "x = Recipe['rating']\n",
    "result = plt.hist(x, bins=150, color='c', edgecolor='k', alpha=0.65)\n",
    "plt.axvline(x.median(), color='k', linestyle='dashed', linewidth=1)\n",
    "min_ylim, max_ylim = plt.ylim()\n",
    "plt.text(x.median()*1.1, max_ylim*0.9, 'Median: {:.2f}'.format(x.median()))\n",
    "plt.title('Rating histogram')\n",
    "plt.xlabel('Rating')\n",
    "plt.ylabel('Count');"
   ]
  },
  {
   "cell_type": "markdown",
   "metadata": {},
   "source": [
    "Insight: Most of recipe were not rated. For the rated recipe, the distribution seems negativley skwewd & most of the rated recipe has rating of 5."
   ]
  },
  {
   "cell_type": "code",
   "execution_count": 1018,
   "metadata": {},
   "outputs": [
    {
     "data": {
      "image/png": "[encoded data removed]",
      "text/plain": [
       "<Figure size 432x288 with 1 Axes>"
      ]
     },
     "metadata": {
      "needs_background": "light"
     },
     "output_type": "display_data"
    }
   ],
   "source": [
    "##Calories/protein/carb/fat distribution\n",
    "sns.histplot(Recipe.calories, kde=True)\n",
    "plt.title('Calories Distribution');"
   ]
  },
  {
   "cell_type": "markdown",
   "metadata": {},
   "source": [
    "Inight: The calories seems normally distributed"
   ]
  },
  {
   "cell_type": "code",
   "execution_count": 1019,
   "metadata": {},
   "outputs": [
    {
     "data": {
      "image/png": "[encoded data removed]",
      "text/plain": [
       "<Figure size 432x288 with 1 Axes>"
      ]
     },
     "metadata": {
      "needs_background": "light"
     },
     "output_type": "display_data"
    }
   ],
   "source": [
    "sns.histplot(Recipe.protein_g, kde=True)\n",
    "plt.title('Protein Distribution');"
   ]
  },
  {
   "cell_type": "markdown",
   "metadata": {},
   "source": [
    "Inight: The protein seems positively skewed."
   ]
  },
  {
   "cell_type": "code",
   "execution_count": 1020,
   "metadata": {},
   "outputs": [
    {
     "data": {
      "image/png": "[encoded data removed]",
      "text/plain": [
       "<Figure size 432x288 with 1 Axes>"
      ]
     },
     "metadata": {
      "needs_background": "light"
     },
     "output_type": "display_data"
    }
   ],
   "source": [
    "sns.histplot(Recipe.carbohydrates_g, kde=True)\n",
    "plt.title('Carbs Distribution');"
   ]
  },
  {
   "cell_type": "code",
   "execution_count": 1021,
   "metadata": {},
   "outputs": [
    {
     "data": {
      "image/png": "[encoded data removed]",
      "text/plain": [
       "<Figure size 432x288 with 1 Axes>"
      ]
     },
     "metadata": {
      "needs_background": "light"
     },
     "output_type": "display_data"
    }
   ],
   "source": [
    "sns.histplot(Recipe.fat_g, kde=True)\n",
    "plt.title('Fat Distribution');"
   ]
  },
  {
   "cell_type": "markdown",
   "metadata": {},
   "source": [
    "Inight: The carbs seems positively skewed."
   ]
  },
  {
   "cell_type": "code",
   "execution_count": 1022,
   "metadata": {},
   "outputs": [
    {
     "data": {
      "image/png": "[encoded data removed]",
      "text/plain": [
       "<Figure size 432x288 with 1 Axes>"
      ]
     },
     "metadata": {
      "needs_background": "light"
     },
     "output_type": "display_data"
    }
   ],
   "source": [
    "##Total time distribution\n",
    "sns.histplot(Recipe.total, kde=True)\n",
    "plt.title('Total Cooking Time Distribution');"
   ]
  },
  {
   "cell_type": "code",
   "execution_count": 1023,
   "metadata": {},
   "outputs": [
    {
     "data": {
      "image/png": "[encoded data removed]",
      "text/plain": [
       "<Figure size 720x360 with 1 Axes>"
      ]
     },
     "metadata": {
      "needs_background": "light"
     },
     "output_type": "display_data"
    }
   ],
   "source": [
    "##Total time distribution\n",
    "plt.figure(figsize=(10,5))\n",
    "np.random.seed(6789)\n",
    "x = Recipe['total']\n",
    "result = plt.hist(x, bins=150, color='c', edgecolor='k', alpha=0.65)\n",
    "plt.axvline(x.median(), color='k', linestyle='dashed', linewidth=1)\n",
    "min_ylim, max_ylim = plt.ylim()\n",
    "plt.text(x.median()*1.1, max_ylim*0.9, 'Median: {:.2f}'.format(x.median()))\n",
    "plt.title('Total Cooking Time histogram')\n",
    "plt.xlabel('Total Cooking Time (mins)')\n",
    "plt.ylabel('Count');"
   ]
  },
  {
   "cell_type": "markdown",
   "metadata": {},
   "source": [
    "Insight: Time was positively skewed"
   ]
  },
  {
   "cell_type": "code",
   "execution_count": 1024,
   "metadata": {},
   "outputs": [
    {
     "data": {
      "image/png": "[encoded data removed]",
      "text/plain": [
       "<Figure size 720x360 with 1 Axes>"
      ]
     },
     "metadata": {
      "needs_background": "light"
     },
     "output_type": "display_data"
    }
   ],
   "source": [
    "\n",
    "##Recipe category count\n",
    "category_count = Recipe.category.value_counts()\n",
    "plt.figure(figsize=(10,5))\n",
    "category_count.plot.bar( x = \"Recipe Categories\")\n",
    "plt.title(\"Recipe Categories Count\")\n",
    "plt.xlabel(\"Recipe Categories\")\n",
    "plt.ylabel(\"Count\");"
   ]
  },
  {
   "cell_type": "markdown",
   "metadata": {},
   "source": [
    "Insight: Most of the recipe where appetizers & snacks"
   ]
  },
  {
   "cell_type": "code",
   "execution_count": 1025,
   "metadata": {},
   "outputs": [
    {
     "data": {
      "image/png": "[encoded data removed]",
      "text/plain": [
       "<Figure size 720x360 with 1 Axes>"
      ]
     },
     "metadata": {
      "needs_background": "light"
     },
     "output_type": "display_data"
    }
   ],
   "source": [
    "##Total time vs recipe category\n",
    "Med_time_category = Recipe.groupby(['category'])['total'].median()\n",
    "plt.figure(figsize=(10,5))\n",
    "Med_time_category.plot.bar( x = \"Recipe Categories\")\n",
    "plt.title(\"Median Cooking Time Vs Recipe Categories\")\n",
    "plt.xlabel(\"Recipe Categories\")\n",
    "plt.ylabel(\"Median Cooking Time\");"
   ]
  },
  {
   "cell_type": "markdown",
   "metadata": {},
   "source": [
    "Insight: BBQ has the heighest median time whereas drinks has the least"
   ]
  },
  {
   "cell_type": "code",
   "execution_count": 1026,
   "metadata": {},
   "outputs": [
    {
     "data": {
      "image/png": "[encoded data removed]",
      "text/plain": [
       "<Figure size 720x360 with 1 Axes>"
      ]
     },
     "metadata": {
      "needs_background": "light"
     },
     "output_type": "display_data"
    }
   ],
   "source": [
    "##Rating (avergae/median) vs recipe category\n",
    "Med_rate_category = Recipe.groupby(['category'])['rating'].median()\n",
    "plt.figure(figsize=(10,5))\n",
    "Med_rate_category.plot.bar( x = \"Recipe Categories\")\n",
    "plt.title(\"Median Rating Vs Recipe Categories\")\n",
    "plt.xlabel(\"Recipe Categories\")\n",
    "plt.ylabel(\"Median Rating\");"
   ]
  },
  {
   "cell_type": "markdown",
   "metadata": {},
   "source": [
    "Insight: Median rating are closely similar between categories"
   ]
  },
  {
   "cell_type": "code",
   "execution_count": 1027,
   "metadata": {},
   "outputs": [
    {
     "data": {
      "image/png": "[encoded data removed]",
      "text/plain": [
       "<Figure size 720x360 with 1 Axes>"
      ]
     },
     "metadata": {
      "needs_background": "light"
     },
     "output_type": "display_data"
    }
   ],
   "source": [
    "##Calories (mean) vs recipe category\n",
    "Mean_calories_category = Recipe.groupby(['category'])['calories'].mean()\n",
    "plt.figure(figsize=(10,5))\n",
    "Mean_calories_category.plot.bar( x = \"Recipe Categories\")\n",
    "plt.title(\"Mean Calories Vs Recipe Categories\")\n",
    "plt.xlabel(\"Recipe Categories\")\n",
    "plt.ylabel(\"Mean Calories per Serving\");\n"
   ]
  },
  {
   "cell_type": "markdown",
   "metadata": {},
   "source": [
    "Insight: Pasta & noodles category has the heighest calories mean, whereas appetizers & side-dishes has the lowest mean"
   ]
  },
  {
   "cell_type": "code",
   "execution_count": 1028,
   "metadata": {},
   "outputs": [
    {
     "data": {
      "image/png": "[encoded data removed]",
      "text/plain": [
       "<Figure size 720x360 with 1 Axes>"
      ]
     },
     "metadata": {
      "needs_background": "light"
     },
     "output_type": "display_data"
    }
   ],
   "source": [
    "##protein (median) vs recipe category\n",
    "Med_pro_category = Recipe.groupby(['category'])['protein_g'].median()\n",
    "plt.figure(figsize=(10,5))\n",
    "Med_pro_category.plot.bar( x = \"Recipe Categories\")\n",
    "plt.title(\"Median Protein Vs Recipe Categories\")\n",
    "plt.xlabel(\"Recipe Categories\")\n",
    "plt.ylabel(\"Median Protein (gram per Serving)\");\n"
   ]
  },
  {
   "cell_type": "markdown",
   "metadata": {},
   "source": [
    "Insight: Meat & poultry has the heighest protein per serving median followed by seafood & BBQ"
   ]
  },
  {
   "cell_type": "code",
   "execution_count": 1029,
   "metadata": {},
   "outputs": [
    {
     "data": {
      "image/png": "[encoded data removed]",
      "text/plain": [
       "<Figure size 720x360 with 1 Axes>"
      ]
     },
     "metadata": {
      "needs_background": "light"
     },
     "output_type": "display_data"
    }
   ],
   "source": [
    "##carb (median) vs recipe category\n",
    "Med_carb_category = Recipe.groupby(['category'])['carbohydrates_g'].median()\n",
    "plt.figure(figsize=(10,5))\n",
    "Med_carb_category.plot.bar( x = \"Recipe Categories\")\n",
    "plt.title(\"Median Carbs Vs Recipe Categories\")\n",
    "plt.xlabel(\"Recipe Categories\")\n",
    "plt.ylabel(\"Median Carbs (gram per Serving)\");"
   ]
  },
  {
   "cell_type": "markdown",
   "metadata": {},
   "source": [
    "Insight: As expected, desert has the heighest carbohydrates median, whereas appetizers had the lowest"
   ]
  },
  {
   "cell_type": "code",
   "execution_count": 1030,
   "metadata": {},
   "outputs": [
    {
     "data": {
      "image/png": "[encoded data removed]",
      "text/plain": [
       "<Figure size 720x360 with 1 Axes>"
      ]
     },
     "metadata": {
      "needs_background": "light"
     },
     "output_type": "display_data"
    }
   ],
   "source": [
    "##fat (median) vs recipe category\n",
    "Med_fat_category = Recipe.groupby(['category'])['fat_g'].median()\n",
    "plt.figure(figsize=(10,5))\n",
    "Med_fat_category.plot.bar( x = \"Recipe Categories\")\n",
    "plt.title(\"Median Fat Vs Recipe Categories\")\n",
    "plt.xlabel(\"Recipe Categories\")\n",
    "plt.ylabel(\"Median Fat (gram per Serving)\");\n"
   ]
  },
  {
   "cell_type": "markdown",
   "metadata": {},
   "source": [
    "Insight: Ingredients category has the heighest fat median, whereas drinks has the lowest"
   ]
  }
 ],
 "metadata": {
  "kernelspec": {
   "display_name": "Python 3.9.12 ('base')",
   "language": "python",
   "name": "python3"
  },
  "language_info": {
   "codemirror_mode": {
    "name": "ipython",
    "version": 3
   },
   "file_extension": ".py",
   "mimetype": "text/x-python",
   "name": "python",
   "nbconvert_exporter": "python",
   "pygments_lexer": "ipython3",
   "version": "3.9.12"
  },
  "orig_nbformat": 4,
  "vscode": {
   "interpreter": {
    "hash": "d4d1e4263499bec80672ea0156c357c1ee493ec2b1c70f0acce89fc37c4a6abe"
   }
  }
 },
 "nbformat": 4,
 "nbformat_minor": 2
}
