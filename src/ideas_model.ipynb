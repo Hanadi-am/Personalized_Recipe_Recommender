{
 "cells": [
  {
   "cell_type": "markdown",
   "metadata": {},
   "source": [
    "Create a filter function for numerical values (time, nutritional info)"
   ]
  },
  {
   "cell_type": "code",
   "execution_count": 3,
   "metadata": {},
   "outputs": [],
   "source": [
    "##libraries\n",
    "import pandas as pd\n",
    "import numpy as np"
   ]
  },
  {
   "cell_type": "code",
   "execution_count": null,
   "metadata": {},
   "outputs": [],
   "source": [
    "##Read data\n",
    "recipes = pd.read_csv(\"../data/full_clean_data.csv\", index_col=0)"
   ]
  },
  {
   "cell_type": "code",
   "execution_count": null,
   "metadata": {},
   "outputs": [],
   "source": [
    "##create function that filters the numerical input and returns a filtered dataframe \n",
    "#recipes[(recipes.total <= 10) & (recipes.calories <= 500) & (recipes.protein_g >= 20) & (recipes.carbohydrates_g <= 50) & (recipes.fat_g <=20)]\n",
    "#recipes[(recipes.calories >= 100) & (recipes.calories <= 150)]\n",
    "def myfilter(column, value1):\n",
    "     value_name=float(value1)\n",
    "     column_name=str(column)\n",
    "     newdf=recipes[recipes[column_name]==value_name]\n",
    "     return newdf;\n",
    "#\n",
    "myfilter('calories', 50)"
   ]
  },
  {
   "cell_type": "code",
   "execution_count": null,
   "metadata": {},
   "outputs": [],
   "source": [
    "##Creating range between column\n",
    "def totfilter(value1, value2):\n",
    "      value1_name=float(value1)\n",
    "      value2_name=float(value2)\n",
    "      newdf=recipes[(recipes.total >= value1_name) & (recipes.total <= value2_name)]\n",
    "      return newdf;\n",
    "#\n",
    "totfilter(1, 5)"
   ]
  },
  {
   "cell_type": "code",
   "execution_count": 113,
   "metadata": {},
   "outputs": [],
   "source": [
    "##How can I combine all functions together? so that I can filter within filter... ect?\n",
    "###TRIAL TO COMBINE ALL FUNCTIONS\n",
    "# def totfilter(value1, value2):\n",
    "#       value1_name=float(value1)\n",
    "#       value2_name=float(value2)\n",
    "#       newdf=recipes[(recipes.total >= value1_name) & (recipes.total <= value2_name)]\n",
    "#       def calfilter(x, y):\n",
    "#         x=float(x)\n",
    "#         y=float(y)\n",
    "#         newdf1=newdf[(recipes.calories >= x) & (recipes.calories <= y)]\n",
    "#         return newdf1;\n"
   ]
  },
  {
   "cell_type": "markdown",
   "metadata": {},
   "source": [
    "Create a recommendation function based on ingredients"
   ]
  },
  {
   "cell_type": "code",
   "execution_count": null,
   "metadata": {},
   "outputs": [],
   "source": [
    "##use the returned filtered dataframe to apply the ingredients recommendation function to get top 3 similar recipes"
   ]
  },
  {
   "cell_type": "code",
   "execution_count": 104,
   "metadata": {},
   "outputs": [
    {
     "name": "stdout",
     "output_type": "stream",
     "text": [
      "There are 1201672 words in the combination of all review.\n"
     ]
    }
   ],
   "source": [
    "#Reference: https://github.com/jackmleitch/whatscooking-deployment \n",
    "text = \" \".join(str(ingred) for ingred in recipes.ingredients_parsed)\n",
    "print (\"There are {} words in the combination of all review.\".format(len(text)))"
   ]
  },
  {
   "cell_type": "code",
   "execution_count": 106,
   "metadata": {},
   "outputs": [],
   "source": [
    "###FOLLOW THAT BLOG\n",
    "# Referernce https://medium.com/analytics-vidhya/what-is-content-based-filtering-an-applied-example-in-python-42acb4cbaa30 \n",
    "from sklearn.metrics.pairwise import cosine_similarity\n",
    "from sklearn.feature_extraction.text import TfidfVectorizer"
   ]
  },
  {
   "cell_type": "code",
   "execution_count": 114,
   "metadata": {},
   "outputs": [],
   "source": [
    "tfidf = TfidfVectorizer(stop_words='english')\n",
    "recipes['ingredients_parsed'] = recipes['ingredients_parsed'].fillna('')"
   ]
  },
  {
   "cell_type": "code",
   "execution_count": 115,
   "metadata": {},
   "outputs": [
    {
     "data": {
      "text/plain": [
       "(19224, 2545)"
      ]
     },
     "execution_count": 115,
     "metadata": {},
     "output_type": "execute_result"
    }
   ],
   "source": [
    "tfidf_matrix = tfidf.fit_transform(recipes['ingredients_parsed'])\n",
    "tfidf_matrix.shape\n",
    "#We have 19224 recipes and 75827 2545 words"
   ]
  },
  {
   "cell_type": "code",
   "execution_count": null,
   "metadata": {},
   "outputs": [],
   "source": [
    "##CRASHED!!\n",
    "##cosine_sim = cosine_similarity(tfidf_matrix, tfidf_matrix)"
   ]
  }
 ],
 "metadata": {
  "kernelspec": {
   "display_name": "Python 3.9.12 ('base')",
   "language": "python",
   "name": "python3"
  },
  "language_info": {
   "codemirror_mode": {
    "name": "ipython",
    "version": 3
   },
   "file_extension": ".py",
   "mimetype": "text/x-python",
   "name": "python",
   "nbconvert_exporter": "python",
   "pygments_lexer": "ipython3",
   "version": "3.9.12"
  },
  "orig_nbformat": 4,
  "vscode": {
   "interpreter": {
    "hash": "d4d1e4263499bec80672ea0156c357c1ee493ec2b1c70f0acce89fc37c4a6abe"
   }
  }
 },
 "nbformat": 4,
 "nbformat_minor": 2
}
